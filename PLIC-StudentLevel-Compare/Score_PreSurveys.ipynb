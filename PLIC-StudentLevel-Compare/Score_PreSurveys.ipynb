{
 "cells": [
  {
   "cell_type": "code",
   "execution_count": 1,
   "metadata": {},
   "outputs": [],
   "source": [
    "import os\n",
    "os.chdir('C:/Users/Cole/Documents/GitHub/PLIC/Automation-Files/')\n",
    "import Scoring\n",
    "import pandas as pd"
   ]
  },
  {
   "cell_type": "code",
   "execution_count": 2,
   "metadata": {},
   "outputs": [
    {
     "name": "stderr",
     "output_type": "stream",
     "text": [
      "C:\\Anaconda3\\lib\\site-packages\\IPython\\core\\interactiveshell.py:3058: DtypeWarning: Columns (4,15,30,33,50,63,66,78,99,102,113,126,145,150,153,193,197) have mixed types. Specify dtype option on import or set low_memory=False.\n",
      "  interactivity=interactivity, compiler=compiler, result=result)\n",
      "C:\\Anaconda3\\lib\\site-packages\\IPython\\core\\interactiveshell.py:3058: DtypeWarning: Columns (4,15,30,50,63,78,99,113,126,150,193) have mixed types. Specify dtype option on import or set low_memory=False.\n",
      "  interactivity=interactivity, compiler=compiler, result=result)\n"
     ]
    }
   ],
   "source": [
    "os.chdir('C:/Users/Cole/Documents/PLIC_DATA/')\n",
    "Weights = pd.read_excel('Weights_May2019.xlsx')\n",
    "\n",
    "os.chdir('./Collective_Surveys/')\n",
    "df_pre = pd.read_csv('PRE_Valid/PRE_Valid_Concat.csv')\n",
    "df_post = pd.read_csv('POST_Valid/POST_Valid_Concat.csv')"
   ]
  },
  {
   "cell_type": "code",
   "execution_count": 3,
   "metadata": {},
   "outputs": [],
   "source": [
    "df_preS = Scoring.CalcScore(df_pre, Weights.transpose()[0])\n",
    "df_preS.to_csv('C:/Users/Cole/Documents/GitHub/PLIC/PLIC-StudentLevel-Compare/Pre_Valid_Concat_Scored.csv', index = False)\n",
    "\n",
    "df_postS = Scoring.CalcScore(df_post, Weights.transpose()[0])\n",
    "df_postS.to_csv('C:/Users/Cole/Documents/GitHub/PLIC/PLIC-StudentLevel-Compare/Post_Valid_Concat_Scored.csv', index = False)"
   ]
  }
 ],
 "metadata": {
  "kernelspec": {
   "display_name": "Python 3",
   "language": "python",
   "name": "python3"
  },
  "language_info": {
   "codemirror_mode": {
    "name": "ipython",
    "version": 3
   },
   "file_extension": ".py",
   "mimetype": "text/x-python",
   "name": "python",
   "nbconvert_exporter": "python",
   "pygments_lexer": "ipython3",
   "version": "3.6.6"
  }
 },
 "nbformat": 4,
 "nbformat_minor": 2
}
