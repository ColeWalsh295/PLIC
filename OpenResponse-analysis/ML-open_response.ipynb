{
 "cells": [
  {
   "cell_type": "code",
   "execution_count": 1,
   "metadata": {},
   "outputs": [
    {
     "name": "stderr",
     "output_type": "stream",
     "text": [
      "In C:\\Anaconda3\\lib\\site-packages\\matplotlib\\mpl-data\\stylelib\\_classic_test.mplstyle: \n",
      "The savefig.frameon rcparam was deprecated in Matplotlib 3.1 and will be removed in 3.3.\n",
      "In C:\\Anaconda3\\lib\\site-packages\\matplotlib\\mpl-data\\stylelib\\_classic_test.mplstyle: \n",
      "The verbose.level rcparam was deprecated in Matplotlib 3.1 and will be removed in 3.3.\n",
      "In C:\\Anaconda3\\lib\\site-packages\\matplotlib\\mpl-data\\stylelib\\_classic_test.mplstyle: \n",
      "The verbose.fileo rcparam was deprecated in Matplotlib 3.1 and will be removed in 3.3.\n"
     ]
    }
   ],
   "source": [
    "import numpy as np\n",
    "import pandas as pd\n",
    "from nltk import word_tokenize\n",
    "from nltk.tokenize import RegexpTokenizer\n",
    "from nltk.stem import PorterStemmer\n",
    "from sklearn.model_selection import GridSearchCV, train_test_split\n",
    "from sklearn.pipeline import Pipeline\n",
    "from sklearn.feature_extraction.text import TfidfVectorizer\n",
    "from sklearn.svm import SVC\n",
    "from sklearn import metrics\n",
    "import matplotlib.pyplot as plt\n",
    "plt.style.use('fivethirtyeight')\n",
    "import warnings\n",
    "warnings.filterwarnings('ignore')"
   ]
  },
  {
   "cell_type": "markdown",
   "metadata": {},
   "source": [
    "# Load and clean data functions"
   ]
  },
  {
   "cell_type": "code",
   "execution_count": 2,
   "metadata": {},
   "outputs": [],
   "source": [
    "df_complete = pd.read_csv('C:/Users/Cole/Documents/DATA/PLIC_DATA/Collective_Surveys/Complete/Complete_Concat.csv')\n",
    "df_beta = pd.read_excel('C:/Users/Cole/Documents/DATA/PLIC_DATA/Data_from_development/Coded_FR/PLIC_beta_FR_Tim+Saaj_collapsed.xlsx').fillna(0)\n",
    "\n",
    "def GetQColumns(df, Q, suffix = ''):\n",
    "    df_temp = df.loc[:, [col for col in df.columns if ((Q in col) & (('_' + suffix) in col) & ('l' not in col))]]\n",
    "    other_col = [col for col in df_temp.columns if 'TEXT' in col][0].split('_')[1]\n",
    "    df_temp = df_temp.loc[:, [col for col in df_temp.columns if other_col not in col]]\n",
    "    return df_temp\n",
    "\n",
    "def GetNewResponses(df, Q):\n",
    "    def GetPrePost(df, suffix):\n",
    "        df_temp = df.loc[df['Survey_' + suffix] == 'F', :]\n",
    "        df_temp = GetQColumns(df_temp, Q, suffix)\n",
    "        df_temp = df_temp.dropna(subset = [col for col in df_temp.columns if col != (Q + '_' + suffix)], how = 'all')\n",
    "        df_temp.columns = [col[:-2] for col in df_temp.columns]\n",
    "        return df_temp\n",
    "        \n",
    "    df_pre = GetPrePost(df, 'x')\n",
    "    df_post = GetPrePost(df, 'y')\n",
    "    return pd.concat([df_pre, df_post], axis = 0).reset_index(drop = True).fillna(0)\n",
    "\n",
    "def GetOldResponses(df, Q, collapse = True, reset = True):\n",
    "    df_temp = df.loc[:, [col for col in df.columns if Q in col]]\n",
    "    \n",
    "    if collapse:\n",
    "        cols = list(set(['_'.join(col.split('_')[:2]) for col in df_temp.columns if '_' in col]))\n",
    "        cols = [col.replace('.1', '') for col in cols]\n",
    "        for col_new in cols:\n",
    "            df_temp[col_new] = 1 * (df_temp.loc[:, [col for col in df_temp.columns[1:] if \n",
    "                                                    col_new.split('_')[-1] == col.split('_')[1]]].sum(axis = 1) > 0)\n",
    "    else:\n",
    "        cols = ['_'.join(col.split('_')[:2]).replace('.1', '') for col in df_temp.columns if '_' in col]\n",
    "        df_temp.columns = [Q] + cols\n",
    "    \n",
    "    if reset:\n",
    "        df_temp = df_temp.loc[df_temp[cols].sum(axis = 1) > 0, :]\n",
    "        cols.append(Q)\n",
    "        return df_temp[cols].reset_index(drop = True)\n",
    "    else:\n",
    "        cols.append(Q)\n",
    "        return df_temp[cols]\n",
    "    \n",
    "def GetAllData(df_old, df_new, Q):\n",
    "    df_old = GetOldResponses(df_old, Q)\n",
    "    df_new = GetNewResponses(df_new, Q)\n",
    "    return pd.concat([df_old, df_new], axis = 0, join = 'outer').loc[:, list(df_new.columns)].reset_index(drop = True).sample(frac = 1, random_state = 11).reset_index(drop = True)\n",
    "\n",
    "def CompareHumans(Q, who, cols = None):\n",
    "    if(who == 'NH'):\n",
    "        df_nh = pd.read_excel('C:/Users/Cole/Documents/DATA/PLIC_DATA/Coded_OR/NH/Comparison_Set_NH.xlsx', skiprows = [1])\n",
    "        df_cw_small = pd.read_excel('C:/Users/Cole/Documents/DATA/PLIC_DATA/Coded_OR/CW/Comparison_Set_CW.xlsx', skiprows = [1])\n",
    "\n",
    "        df_nh = GetQColumns(df_nh, Q).notnull().astype(int)\n",
    "        df_cw_small = GetQColumns(df_cw_small, Q).notnull().astype(int)\n",
    "        rows = (df_nh.sum(axis = 1) > 0) & (df_cw_small.sum(axis = 1) > 0)\n",
    "        df_nh = df_nh.loc[rows, :]\n",
    "        df_cw_small = df_cw_small.loc[rows, :]\n",
    "        \n",
    "        return df_nh, df_cw_small\n",
    "    else:\n",
    "        df_undergrads = pd.read_excel('C:/Users/Cole/Documents/DATA/PLIC_DATA/Data_from_development/Coded_FR/PLIC_beta_FR_Tim+Saaj_collapsed.xlsx').fillna(0)\n",
    "        df_cw_large = pd.read_excel('C:/Users/Cole/Documents/DATA/PLIC_DATA/Data_from_development/Coded_FR/PLIC_beta_FR_CW_collapsed.xlsx', skiprows = [1]).fillna(0)\n",
    "        df_undergrads = GetOldResponses(df_undergrads, Q, False, False).loc[:, cols]\n",
    "        df_cw_large = GetOldResponses(df_cw_large, Q, True, False).loc[:, cols]\n",
    "        rows = (df_undergrads.sum(axis = 1) > 0) & (df_cw_large.sum(axis = 1) > 0)\n",
    "        df_undergrads = df_undergrads.loc[rows, :]\n",
    "        df_cw_large = df_cw_large.loc[rows, :]\n",
    "        \n",
    "        return df_undergrads, df_cw_large"
   ]
  },
  {
   "cell_type": "markdown",
   "metadata": {},
   "source": [
    "# ML pipeline"
   ]
  },
  {
   "cell_type": "code",
   "execution_count": 3,
   "metadata": {},
   "outputs": [],
   "source": [
    "Scoring = 'f1'\n",
    "CV = 5\n",
    "\n",
    "class LemmaTokenizer(object):\n",
    "    def __init__(self):\n",
    "        self.wnl = WordNetLemmatizer()\n",
    "    def __call__(self, doc):\n",
    "        Tokenizer = RegexpTokenizer(r'\\w+|%|\\+|\\-')\n",
    "        return [self.wnl.lemmatize(t) for t in Tokenizer.tokenize(doc)]\n",
    "    \n",
    "class StemTokenizer(object):\n",
    "    def __init__(self):\n",
    "        self.ps = PorterStemmer()\n",
    "    def __call__(self, doc):\n",
    "        Tokenizer = RegexpTokenizer(r'\\w+|%|\\+|\\-')\n",
    "        return [self.ps.stem(t) for t in Tokenizer.tokenize(doc)]\n",
    "\n",
    "def CodeFR(df, Q, Scoring, CV):\n",
    "    # add stemming\n",
    "    Pipe = Pipeline([\n",
    "                    ('TFIDF', TfidfVectorizer(stop_words = 'english', tokenizer = StemTokenizer(), ngram_range = (1, 2), \n",
    "                                              max_features = 1000)),\n",
    "                    ('SVM', SVC(kernel = 'linear', random_state = 11))\n",
    "                    ])\n",
    "\n",
    "    Params = {\n",
    "            'SVM__C': (0.001, 0.01, 0.1, 1),\n",
    "            }\n",
    "    Grid_Search = GridSearchCV(Pipe, Params, n_jobs = 1, verbose = 1, cv = CV, scoring = Scoring)\n",
    "\n",
    "    X = df[Q].astype(str).fillna('')\n",
    "    y = df.drop(Q, axis = 1)\n",
    "    X_train, X_test, y_train, y_test = train_test_split(X, y, test_size = 0.2, random_state = 11)\n",
    "\n",
    "    df_new1, df_new2 = CompareHumans(Q, 'NH')\n",
    "    df_old1, df_old2 = CompareHumans(Q, 'undergrads', [Q] + list(y_train.columns))\n",
    "    \n",
    "    F1_scores_ML = []\n",
    "    F1_scores_NH = []\n",
    "    F1_scores_Undergrads = []\n",
    "    drop_cols = []\n",
    "    for col in y_train.columns:\n",
    "        na_rows_train = np.array(np.isnan(y_train[col]))\n",
    "        if y_train[col].nunique() < 2:\n",
    "            drop_cols.append(col)\n",
    "            continue\n",
    "        Grid_Search.fit(X_train[~na_rows_train], y_train.loc[~na_rows_train, col])\n",
    "        \n",
    "        na_rows_test = np.array(np.isnan(y_test[col]))\n",
    "        y_pred = Grid_Search.predict(X_test[~na_rows_test])\n",
    "\n",
    "        print(col)\n",
    "        \n",
    "        print('\\nML\\n')\n",
    "        print(metrics.confusion_matrix(y_test.loc[~na_rows_test, col], y_pred))\n",
    "        F1_scores_ML.append(metrics.f1_score(y_test.loc[~na_rows_test, col], y_pred))\n",
    "        \n",
    "        print('\\nNH\\n')\n",
    "        try:\n",
    "            print(metrics.confusion_matrix(df_new1.loc[:, col], df_new2.loc[:, col]))\n",
    "            F1_scores_NH.append(metrics.f1_score(df_new1.loc[:, col], df_new2.loc[:, col]))\n",
    "        except:\n",
    "            F1_scores_NH.append(None)\n",
    "        \n",
    "        if(Q in ['Q1b', 'Q1d', 'Q1e']):\n",
    "            print('\\nUndergrads\\n')\n",
    "            try:\n",
    "                print(metrics.confusion_matrix(df_old1.loc[:, col], df_old2.loc[:, col]))\n",
    "                F1_scores_Undergrads.append(metrics.f1_score(df_old1.loc[:, col], df_old2.loc[:, col]))\n",
    "            except:\n",
    "                F1_scores_Undergrads.append(None)\n",
    "    if Q in ['Q1b', 'Q1d', 'Q1e']:\n",
    "        return pd.DataFrame({'Q': y_train.drop(columns = drop_cols).columns, 'ML': F1_scores_ML, 'NH': F1_scores_NH, \n",
    "                             'Undergrads': F1_scores_Undergrads})\n",
    "    else:\n",
    "        return pd.DataFrame({'Q': y_train.drop(columns = drop_cols).columns, 'ML': F1_scores_ML, 'NH': F1_scores_NH})      "
   ]
  },
  {
   "cell_type": "markdown",
   "metadata": {},
   "source": [
    "# Question Q1B"
   ]
  },
  {
   "cell_type": "code",
   "execution_count": 5,
   "metadata": {},
   "outputs": [
    {
     "name": "stdout",
     "output_type": "stream",
     "text": [
      "Fitting 5 folds for each of 4 candidates, totalling 20 fits\n"
     ]
    },
    {
     "name": "stderr",
     "output_type": "stream",
     "text": [
      "[Parallel(n_jobs=1)]: Using backend SequentialBackend with 1 concurrent workers.\n",
      "[Parallel(n_jobs=1)]: Done  20 out of  20 | elapsed:    5.2s finished\n"
     ]
    },
    {
     "name": "stdout",
     "output_type": "stream",
     "text": [
      "Q1b_16\n",
      "\n",
      "ML\n",
      "\n",
      "[[137   1]\n",
      " [  7   7]]\n",
      "\n",
      "NH\n",
      "\n",
      "[[48  0]\n",
      " [ 1  0]]\n",
      "\n",
      "Undergrads\n",
      "\n",
      "[[417   3]\n",
      " [  5  28]]\n",
      "Fitting 5 folds for each of 4 candidates, totalling 20 fits\n"
     ]
    },
    {
     "name": "stderr",
     "output_type": "stream",
     "text": [
      "[Parallel(n_jobs=1)]: Using backend SequentialBackend with 1 concurrent workers.\n",
      "[Parallel(n_jobs=1)]: Done  20 out of  20 | elapsed:    8.2s finished\n"
     ]
    },
    {
     "name": "stdout",
     "output_type": "stream",
     "text": [
      "Q1b_28\n",
      "\n",
      "ML\n",
      "\n",
      "[[121   3]\n",
      " [ 24   4]]\n",
      "\n",
      "NH\n",
      "\n",
      "[[31  2]\n",
      " [ 5 11]]\n",
      "\n",
      "Undergrads\n",
      "\n",
      "[[392  19]\n",
      " [  9  33]]\n",
      "Fitting 5 folds for each of 4 candidates, totalling 20 fits\n"
     ]
    },
    {
     "name": "stderr",
     "output_type": "stream",
     "text": [
      "[Parallel(n_jobs=1)]: Using backend SequentialBackend with 1 concurrent workers.\n",
      "[Parallel(n_jobs=1)]: Done  20 out of  20 | elapsed:    8.5s finished\n"
     ]
    },
    {
     "name": "stdout",
     "output_type": "stream",
     "text": [
      "Q1b_2\n",
      "\n",
      "ML\n",
      "\n",
      "[[70 22]\n",
      " [14 46]]\n",
      "\n",
      "NH\n",
      "\n",
      "[[33  6]\n",
      " [ 5  5]]\n",
      "\n",
      "Undergrads\n",
      "\n",
      "[[200  17]\n",
      " [ 19 217]]\n",
      "Fitting 5 folds for each of 4 candidates, totalling 20 fits\n"
     ]
    },
    {
     "name": "stderr",
     "output_type": "stream",
     "text": [
      "[Parallel(n_jobs=1)]: Using backend SequentialBackend with 1 concurrent workers.\n",
      "[Parallel(n_jobs=1)]: Done  20 out of  20 | elapsed:    8.1s finished\n"
     ]
    },
    {
     "name": "stdout",
     "output_type": "stream",
     "text": [
      "Q1b_31\n",
      "\n",
      "ML\n",
      "\n",
      "[[143   2]\n",
      " [  4   3]]\n",
      "\n",
      "NH\n",
      "\n",
      "[[47  1]\n",
      " [ 0  1]]\n",
      "\n",
      "Undergrads\n",
      "\n",
      "[[394  12]\n",
      " [  3  44]]\n",
      "Fitting 5 folds for each of 4 candidates, totalling 20 fits\n"
     ]
    },
    {
     "name": "stderr",
     "output_type": "stream",
     "text": [
      "[Parallel(n_jobs=1)]: Using backend SequentialBackend with 1 concurrent workers.\n",
      "[Parallel(n_jobs=1)]: Done  20 out of  20 | elapsed:    8.1s finished\n"
     ]
    },
    {
     "name": "stdout",
     "output_type": "stream",
     "text": [
      "Q1b_5\n",
      "\n",
      "ML\n",
      "\n",
      "[[72 11]\n",
      " [21 48]]\n",
      "\n",
      "NH\n",
      "\n",
      "[[19  2]\n",
      " [ 2 26]]\n",
      "\n",
      "Undergrads\n",
      "\n",
      "[[237   9]\n",
      " [ 14 193]]\n",
      "Fitting 5 folds for each of 4 candidates, totalling 20 fits\n"
     ]
    },
    {
     "name": "stderr",
     "output_type": "stream",
     "text": [
      "[Parallel(n_jobs=1)]: Using backend SequentialBackend with 1 concurrent workers.\n",
      "[Parallel(n_jobs=1)]: Done  20 out of  20 | elapsed:    7.8s finished\n"
     ]
    },
    {
     "name": "stdout",
     "output_type": "stream",
     "text": [
      "Q1b_8\n",
      "\n",
      "ML\n",
      "\n",
      "[[137   2]\n",
      " [  3  10]]\n",
      "\n",
      "NH\n",
      "\n",
      "[[44  0]\n",
      " [ 1  4]]\n",
      "\n",
      "Undergrads\n",
      "\n",
      "[[412   0]\n",
      " [  2  39]]\n"
     ]
    },
    {
     "data": {
      "text/html": [
       "<div>\n",
       "<style scoped>\n",
       "    .dataframe tbody tr th:only-of-type {\n",
       "        vertical-align: middle;\n",
       "    }\n",
       "\n",
       "    .dataframe tbody tr th {\n",
       "        vertical-align: top;\n",
       "    }\n",
       "\n",
       "    .dataframe thead th {\n",
       "        text-align: right;\n",
       "    }\n",
       "</style>\n",
       "<table border=\"1\" class=\"dataframe\">\n",
       "  <thead>\n",
       "    <tr style=\"text-align: right;\">\n",
       "      <th></th>\n",
       "      <th>Q</th>\n",
       "      <th>ML</th>\n",
       "      <th>NH</th>\n",
       "      <th>Undergrads</th>\n",
       "    </tr>\n",
       "  </thead>\n",
       "  <tbody>\n",
       "    <tr>\n",
       "      <th>0</th>\n",
       "      <td>Q1b_16</td>\n",
       "      <td>0.636364</td>\n",
       "      <td>0.000000</td>\n",
       "      <td>0.875000</td>\n",
       "    </tr>\n",
       "    <tr>\n",
       "      <th>1</th>\n",
       "      <td>Q1b_28</td>\n",
       "      <td>0.228571</td>\n",
       "      <td>0.758621</td>\n",
       "      <td>0.702128</td>\n",
       "    </tr>\n",
       "    <tr>\n",
       "      <th>2</th>\n",
       "      <td>Q1b_2</td>\n",
       "      <td>0.718750</td>\n",
       "      <td>0.476190</td>\n",
       "      <td>0.923404</td>\n",
       "    </tr>\n",
       "    <tr>\n",
       "      <th>3</th>\n",
       "      <td>Q1b_31</td>\n",
       "      <td>0.500000</td>\n",
       "      <td>0.666667</td>\n",
       "      <td>0.854369</td>\n",
       "    </tr>\n",
       "    <tr>\n",
       "      <th>4</th>\n",
       "      <td>Q1b_5</td>\n",
       "      <td>0.750000</td>\n",
       "      <td>0.928571</td>\n",
       "      <td>0.943765</td>\n",
       "    </tr>\n",
       "    <tr>\n",
       "      <th>5</th>\n",
       "      <td>Q1b_8</td>\n",
       "      <td>0.800000</td>\n",
       "      <td>0.888889</td>\n",
       "      <td>0.975000</td>\n",
       "    </tr>\n",
       "  </tbody>\n",
       "</table>\n",
       "</div>"
      ],
      "text/plain": [
       "        Q        ML        NH  Undergrads\n",
       "0  Q1b_16  0.636364  0.000000    0.875000\n",
       "1  Q1b_28  0.228571  0.758621    0.702128\n",
       "2   Q1b_2  0.718750  0.476190    0.923404\n",
       "3  Q1b_31  0.500000  0.666667    0.854369\n",
       "4   Q1b_5  0.750000  0.928571    0.943765\n",
       "5   Q1b_8  0.800000  0.888889    0.975000"
      ]
     },
     "execution_count": 5,
     "metadata": {},
     "output_type": "execute_result"
    }
   ],
   "source": [
    "df_1b = GetAllData(df_beta, df_complete, 'Q1b')\n",
    "CodeFR(df_1b, 'Q1b', Scoring, CV)"
   ]
  },
  {
   "cell_type": "markdown",
   "metadata": {},
   "source": [
    "# Question Q1D"
   ]
  },
  {
   "cell_type": "code",
   "execution_count": 35,
   "metadata": {},
   "outputs": [
    {
     "name": "stdout",
     "output_type": "stream",
     "text": [
      "Fitting 5 folds for each of 4 candidates, totalling 20 fits\n"
     ]
    },
    {
     "name": "stderr",
     "output_type": "stream",
     "text": [
      "[Parallel(n_jobs=1)]: Using backend SequentialBackend with 1 concurrent workers.\n",
      "[Parallel(n_jobs=1)]: Done  20 out of  20 | elapsed:    7.0s finished\n"
     ]
    },
    {
     "name": "stdout",
     "output_type": "stream",
     "text": [
      "Q1d_1\n",
      "\n",
      "ML\n",
      "\n",
      "[[61 15]\n",
      " [11 47]]\n",
      "\n",
      "NH\n",
      "\n",
      "[[21  0]\n",
      " [ 1 21]]\n",
      "\n",
      "Undergrads\n",
      "\n",
      "[[36  1]\n",
      " [ 3 34]]\n",
      "Fitting 5 folds for each of 4 candidates, totalling 20 fits\n"
     ]
    },
    {
     "name": "stderr",
     "output_type": "stream",
     "text": [
      "[Parallel(n_jobs=1)]: Using backend SequentialBackend with 1 concurrent workers.\n",
      "[Parallel(n_jobs=1)]: Done  20 out of  20 | elapsed:    8.3s finished\n"
     ]
    },
    {
     "name": "stdout",
     "output_type": "stream",
     "text": [
      "Q1d_3\n",
      "\n",
      "ML\n",
      "\n",
      "[[86  6]\n",
      " [14 28]]\n",
      "\n",
      "NH\n",
      "\n",
      "[[33  0]\n",
      " [ 1  9]]\n",
      "\n",
      "Undergrads\n",
      "\n",
      "[[39  0]\n",
      " [ 3 32]]\n",
      "Fitting 5 folds for each of 4 candidates, totalling 20 fits\n"
     ]
    },
    {
     "name": "stderr",
     "output_type": "stream",
     "text": [
      "[Parallel(n_jobs=1)]: Using backend SequentialBackend with 1 concurrent workers.\n",
      "[Parallel(n_jobs=1)]: Done  20 out of  20 | elapsed:    8.0s finished\n"
     ]
    },
    {
     "name": "stdout",
     "output_type": "stream",
     "text": [
      "Q1d_51\n",
      "\n",
      "ML\n",
      "\n",
      "[[129   0]\n",
      " [  5   0]]\n",
      "\n",
      "NH\n",
      "\n",
      "[[40  0]\n",
      " [ 2  1]]\n",
      "\n",
      "Undergrads\n",
      "\n",
      "[[67  1]\n",
      " [ 5  1]]\n",
      "Fitting 5 folds for each of 4 candidates, totalling 20 fits\n"
     ]
    },
    {
     "name": "stderr",
     "output_type": "stream",
     "text": [
      "[Parallel(n_jobs=1)]: Using backend SequentialBackend with 1 concurrent workers.\n",
      "[Parallel(n_jobs=1)]: Done  20 out of  20 | elapsed:    8.7s finished\n"
     ]
    },
    {
     "name": "stdout",
     "output_type": "stream",
     "text": [
      "Q1d_53\n",
      "\n",
      "ML\n",
      "\n",
      "[[114   2]\n",
      " [ 14   4]]\n",
      "\n",
      "NH\n",
      "\n",
      "[[39  1]\n",
      " [ 0  3]]\n",
      "\n",
      "Undergrads\n",
      "\n",
      "[[62  2]\n",
      " [ 6  4]]\n",
      "Fitting 5 folds for each of 4 candidates, totalling 20 fits\n"
     ]
    },
    {
     "name": "stderr",
     "output_type": "stream",
     "text": [
      "[Parallel(n_jobs=1)]: Using backend SequentialBackend with 1 concurrent workers.\n",
      "[Parallel(n_jobs=1)]: Done  20 out of  20 | elapsed:    8.2s finished\n"
     ]
    },
    {
     "name": "stdout",
     "output_type": "stream",
     "text": [
      "Q1d_55\n",
      "\n",
      "ML\n",
      "\n",
      "[[124   0]\n",
      " [  5   5]]\n",
      "\n",
      "NH\n",
      "\n",
      "[[38  0]\n",
      " [ 1  4]]\n",
      "\n",
      "Undergrads\n",
      "\n",
      "[[66  1]\n",
      " [ 1  6]]\n",
      "Fitting 5 folds for each of 4 candidates, totalling 20 fits\n"
     ]
    },
    {
     "name": "stderr",
     "output_type": "stream",
     "text": [
      "[Parallel(n_jobs=1)]: Using backend SequentialBackend with 1 concurrent workers.\n",
      "[Parallel(n_jobs=1)]: Done  20 out of  20 | elapsed:    8.0s finished\n"
     ]
    },
    {
     "name": "stdout",
     "output_type": "stream",
     "text": [
      "Q1d_57\n",
      "\n",
      "ML\n",
      "\n",
      "[[118   2]\n",
      " [ 10   4]]\n",
      "\n",
      "NH\n",
      "\n",
      "[[40  2]\n",
      " [ 0  1]]\n",
      "\n",
      "Undergrads\n",
      "\n",
      "[[61  1]\n",
      " [ 2 10]]\n",
      "Fitting 5 folds for each of 4 candidates, totalling 20 fits\n"
     ]
    },
    {
     "name": "stderr",
     "output_type": "stream",
     "text": [
      "[Parallel(n_jobs=1)]: Using backend SequentialBackend with 1 concurrent workers.\n",
      "[Parallel(n_jobs=1)]: Done  20 out of  20 | elapsed:    8.0s finished\n"
     ]
    },
    {
     "name": "stdout",
     "output_type": "stream",
     "text": [
      "Q1d_59\n",
      "\n",
      "ML\n",
      "\n",
      "[[122   1]\n",
      " [ 10   1]]\n",
      "\n",
      "NH\n",
      "\n",
      "[[38  0]\n",
      " [ 2  3]]\n",
      "\n",
      "Undergrads\n",
      "\n",
      "[[40 21]\n",
      " [ 5  8]]\n",
      "Fitting 5 folds for each of 4 candidates, totalling 20 fits\n"
     ]
    },
    {
     "name": "stderr",
     "output_type": "stream",
     "text": [
      "[Parallel(n_jobs=1)]: Using backend SequentialBackend with 1 concurrent workers.\n",
      "[Parallel(n_jobs=1)]: Done  20 out of  20 | elapsed:    8.2s finished\n"
     ]
    },
    {
     "name": "stdout",
     "output_type": "stream",
     "text": [
      "Q1d_5\n",
      "\n",
      "ML\n",
      "\n",
      "[[101   4]\n",
      " [  6  23]]\n",
      "\n",
      "NH\n",
      "\n",
      "[[26  1]\n",
      " [ 1 15]]\n",
      "\n",
      "Undergrads\n",
      "\n",
      "[[56  0]\n",
      " [ 2 16]]\n",
      "Fitting 5 folds for each of 4 candidates, totalling 20 fits\n"
     ]
    },
    {
     "name": "stderr",
     "output_type": "stream",
     "text": [
      "[Parallel(n_jobs=1)]: Using backend SequentialBackend with 1 concurrent workers.\n",
      "[Parallel(n_jobs=1)]: Done  20 out of  20 | elapsed:    7.3s finished\n"
     ]
    },
    {
     "name": "stdout",
     "output_type": "stream",
     "text": [
      "Q1d_61\n",
      "\n",
      "ML\n",
      "\n",
      "[[129   0]\n",
      " [  5   0]]\n",
      "\n",
      "NH\n",
      "\n",
      "[[43]]\n",
      "\n",
      "Undergrads\n",
      "\n",
      "[[66  1]\n",
      " [ 5  2]]\n",
      "Fitting 5 folds for each of 4 candidates, totalling 20 fits\n"
     ]
    },
    {
     "name": "stderr",
     "output_type": "stream",
     "text": [
      "[Parallel(n_jobs=1)]: Using backend SequentialBackend with 1 concurrent workers.\n",
      "[Parallel(n_jobs=1)]: Done  20 out of  20 | elapsed:    8.0s finished\n"
     ]
    },
    {
     "name": "stdout",
     "output_type": "stream",
     "text": [
      "Q1d_63\n",
      "\n",
      "ML\n",
      "\n",
      "[[110   5]\n",
      " [ 15   4]]\n",
      "\n",
      "NH\n",
      "\n",
      "[[39  1]\n",
      " [ 1  2]]\n",
      "\n",
      "Undergrads\n",
      "\n",
      "[[64  3]\n",
      " [ 4  3]]\n"
     ]
    },
    {
     "data": {
      "text/html": [
       "<div>\n",
       "<style scoped>\n",
       "    .dataframe tbody tr th:only-of-type {\n",
       "        vertical-align: middle;\n",
       "    }\n",
       "\n",
       "    .dataframe tbody tr th {\n",
       "        vertical-align: top;\n",
       "    }\n",
       "\n",
       "    .dataframe thead th {\n",
       "        text-align: right;\n",
       "    }\n",
       "</style>\n",
       "<table border=\"1\" class=\"dataframe\">\n",
       "  <thead>\n",
       "    <tr style=\"text-align: right;\">\n",
       "      <th></th>\n",
       "      <th>Q</th>\n",
       "      <th>ML</th>\n",
       "      <th>NH</th>\n",
       "      <th>Undergrads</th>\n",
       "    </tr>\n",
       "  </thead>\n",
       "  <tbody>\n",
       "    <tr>\n",
       "      <th>0</th>\n",
       "      <td>Q1d_1</td>\n",
       "      <td>0.783333</td>\n",
       "      <td>0.976744</td>\n",
       "      <td>0.944444</td>\n",
       "    </tr>\n",
       "    <tr>\n",
       "      <th>1</th>\n",
       "      <td>Q1d_3</td>\n",
       "      <td>0.736842</td>\n",
       "      <td>0.947368</td>\n",
       "      <td>0.955224</td>\n",
       "    </tr>\n",
       "    <tr>\n",
       "      <th>2</th>\n",
       "      <td>Q1d_51</td>\n",
       "      <td>0.000000</td>\n",
       "      <td>0.500000</td>\n",
       "      <td>0.250000</td>\n",
       "    </tr>\n",
       "    <tr>\n",
       "      <th>3</th>\n",
       "      <td>Q1d_53</td>\n",
       "      <td>0.333333</td>\n",
       "      <td>0.857143</td>\n",
       "      <td>0.500000</td>\n",
       "    </tr>\n",
       "    <tr>\n",
       "      <th>4</th>\n",
       "      <td>Q1d_55</td>\n",
       "      <td>0.666667</td>\n",
       "      <td>0.888889</td>\n",
       "      <td>0.857143</td>\n",
       "    </tr>\n",
       "    <tr>\n",
       "      <th>5</th>\n",
       "      <td>Q1d_57</td>\n",
       "      <td>0.400000</td>\n",
       "      <td>0.500000</td>\n",
       "      <td>0.869565</td>\n",
       "    </tr>\n",
       "    <tr>\n",
       "      <th>6</th>\n",
       "      <td>Q1d_59</td>\n",
       "      <td>0.153846</td>\n",
       "      <td>0.750000</td>\n",
       "      <td>0.380952</td>\n",
       "    </tr>\n",
       "    <tr>\n",
       "      <th>7</th>\n",
       "      <td>Q1d_5</td>\n",
       "      <td>0.821429</td>\n",
       "      <td>0.937500</td>\n",
       "      <td>0.941176</td>\n",
       "    </tr>\n",
       "    <tr>\n",
       "      <th>8</th>\n",
       "      <td>Q1d_61</td>\n",
       "      <td>0.000000</td>\n",
       "      <td>0.000000</td>\n",
       "      <td>0.400000</td>\n",
       "    </tr>\n",
       "    <tr>\n",
       "      <th>9</th>\n",
       "      <td>Q1d_63</td>\n",
       "      <td>0.285714</td>\n",
       "      <td>0.666667</td>\n",
       "      <td>0.461538</td>\n",
       "    </tr>\n",
       "  </tbody>\n",
       "</table>\n",
       "</div>"
      ],
      "text/plain": [
       "        Q        ML        NH  Undergrads\n",
       "0   Q1d_1  0.783333  0.976744    0.944444\n",
       "1   Q1d_3  0.736842  0.947368    0.955224\n",
       "2  Q1d_51  0.000000  0.500000    0.250000\n",
       "3  Q1d_53  0.333333  0.857143    0.500000\n",
       "4  Q1d_55  0.666667  0.888889    0.857143\n",
       "5  Q1d_57  0.400000  0.500000    0.869565\n",
       "6  Q1d_59  0.153846  0.750000    0.380952\n",
       "7   Q1d_5  0.821429  0.937500    0.941176\n",
       "8  Q1d_61  0.000000  0.000000    0.400000\n",
       "9  Q1d_63  0.285714  0.666667    0.461538"
      ]
     },
     "execution_count": 35,
     "metadata": {},
     "output_type": "execute_result"
    }
   ],
   "source": [
    "df_1d = GetAllData(df_beta, df_complete, 'Q1d')\n",
    "CodeFR(df_1d, 'Q1d', Scoring, CV)"
   ]
  },
  {
   "cell_type": "markdown",
   "metadata": {},
   "source": [
    "# Question Q1E"
   ]
  },
  {
   "cell_type": "code",
   "execution_count": 36,
   "metadata": {},
   "outputs": [
    {
     "name": "stdout",
     "output_type": "stream",
     "text": [
      "Fitting 5 folds for each of 4 candidates, totalling 20 fits\n"
     ]
    },
    {
     "name": "stderr",
     "output_type": "stream",
     "text": [
      "[Parallel(n_jobs=1)]: Using backend SequentialBackend with 1 concurrent workers.\n",
      "[Parallel(n_jobs=1)]: Done  20 out of  20 | elapsed:    4.0s finished\n"
     ]
    },
    {
     "name": "stdout",
     "output_type": "stream",
     "text": [
      "Q1e_13\n",
      "\n",
      "ML\n",
      "\n",
      "[[120   1]\n",
      " [  8  12]]\n",
      "\n",
      "NH\n",
      "\n",
      "[[45  0]\n",
      " [ 0  5]]\n",
      "\n",
      "Undergrads\n",
      "\n",
      "[[63  1]\n",
      " [ 0 11]]\n",
      "Fitting 5 folds for each of 4 candidates, totalling 20 fits\n"
     ]
    },
    {
     "name": "stderr",
     "output_type": "stream",
     "text": [
      "[Parallel(n_jobs=1)]: Using backend SequentialBackend with 1 concurrent workers.\n",
      "[Parallel(n_jobs=1)]: Done  20 out of  20 | elapsed:    4.2s finished\n"
     ]
    },
    {
     "name": "stdout",
     "output_type": "stream",
     "text": [
      "Q1e_14\n",
      "\n",
      "ML\n",
      "\n",
      "[[117   9]\n",
      " [  9   6]]\n",
      "\n",
      "NH\n",
      "\n",
      "[[46  0]\n",
      " [ 0  4]]\n",
      "\n",
      "Undergrads\n",
      "\n",
      "[[54  4]\n",
      " [10  7]]\n",
      "Fitting 5 folds for each of 4 candidates, totalling 20 fits\n"
     ]
    },
    {
     "name": "stderr",
     "output_type": "stream",
     "text": [
      "[Parallel(n_jobs=1)]: Using backend SequentialBackend with 1 concurrent workers.\n",
      "[Parallel(n_jobs=1)]: Done  20 out of  20 | elapsed:    5.6s finished\n"
     ]
    },
    {
     "name": "stdout",
     "output_type": "stream",
     "text": [
      "Q1e_16\n",
      "\n",
      "ML\n",
      "\n",
      "[[132   0]\n",
      " [  9   0]]\n",
      "\n",
      "NH\n",
      "\n",
      "[[48  0]\n",
      " [ 0  2]]\n",
      "\n",
      "Undergrads\n",
      "\n",
      "[[72  0]\n",
      " [ 1  2]]\n",
      "Fitting 5 folds for each of 4 candidates, totalling 20 fits\n"
     ]
    },
    {
     "name": "stderr",
     "output_type": "stream",
     "text": [
      "[Parallel(n_jobs=1)]: Using backend SequentialBackend with 1 concurrent workers.\n",
      "[Parallel(n_jobs=1)]: Done  20 out of  20 | elapsed:    5.8s finished\n"
     ]
    },
    {
     "name": "stdout",
     "output_type": "stream",
     "text": [
      "Q1e_17\n",
      "\n",
      "ML\n",
      "\n",
      "[[133   0]\n",
      " [  6   2]]\n",
      "\n",
      "NH\n",
      "\n",
      "[[50]]\n",
      "\n",
      "Undergrads\n",
      "\n",
      "[[71  1]\n",
      " [ 1  2]]\n",
      "Fitting 5 folds for each of 4 candidates, totalling 20 fits\n"
     ]
    },
    {
     "name": "stderr",
     "output_type": "stream",
     "text": [
      "[Parallel(n_jobs=1)]: Using backend SequentialBackend with 1 concurrent workers.\n",
      "[Parallel(n_jobs=1)]: Done  20 out of  20 | elapsed:    5.5s finished\n"
     ]
    },
    {
     "name": "stdout",
     "output_type": "stream",
     "text": [
      "Q1e_18\n",
      "\n",
      "ML\n",
      "\n",
      "[[137   0]\n",
      " [  4   0]]\n",
      "\n",
      "NH\n",
      "\n",
      "[[49  0]\n",
      " [ 1  0]]\n",
      "\n",
      "Undergrads\n",
      "\n",
      "[[72  0]\n",
      " [ 0  3]]\n",
      "Fitting 5 folds for each of 4 candidates, totalling 20 fits\n"
     ]
    },
    {
     "name": "stderr",
     "output_type": "stream",
     "text": [
      "[Parallel(n_jobs=1)]: Using backend SequentialBackend with 1 concurrent workers.\n",
      "[Parallel(n_jobs=1)]: Done  20 out of  20 | elapsed:    5.9s finished\n"
     ]
    },
    {
     "name": "stdout",
     "output_type": "stream",
     "text": [
      "Q1e_19\n",
      "\n",
      "ML\n",
      "\n",
      "[[133   0]\n",
      " [  8   0]]\n",
      "\n",
      "NH\n",
      "\n",
      "[[48  0]\n",
      " [ 0  2]]\n",
      "\n",
      "Undergrads\n",
      "\n",
      "[[67  0]\n",
      " [ 5  3]]\n",
      "Fitting 5 folds for each of 4 candidates, totalling 20 fits\n"
     ]
    },
    {
     "name": "stderr",
     "output_type": "stream",
     "text": [
      "[Parallel(n_jobs=1)]: Using backend SequentialBackend with 1 concurrent workers.\n",
      "[Parallel(n_jobs=1)]: Done  20 out of  20 | elapsed:    6.0s finished\n"
     ]
    },
    {
     "name": "stdout",
     "output_type": "stream",
     "text": [
      "Q1e_1\n",
      "\n",
      "ML\n",
      "\n",
      "[[45 11]\n",
      " [11 74]]\n",
      "\n",
      "NH\n",
      "\n",
      "[[15  0]\n",
      " [ 1 34]]\n",
      "\n",
      "Undergrads\n",
      "\n",
      "[[24  2]\n",
      " [ 4 45]]\n",
      "Fitting 5 folds for each of 4 candidates, totalling 20 fits\n"
     ]
    },
    {
     "name": "stderr",
     "output_type": "stream",
     "text": [
      "[Parallel(n_jobs=1)]: Using backend SequentialBackend with 1 concurrent workers.\n",
      "[Parallel(n_jobs=1)]: Done  20 out of  20 | elapsed:    5.7s finished\n"
     ]
    },
    {
     "name": "stdout",
     "output_type": "stream",
     "text": [
      "Q1e_20\n",
      "\n",
      "ML\n",
      "\n",
      "[[131   0]\n",
      " [  1   9]]\n",
      "\n",
      "NH\n",
      "\n",
      "[[44  0]\n",
      " [ 1  5]]\n",
      "\n",
      "Undergrads\n",
      "\n",
      "[[67  0]\n",
      " [ 0  8]]\n",
      "Fitting 5 folds for each of 4 candidates, totalling 20 fits\n"
     ]
    },
    {
     "name": "stderr",
     "output_type": "stream",
     "text": [
      "[Parallel(n_jobs=1)]: Using backend SequentialBackend with 1 concurrent workers.\n",
      "[Parallel(n_jobs=1)]: Done  20 out of  20 | elapsed:    6.2s finished\n"
     ]
    },
    {
     "name": "stdout",
     "output_type": "stream",
     "text": [
      "Q1e_23\n",
      "\n",
      "ML\n",
      "\n",
      "[[130   2]\n",
      " [  3   6]]\n",
      "\n",
      "NH\n",
      "\n",
      "[[47  0]\n",
      " [ 1  2]]\n",
      "\n",
      "Undergrads\n",
      "\n",
      "[[69  0]\n",
      " [ 1  5]]\n",
      "Fitting 5 folds for each of 4 candidates, totalling 20 fits\n"
     ]
    },
    {
     "name": "stderr",
     "output_type": "stream",
     "text": [
      "[Parallel(n_jobs=1)]: Using backend SequentialBackend with 1 concurrent workers.\n",
      "[Parallel(n_jobs=1)]: Done  20 out of  20 | elapsed:    5.8s finished\n"
     ]
    },
    {
     "name": "stdout",
     "output_type": "stream",
     "text": [
      "Q1e_24\n",
      "\n",
      "ML\n",
      "\n",
      "[[135   0]\n",
      " [  6   0]]\n",
      "\n",
      "NH\n",
      "\n",
      "[[50]]\n",
      "\n",
      "Undergrads\n",
      "\n",
      "[[69  0]\n",
      " [ 4  2]]\n",
      "Fitting 5 folds for each of 4 candidates, totalling 20 fits\n"
     ]
    },
    {
     "name": "stderr",
     "output_type": "stream",
     "text": [
      "[Parallel(n_jobs=1)]: Using backend SequentialBackend with 1 concurrent workers.\n",
      "[Parallel(n_jobs=1)]: Done  20 out of  20 | elapsed:    5.5s finished\n"
     ]
    },
    {
     "name": "stdout",
     "output_type": "stream",
     "text": [
      "Q1e_28\n",
      "\n",
      "ML\n",
      "\n",
      "[[141]]\n",
      "\n",
      "NH\n",
      "\n",
      "[[50]]\n",
      "\n",
      "Undergrads\n",
      "\n",
      "[[75]]\n",
      "Fitting 5 folds for each of 4 candidates, totalling 20 fits\n"
     ]
    },
    {
     "name": "stderr",
     "output_type": "stream",
     "text": [
      "[Parallel(n_jobs=1)]: Using backend SequentialBackend with 1 concurrent workers.\n",
      "[Parallel(n_jobs=1)]: Done  20 out of  20 | elapsed:    5.7s finished\n"
     ]
    },
    {
     "name": "stdout",
     "output_type": "stream",
     "text": [
      "Q1e_4\n",
      "\n",
      "ML\n",
      "\n",
      "[[126   1]\n",
      " [  9   5]]\n",
      "\n",
      "NH\n",
      "\n",
      "[[46  0]\n",
      " [ 0  4]]\n",
      "\n",
      "Undergrads\n",
      "\n",
      "[[66  2]\n",
      " [ 0  7]]\n"
     ]
    },
    {
     "data": {
      "text/html": [
       "<div>\n",
       "<style scoped>\n",
       "    .dataframe tbody tr th:only-of-type {\n",
       "        vertical-align: middle;\n",
       "    }\n",
       "\n",
       "    .dataframe tbody tr th {\n",
       "        vertical-align: top;\n",
       "    }\n",
       "\n",
       "    .dataframe thead th {\n",
       "        text-align: right;\n",
       "    }\n",
       "</style>\n",
       "<table border=\"1\" class=\"dataframe\">\n",
       "  <thead>\n",
       "    <tr style=\"text-align: right;\">\n",
       "      <th></th>\n",
       "      <th>Q</th>\n",
       "      <th>ML</th>\n",
       "      <th>NH</th>\n",
       "      <th>Undergrads</th>\n",
       "    </tr>\n",
       "  </thead>\n",
       "  <tbody>\n",
       "    <tr>\n",
       "      <th>0</th>\n",
       "      <td>Q1e_13</td>\n",
       "      <td>0.727273</td>\n",
       "      <td>1.000000</td>\n",
       "      <td>0.956522</td>\n",
       "    </tr>\n",
       "    <tr>\n",
       "      <th>1</th>\n",
       "      <td>Q1e_14</td>\n",
       "      <td>0.400000</td>\n",
       "      <td>1.000000</td>\n",
       "      <td>0.500000</td>\n",
       "    </tr>\n",
       "    <tr>\n",
       "      <th>2</th>\n",
       "      <td>Q1e_16</td>\n",
       "      <td>0.000000</td>\n",
       "      <td>1.000000</td>\n",
       "      <td>0.800000</td>\n",
       "    </tr>\n",
       "    <tr>\n",
       "      <th>3</th>\n",
       "      <td>Q1e_17</td>\n",
       "      <td>0.400000</td>\n",
       "      <td>0.000000</td>\n",
       "      <td>0.666667</td>\n",
       "    </tr>\n",
       "    <tr>\n",
       "      <th>4</th>\n",
       "      <td>Q1e_18</td>\n",
       "      <td>0.000000</td>\n",
       "      <td>0.000000</td>\n",
       "      <td>1.000000</td>\n",
       "    </tr>\n",
       "    <tr>\n",
       "      <th>5</th>\n",
       "      <td>Q1e_19</td>\n",
       "      <td>0.000000</td>\n",
       "      <td>1.000000</td>\n",
       "      <td>0.545455</td>\n",
       "    </tr>\n",
       "    <tr>\n",
       "      <th>6</th>\n",
       "      <td>Q1e_1</td>\n",
       "      <td>0.870588</td>\n",
       "      <td>0.985507</td>\n",
       "      <td>0.937500</td>\n",
       "    </tr>\n",
       "    <tr>\n",
       "      <th>7</th>\n",
       "      <td>Q1e_20</td>\n",
       "      <td>0.947368</td>\n",
       "      <td>0.909091</td>\n",
       "      <td>1.000000</td>\n",
       "    </tr>\n",
       "    <tr>\n",
       "      <th>8</th>\n",
       "      <td>Q1e_23</td>\n",
       "      <td>0.705882</td>\n",
       "      <td>0.800000</td>\n",
       "      <td>0.909091</td>\n",
       "    </tr>\n",
       "    <tr>\n",
       "      <th>9</th>\n",
       "      <td>Q1e_24</td>\n",
       "      <td>0.000000</td>\n",
       "      <td>0.000000</td>\n",
       "      <td>0.500000</td>\n",
       "    </tr>\n",
       "    <tr>\n",
       "      <th>10</th>\n",
       "      <td>Q1e_28</td>\n",
       "      <td>0.000000</td>\n",
       "      <td>0.000000</td>\n",
       "      <td>0.000000</td>\n",
       "    </tr>\n",
       "    <tr>\n",
       "      <th>11</th>\n",
       "      <td>Q1e_4</td>\n",
       "      <td>0.500000</td>\n",
       "      <td>1.000000</td>\n",
       "      <td>0.875000</td>\n",
       "    </tr>\n",
       "  </tbody>\n",
       "</table>\n",
       "</div>"
      ],
      "text/plain": [
       "         Q        ML        NH  Undergrads\n",
       "0   Q1e_13  0.727273  1.000000    0.956522\n",
       "1   Q1e_14  0.400000  1.000000    0.500000\n",
       "2   Q1e_16  0.000000  1.000000    0.800000\n",
       "3   Q1e_17  0.400000  0.000000    0.666667\n",
       "4   Q1e_18  0.000000  0.000000    1.000000\n",
       "5   Q1e_19  0.000000  1.000000    0.545455\n",
       "6    Q1e_1  0.870588  0.985507    0.937500\n",
       "7   Q1e_20  0.947368  0.909091    1.000000\n",
       "8   Q1e_23  0.705882  0.800000    0.909091\n",
       "9   Q1e_24  0.000000  0.000000    0.500000\n",
       "10  Q1e_28  0.000000  0.000000    0.000000\n",
       "11   Q1e_4  0.500000  1.000000    0.875000"
      ]
     },
     "execution_count": 36,
     "metadata": {},
     "output_type": "execute_result"
    }
   ],
   "source": [
    "df_1e = GetAllData(df_beta, df_complete, 'Q1e')\n",
    "CodeFR(df_1e, 'Q1e', Scoring, CV)"
   ]
  },
  {
   "cell_type": "code",
   "execution_count": 6,
   "metadata": {},
   "outputs": [
    {
     "data": {
      "text/plain": [
       "677"
      ]
     },
     "execution_count": 6,
     "metadata": {},
     "output_type": "execute_result"
    }
   ],
   "source": [
    "df_2b = GetAllData(df_beta, df_complete, 'Q2b')\n",
    "CodeFR(df_2b, 'Q2b', Scoring, CV)"
   ]
  }
 ],
 "metadata": {
  "kernelspec": {
   "display_name": "Python 3",
   "language": "python",
   "name": "python3"
  },
  "language_info": {
   "codemirror_mode": {
    "name": "ipython",
    "version": 3
   },
   "file_extension": ".py",
   "mimetype": "text/x-python",
   "name": "python",
   "nbconvert_exporter": "python",
   "pygments_lexer": "ipython3",
   "version": "3.6.10"
  }
 },
 "nbformat": 4,
 "nbformat_minor": 4
}
