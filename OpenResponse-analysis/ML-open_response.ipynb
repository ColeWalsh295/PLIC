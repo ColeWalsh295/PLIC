{
 "cells": [
  {
   "cell_type": "code",
   "execution_count": 41,
   "metadata": {},
   "outputs": [],
   "source": [
    "import numpy as np\n",
    "import pandas as pd\n",
    "from nltk import word_tokenize\n",
    "from nltk.tokenize import RegexpTokenizer\n",
    "from nltk.stem import PorterStemmer\n",
    "from sklearn.model_selection import GridSearchCV, train_test_split\n",
    "from sklearn.pipeline import Pipeline\n",
    "from sklearn.feature_extraction.text import TfidfVectorizer\n",
    "from sklearn.svm import SVC\n",
    "from sklearn.linear_model import LogisticRegression\n",
    "from sklearn.naive_bayes import MultinomialNB\n",
    "from sklearn import metrics\n",
    "import matplotlib\n",
    "import matplotlib.pyplot as plt\n",
    "plt.style.use('seaborn-white')\n",
    "import warnings\n",
    "warnings.filterwarnings('ignore')"
   ]
  },
  {
   "cell_type": "markdown",
   "metadata": {},
   "source": [
    "# Load and clean data functions"
   ]
  },
  {
   "cell_type": "code",
   "execution_count": 2,
   "metadata": {},
   "outputs": [],
   "source": [
    "df_complete = pd.read_csv('C:/Users/Cole/Documents/DATA/PLIC_DATA/Collective_Surveys/Complete/Complete_Concat.csv')\n",
    "df_beta = pd.read_excel('C:/Users/Cole/Documents/DATA/PLIC_DATA/Data_from_development/Coded_FR/PLIC_beta_FR_Tim+Saaj_collapsed.xlsx').fillna(0)\n",
    "\n",
    "def GetQColumns(df, Q, suffix = ''):\n",
    "    df_temp = df.loc[:, [col for col in df.columns if ((Q in col) & (('_' + suffix) in col) & ('l' not in col))]]\n",
    "    other_col = [col for col in df_temp.columns if 'TEXT' in col][0].split('_')[1]\n",
    "    df_temp = df_temp.loc[:, [col for col in df_temp.columns if other_col not in col]]\n",
    "    return df_temp\n",
    "\n",
    "def GetNewResponses(df, Q):\n",
    "    def GetPrePost(df, suffix):\n",
    "        df_temp = df.loc[df['Survey_' + suffix] == 'F', :]\n",
    "        df_temp = GetQColumns(df_temp, Q, suffix)\n",
    "        df_temp = df_temp.dropna(subset = [col for col in df_temp.columns if col != (Q + '_' + suffix)], how = 'all')\n",
    "        df_temp.columns = [col[:-2] for col in df_temp.columns]\n",
    "        return df_temp\n",
    "        \n",
    "    df_pre = GetPrePost(df, 'x')\n",
    "    df_post = GetPrePost(df, 'y')\n",
    "    return pd.concat([df_pre, df_post], axis = 0).reset_index(drop = True).fillna(0)\n",
    "\n",
    "def GetOldResponses(df, Q, collapse = True, reset = True):\n",
    "    df_temp = df.loc[:, [col for col in df.columns if Q in col]]\n",
    "    \n",
    "    if collapse:\n",
    "        cols = list(set(['_'.join(col.split('_')[:2]) for col in df_temp.columns if '_' in col]))\n",
    "        cols = [col.replace('.1', '') for col in cols]\n",
    "        for col_new in cols:\n",
    "            df_temp[col_new] = 1 * (df_temp.loc[:, [col for col in df_temp.columns[1:] if \n",
    "                                                    col_new.split('_')[-1] == col.split('_')[1]]].sum(axis = 1) > 0)\n",
    "    else:\n",
    "        cols = ['_'.join(col.split('_')[:2]).replace('.1', '') for col in df_temp.columns if '_' in col]\n",
    "        df_temp.columns = [Q] + cols\n",
    "    \n",
    "    if reset:\n",
    "        df_temp = df_temp.loc[df_temp[cols].sum(axis = 1) > 0, :]\n",
    "        cols.append(Q)\n",
    "        return df_temp[cols].reset_index(drop = True)\n",
    "    else:\n",
    "        cols.append(Q)\n",
    "        return df_temp[cols]\n",
    "    \n",
    "def GetAllData(df_old, df_new, Q):\n",
    "    df_old = GetOldResponses(df_old, Q)\n",
    "    df_new = GetNewResponses(df_new, Q)\n",
    "    return pd.concat([df_old, df_new], axis = 0, join = 'outer').loc[:, list(df_new.columns)].reset_index(drop = True).sample(frac = 1, random_state = 11).reset_index(drop = True)\n",
    "\n",
    "def CompareHumans(Q, who, cols = None):\n",
    "    if(who == 'NH'):\n",
    "        df_nh = pd.read_excel('C:/Users/Cole/Documents/DATA/PLIC_DATA/Coded_OR/NH/Comparison_Set_NH.xlsx', skiprows = [1])\n",
    "        df_cw_small = pd.read_excel('C:/Users/Cole/Documents/DATA/PLIC_DATA/Coded_OR/CW/Comparison_Set_CW.xlsx', skiprows = [1])\n",
    "\n",
    "        df_nh = GetQColumns(df_nh, Q).notnull().astype(int)\n",
    "        df_cw_small = GetQColumns(df_cw_small, Q).notnull().astype(int)\n",
    "        rows = (df_nh.sum(axis = 1) > 0) & (df_cw_small.sum(axis = 1) > 0)\n",
    "        df_nh = df_nh.loc[rows, :]\n",
    "        df_cw_small = df_cw_small.loc[rows, :]\n",
    "        \n",
    "        return df_nh, df_cw_small\n",
    "    else:\n",
    "        df_undergrads = pd.read_excel('C:/Users/Cole/Documents/DATA/PLIC_DATA/Data_from_development/Coded_FR/PLIC_beta_FR_Tim+Saaj_collapsed.xlsx').fillna(0)\n",
    "        df_cw_large = pd.read_excel('C:/Users/Cole/Documents/DATA/PLIC_DATA/Data_from_development/Coded_FR/PLIC_beta_FR_CW_collapsed.xlsx', skiprows = [1]).fillna(0)\n",
    "        df_undergrads = GetOldResponses(df_undergrads, Q, False, False).loc[:, cols]\n",
    "        df_cw_large = GetOldResponses(df_cw_large, Q, True, False).loc[:, cols]\n",
    "        rows = (df_undergrads.sum(axis = 1) > 0) & (df_cw_large.sum(axis = 1) > 0)\n",
    "        df_undergrads = df_undergrads.loc[rows, :]\n",
    "        df_cw_large = df_cw_large.loc[rows, :]\n",
    "        \n",
    "        return df_undergrads, df_cw_large"
   ]
  },
  {
   "cell_type": "markdown",
   "metadata": {},
   "source": [
    "# ML pipeline"
   ]
  },
  {
   "cell_type": "code",
   "execution_count": 12,
   "metadata": {},
   "outputs": [],
   "source": [
    "Scoring = 'f1'\n",
    "CV = 5\n",
    "\n",
    "class LemmaTokenizer(object):\n",
    "    def __init__(self):\n",
    "        self.wnl = WordNetLemmatizer()\n",
    "    def __call__(self, doc):\n",
    "        Tokenizer = RegexpTokenizer(r'\\w+|%|\\+|\\-')\n",
    "        return [self.wnl.lemmatize(t) for t in Tokenizer.tokenize(doc)]\n",
    "    \n",
    "class StemTokenizer(object):\n",
    "    def __init__(self):\n",
    "        self.ps = PorterStemmer()\n",
    "    def __call__(self, doc):\n",
    "        Tokenizer = RegexpTokenizer(r'\\w+|%|\\+|\\-')\n",
    "        return [self.ps.stem(t) for t in Tokenizer.tokenize(doc)]\n",
    "\n",
    "def CodeFR(df, Q, Scoring, CV, alg):\n",
    "    steps = [('TFIDF', TfidfVectorizer(stop_words = 'english', tokenizer = StemTokenizer(), ngram_range = (1, 2), \n",
    "                                       max_features = 1000))]\n",
    "    if alg == 'SVM':\n",
    "        steps.append(('SVM', SVC(kernel = 'linear', random_state = 11, class_weight = 'balanced')))\n",
    "        Params = {\n",
    "            'SVM__C': (0.001, 0.01, 0.1, 1)\n",
    "        }\n",
    "    elif alg == 'NB':\n",
    "        steps.append(('NB', MultinomialNB()))\n",
    "        Params = {\n",
    "            'NB__alpha': (0.001, 0.01, 0.1, 1)\n",
    "        }\n",
    "    else:\n",
    "        steps.append(('Logit', LogisticRegression(random_state = 11, class_weight = 'balanced')))\n",
    "        Params = {\n",
    "            'Logit__C': (0.001, 0.01, 0.1, 1)\n",
    "        }                           \n",
    "    Pipe = Pipeline(steps)\n",
    "\n",
    "    Grid_Search = GridSearchCV(Pipe, Params, n_jobs = 1, verbose = 1, cv = CV, scoring = Scoring)\n",
    "\n",
    "    X = df[Q].astype(str).fillna('')\n",
    "    y = df.drop(Q, axis = 1)\n",
    "    X_train, X_test, y_train, y_test = train_test_split(X, y, test_size = 0.2, random_state = 11)\n",
    "\n",
    "    df_new1, df_new2 = CompareHumans(Q, 'NH')\n",
    "    df_old1, df_old2 = CompareHumans(Q, 'undergrads', [Q] + list(y_train.columns))\n",
    "    \n",
    "    F1_scores_ML = []\n",
    "    F1_scores_NH = []\n",
    "    F1_scores_Undergrads = []\n",
    "    drop_cols = []\n",
    "    counts = []\n",
    "    fracs = []\n",
    "    for col in y_train.columns:\n",
    "        na_rows_train = np.array(np.isnan(y_train[col]))\n",
    "        if y_train[col].nunique() < 2:\n",
    "            drop_cols.append(col)\n",
    "            continue\n",
    "        Grid_Search.fit(X_train[~na_rows_train], y_train.loc[~na_rows_train, col])\n",
    "        \n",
    "        na_rows_test = np.array(np.isnan(y_test[col]))\n",
    "        y_pred = Grid_Search.predict(X_test[~na_rows_test])\n",
    "\n",
    "        print(col)\n",
    "        counts.append(sum(y[col]))\n",
    "        fracs.append(sum(y[col])/len(y))\n",
    "        \n",
    "        print('\\nML\\n')\n",
    "        print(metrics.confusion_matrix(y_test.loc[~na_rows_test, col], y_pred))\n",
    "        F1_scores_ML.append(metrics.f1_score(y_test.loc[~na_rows_test, col], y_pred))\n",
    "        \n",
    "        print('\\nNH\\n')\n",
    "        try:\n",
    "            print(metrics.confusion_matrix(df_new1.loc[:, col], df_new2.loc[:, col]))\n",
    "            F1_scores_NH.append(metrics.f1_score(df_new1.loc[:, col], df_new2.loc[:, col]))\n",
    "        except:\n",
    "            F1_scores_NH.append(None)\n",
    "        \n",
    "        if(Q in ['Q1b', 'Q1d', 'Q1e']):\n",
    "            print('\\nUndergrads\\n')\n",
    "            try:\n",
    "                print(metrics.confusion_matrix(df_old1.loc[:, col], df_old2.loc[:, col]))\n",
    "                F1_scores_Undergrads.append(metrics.f1_score(df_old1.loc[:, col], df_old2.loc[:, col]))\n",
    "            except:\n",
    "                F1_scores_Undergrads.append(None)\n",
    "    if Q in ['Q1b', 'Q1d', 'Q1e']:\n",
    "        return pd.DataFrame({'Q': y_train.drop(columns = drop_cols).columns, 'ML': F1_scores_ML, 'NH': F1_scores_NH, \n",
    "                             'Undergrads': F1_scores_Undergrads, 'Count':counts, 'Frac':fracs})\n",
    "    else:\n",
    "        return pd.DataFrame({'Q': y_train.drop(columns = drop_cols).columns, 'ML': F1_scores_ML, 'NH': F1_scores_NH, \n",
    "                             'Count':counts, 'Frac':fracs})      "
   ]
  },
  {
   "cell_type": "markdown",
   "metadata": {},
   "source": [
    "# Question Q1B"
   ]
  },
  {
   "cell_type": "code",
   "execution_count": 13,
   "metadata": {},
   "outputs": [
    {
     "name": "stdout",
     "output_type": "stream",
     "text": [
      "Fitting 5 folds for each of 4 candidates, totalling 20 fits\n"
     ]
    },
    {
     "name": "stderr",
     "output_type": "stream",
     "text": [
      "[Parallel(n_jobs=1)]: Using backend SequentialBackend with 1 concurrent workers.\n",
      "[Parallel(n_jobs=1)]: Done  20 out of  20 | elapsed:    5.0s finished\n"
     ]
    },
    {
     "name": "stdout",
     "output_type": "stream",
     "text": [
      "Q1b_16\n",
      "\n",
      "ML\n",
      "\n",
      "[[133   5]\n",
      " [  3  11]]\n",
      "\n",
      "NH\n",
      "\n",
      "[[48  0]\n",
      " [ 1  0]]\n",
      "\n",
      "Undergrads\n",
      "\n",
      "[[417   3]\n",
      " [  5  28]]\n",
      "Fitting 5 folds for each of 4 candidates, totalling 20 fits\n"
     ]
    },
    {
     "name": "stderr",
     "output_type": "stream",
     "text": [
      "[Parallel(n_jobs=1)]: Using backend SequentialBackend with 1 concurrent workers.\n",
      "[Parallel(n_jobs=1)]: Done  20 out of  20 | elapsed:    7.2s finished\n"
     ]
    },
    {
     "name": "stdout",
     "output_type": "stream",
     "text": [
      "Q1b_28\n",
      "\n",
      "ML\n",
      "\n",
      "[[109  15]\n",
      " [ 15  13]]\n",
      "\n",
      "NH\n",
      "\n",
      "[[31  2]\n",
      " [ 5 11]]\n",
      "\n",
      "Undergrads\n",
      "\n",
      "[[392  19]\n",
      " [  9  33]]\n",
      "Fitting 5 folds for each of 4 candidates, totalling 20 fits\n"
     ]
    },
    {
     "name": "stderr",
     "output_type": "stream",
     "text": [
      "[Parallel(n_jobs=1)]: Using backend SequentialBackend with 1 concurrent workers.\n",
      "[Parallel(n_jobs=1)]: Done  20 out of  20 | elapsed:    6.9s finished\n"
     ]
    },
    {
     "name": "stdout",
     "output_type": "stream",
     "text": [
      "Q1b_2\n",
      "\n",
      "ML\n",
      "\n",
      "[[73 19]\n",
      " [11 49]]\n",
      "\n",
      "NH\n",
      "\n",
      "[[33  6]\n",
      " [ 5  5]]\n",
      "\n",
      "Undergrads\n",
      "\n",
      "[[200  17]\n",
      " [ 19 217]]\n",
      "Fitting 5 folds for each of 4 candidates, totalling 20 fits\n"
     ]
    },
    {
     "name": "stderr",
     "output_type": "stream",
     "text": [
      "[Parallel(n_jobs=1)]: Using backend SequentialBackend with 1 concurrent workers.\n",
      "[Parallel(n_jobs=1)]: Done  20 out of  20 | elapsed:    7.4s finished\n"
     ]
    },
    {
     "name": "stdout",
     "output_type": "stream",
     "text": [
      "Q1b_31\n",
      "\n",
      "ML\n",
      "\n",
      "[[134  11]\n",
      " [  0   7]]\n",
      "\n",
      "NH\n",
      "\n",
      "[[47  1]\n",
      " [ 0  1]]\n",
      "\n",
      "Undergrads\n",
      "\n",
      "[[394  12]\n",
      " [  3  44]]\n",
      "Fitting 5 folds for each of 4 candidates, totalling 20 fits\n"
     ]
    },
    {
     "name": "stderr",
     "output_type": "stream",
     "text": [
      "[Parallel(n_jobs=1)]: Using backend SequentialBackend with 1 concurrent workers.\n",
      "[Parallel(n_jobs=1)]: Done  20 out of  20 | elapsed:    7.2s finished\n"
     ]
    },
    {
     "name": "stdout",
     "output_type": "stream",
     "text": [
      "Q1b_5\n",
      "\n",
      "ML\n",
      "\n",
      "[[68 15]\n",
      " [14 55]]\n",
      "\n",
      "NH\n",
      "\n",
      "[[19  2]\n",
      " [ 2 26]]\n",
      "\n",
      "Undergrads\n",
      "\n",
      "[[237   9]\n",
      " [ 14 193]]\n",
      "Fitting 5 folds for each of 4 candidates, totalling 20 fits\n"
     ]
    },
    {
     "name": "stderr",
     "output_type": "stream",
     "text": [
      "[Parallel(n_jobs=1)]: Using backend SequentialBackend with 1 concurrent workers.\n",
      "[Parallel(n_jobs=1)]: Done  20 out of  20 | elapsed:    7.1s finished\n"
     ]
    },
    {
     "name": "stdout",
     "output_type": "stream",
     "text": [
      "Q1b_8\n",
      "\n",
      "ML\n",
      "\n",
      "[[137   2]\n",
      " [  3  10]]\n",
      "\n",
      "NH\n",
      "\n",
      "[[44  0]\n",
      " [ 1  4]]\n",
      "\n",
      "Undergrads\n",
      "\n",
      "[[412   0]\n",
      " [  2  39]]\n",
      "Fitting 5 folds for each of 4 candidates, totalling 20 fits\n"
     ]
    },
    {
     "name": "stderr",
     "output_type": "stream",
     "text": [
      "[Parallel(n_jobs=1)]: Using backend SequentialBackend with 1 concurrent workers.\n",
      "[Parallel(n_jobs=1)]: Done  20 out of  20 | elapsed:    7.3s finished\n"
     ]
    },
    {
     "name": "stdout",
     "output_type": "stream",
     "text": [
      "Q1b_16\n",
      "\n",
      "ML\n",
      "\n",
      "[[134   4]\n",
      " [  4  10]]\n",
      "\n",
      "NH\n",
      "\n",
      "[[48  0]\n",
      " [ 1  0]]\n",
      "\n",
      "Undergrads\n",
      "\n",
      "[[417   3]\n",
      " [  5  28]]\n",
      "Fitting 5 folds for each of 4 candidates, totalling 20 fits\n"
     ]
    },
    {
     "name": "stderr",
     "output_type": "stream",
     "text": [
      "[Parallel(n_jobs=1)]: Using backend SequentialBackend with 1 concurrent workers.\n",
      "[Parallel(n_jobs=1)]: Done  20 out of  20 | elapsed:    7.6s finished\n"
     ]
    },
    {
     "name": "stdout",
     "output_type": "stream",
     "text": [
      "Q1b_28\n",
      "\n",
      "ML\n",
      "\n",
      "[[111  13]\n",
      " [ 12  16]]\n",
      "\n",
      "NH\n",
      "\n",
      "[[31  2]\n",
      " [ 5 11]]\n",
      "\n",
      "Undergrads\n",
      "\n",
      "[[392  19]\n",
      " [  9  33]]\n",
      "Fitting 5 folds for each of 4 candidates, totalling 20 fits\n"
     ]
    },
    {
     "name": "stderr",
     "output_type": "stream",
     "text": [
      "[Parallel(n_jobs=1)]: Using backend SequentialBackend with 1 concurrent workers.\n",
      "[Parallel(n_jobs=1)]: Done  20 out of  20 | elapsed:    7.7s finished\n"
     ]
    },
    {
     "name": "stdout",
     "output_type": "stream",
     "text": [
      "Q1b_2\n",
      "\n",
      "ML\n",
      "\n",
      "[[75 17]\n",
      " [14 46]]\n",
      "\n",
      "NH\n",
      "\n",
      "[[33  6]\n",
      " [ 5  5]]\n",
      "\n",
      "Undergrads\n",
      "\n",
      "[[200  17]\n",
      " [ 19 217]]\n",
      "Fitting 5 folds for each of 4 candidates, totalling 20 fits\n"
     ]
    },
    {
     "name": "stderr",
     "output_type": "stream",
     "text": [
      "[Parallel(n_jobs=1)]: Using backend SequentialBackend with 1 concurrent workers.\n",
      "[Parallel(n_jobs=1)]: Done  20 out of  20 | elapsed:    8.0s finished\n"
     ]
    },
    {
     "name": "stdout",
     "output_type": "stream",
     "text": [
      "Q1b_31\n",
      "\n",
      "ML\n",
      "\n",
      "[[139   6]\n",
      " [  0   7]]\n",
      "\n",
      "NH\n",
      "\n",
      "[[47  1]\n",
      " [ 0  1]]\n",
      "\n",
      "Undergrads\n",
      "\n",
      "[[394  12]\n",
      " [  3  44]]\n",
      "Fitting 5 folds for each of 4 candidates, totalling 20 fits\n"
     ]
    },
    {
     "name": "stderr",
     "output_type": "stream",
     "text": [
      "[Parallel(n_jobs=1)]: Using backend SequentialBackend with 1 concurrent workers.\n",
      "[Parallel(n_jobs=1)]: Done  20 out of  20 | elapsed:    7.7s finished\n"
     ]
    },
    {
     "name": "stdout",
     "output_type": "stream",
     "text": [
      "Q1b_5\n",
      "\n",
      "ML\n",
      "\n",
      "[[69 14]\n",
      " [15 54]]\n",
      "\n",
      "NH\n",
      "\n",
      "[[19  2]\n",
      " [ 2 26]]\n",
      "\n",
      "Undergrads\n",
      "\n",
      "[[237   9]\n",
      " [ 14 193]]\n",
      "Fitting 5 folds for each of 4 candidates, totalling 20 fits\n"
     ]
    },
    {
     "name": "stderr",
     "output_type": "stream",
     "text": [
      "[Parallel(n_jobs=1)]: Using backend SequentialBackend with 1 concurrent workers.\n",
      "[Parallel(n_jobs=1)]: Done  20 out of  20 | elapsed:    7.8s finished\n"
     ]
    },
    {
     "name": "stdout",
     "output_type": "stream",
     "text": [
      "Q1b_8\n",
      "\n",
      "ML\n",
      "\n",
      "[[136   3]\n",
      " [  2  11]]\n",
      "\n",
      "NH\n",
      "\n",
      "[[44  0]\n",
      " [ 1  4]]\n",
      "\n",
      "Undergrads\n",
      "\n",
      "[[412   0]\n",
      " [  2  39]]\n",
      "Fitting 5 folds for each of 4 candidates, totalling 20 fits\n"
     ]
    },
    {
     "name": "stderr",
     "output_type": "stream",
     "text": [
      "[Parallel(n_jobs=1)]: Using backend SequentialBackend with 1 concurrent workers.\n",
      "[Parallel(n_jobs=1)]: Done  20 out of  20 | elapsed:    7.1s finished\n"
     ]
    },
    {
     "name": "stdout",
     "output_type": "stream",
     "text": [
      "Q1b_16\n",
      "\n",
      "ML\n",
      "\n",
      "[[138   0]\n",
      " [ 12   2]]\n",
      "\n",
      "NH\n",
      "\n",
      "[[48  0]\n",
      " [ 1  0]]\n",
      "\n",
      "Undergrads\n",
      "\n",
      "[[417   3]\n",
      " [  5  28]]\n",
      "Fitting 5 folds for each of 4 candidates, totalling 20 fits\n"
     ]
    },
    {
     "name": "stderr",
     "output_type": "stream",
     "text": [
      "[Parallel(n_jobs=1)]: Using backend SequentialBackend with 1 concurrent workers.\n",
      "[Parallel(n_jobs=1)]: Done  20 out of  20 | elapsed:    7.2s finished\n"
     ]
    },
    {
     "name": "stdout",
     "output_type": "stream",
     "text": [
      "Q1b_28\n",
      "\n",
      "ML\n",
      "\n",
      "[[120   4]\n",
      " [ 25   3]]\n",
      "\n",
      "NH\n",
      "\n",
      "[[31  2]\n",
      " [ 5 11]]\n",
      "\n",
      "Undergrads\n",
      "\n",
      "[[392  19]\n",
      " [  9  33]]\n",
      "Fitting 5 folds for each of 4 candidates, totalling 20 fits\n"
     ]
    },
    {
     "name": "stderr",
     "output_type": "stream",
     "text": [
      "[Parallel(n_jobs=1)]: Using backend SequentialBackend with 1 concurrent workers.\n",
      "[Parallel(n_jobs=1)]: Done  20 out of  20 | elapsed:    6.9s finished\n"
     ]
    },
    {
     "name": "stdout",
     "output_type": "stream",
     "text": [
      "Q1b_2\n",
      "\n",
      "ML\n",
      "\n",
      "[[73 19]\n",
      " [14 46]]\n",
      "\n",
      "NH\n",
      "\n",
      "[[33  6]\n",
      " [ 5  5]]\n",
      "\n",
      "Undergrads\n",
      "\n",
      "[[200  17]\n",
      " [ 19 217]]\n",
      "Fitting 5 folds for each of 4 candidates, totalling 20 fits\n"
     ]
    },
    {
     "name": "stderr",
     "output_type": "stream",
     "text": [
      "[Parallel(n_jobs=1)]: Using backend SequentialBackend with 1 concurrent workers.\n",
      "[Parallel(n_jobs=1)]: Done  20 out of  20 | elapsed:    6.5s finished\n"
     ]
    },
    {
     "name": "stdout",
     "output_type": "stream",
     "text": [
      "Q1b_31\n",
      "\n",
      "ML\n",
      "\n",
      "[[144   1]\n",
      " [  4   3]]\n",
      "\n",
      "NH\n",
      "\n",
      "[[47  1]\n",
      " [ 0  1]]\n",
      "\n",
      "Undergrads\n",
      "\n",
      "[[394  12]\n",
      " [  3  44]]\n",
      "Fitting 5 folds for each of 4 candidates, totalling 20 fits\n"
     ]
    },
    {
     "name": "stderr",
     "output_type": "stream",
     "text": [
      "[Parallel(n_jobs=1)]: Using backend SequentialBackend with 1 concurrent workers.\n",
      "[Parallel(n_jobs=1)]: Done  20 out of  20 | elapsed:    6.4s finished\n"
     ]
    },
    {
     "name": "stdout",
     "output_type": "stream",
     "text": [
      "Q1b_5\n",
      "\n",
      "ML\n",
      "\n",
      "[[68 15]\n",
      " [19 50]]\n",
      "\n",
      "NH\n",
      "\n",
      "[[19  2]\n",
      " [ 2 26]]\n",
      "\n",
      "Undergrads\n",
      "\n",
      "[[237   9]\n",
      " [ 14 193]]\n",
      "Fitting 5 folds for each of 4 candidates, totalling 20 fits\n"
     ]
    },
    {
     "name": "stderr",
     "output_type": "stream",
     "text": [
      "[Parallel(n_jobs=1)]: Using backend SequentialBackend with 1 concurrent workers.\n",
      "[Parallel(n_jobs=1)]: Done  20 out of  20 | elapsed:    6.7s finished\n"
     ]
    },
    {
     "name": "stdout",
     "output_type": "stream",
     "text": [
      "Q1b_8\n",
      "\n",
      "ML\n",
      "\n",
      "[[137   2]\n",
      " [  9   4]]\n",
      "\n",
      "NH\n",
      "\n",
      "[[44  0]\n",
      " [ 1  4]]\n",
      "\n",
      "Undergrads\n",
      "\n",
      "[[412   0]\n",
      " [  2  39]]\n"
     ]
    },
    {
     "data": {
      "text/html": [
       "<div>\n",
       "<style scoped>\n",
       "    .dataframe tbody tr th:only-of-type {\n",
       "        vertical-align: middle;\n",
       "    }\n",
       "\n",
       "    .dataframe tbody tr th {\n",
       "        vertical-align: top;\n",
       "    }\n",
       "\n",
       "    .dataframe thead th {\n",
       "        text-align: right;\n",
       "    }\n",
       "</style>\n",
       "<table border=\"1\" class=\"dataframe\">\n",
       "  <thead>\n",
       "    <tr style=\"text-align: right;\">\n",
       "      <th></th>\n",
       "      <th>Q</th>\n",
       "      <th>Logit</th>\n",
       "      <th>NH</th>\n",
       "      <th>Undergrads</th>\n",
       "      <th>Count</th>\n",
       "      <th>Frac</th>\n",
       "      <th>SVM</th>\n",
       "      <th>Bayes</th>\n",
       "    </tr>\n",
       "  </thead>\n",
       "  <tbody>\n",
       "    <tr>\n",
       "      <th>0</th>\n",
       "      <td>Q1b_16</td>\n",
       "      <td>0.733333</td>\n",
       "      <td>0.000000</td>\n",
       "      <td>0.875000</td>\n",
       "      <td>54.0</td>\n",
       "      <td>0.071334</td>\n",
       "      <td>0.714286</td>\n",
       "      <td>0.250000</td>\n",
       "    </tr>\n",
       "    <tr>\n",
       "      <th>1</th>\n",
       "      <td>Q1b_28</td>\n",
       "      <td>0.464286</td>\n",
       "      <td>0.758621</td>\n",
       "      <td>0.702128</td>\n",
       "      <td>111.0</td>\n",
       "      <td>0.146631</td>\n",
       "      <td>0.561404</td>\n",
       "      <td>0.171429</td>\n",
       "    </tr>\n",
       "    <tr>\n",
       "      <th>2</th>\n",
       "      <td>Q1b_2</td>\n",
       "      <td>0.765625</td>\n",
       "      <td>0.476190</td>\n",
       "      <td>0.923404</td>\n",
       "      <td>347.0</td>\n",
       "      <td>0.458388</td>\n",
       "      <td>0.747967</td>\n",
       "      <td>0.736000</td>\n",
       "    </tr>\n",
       "    <tr>\n",
       "      <th>3</th>\n",
       "      <td>Q1b_31</td>\n",
       "      <td>0.560000</td>\n",
       "      <td>0.666667</td>\n",
       "      <td>0.854369</td>\n",
       "      <td>60.0</td>\n",
       "      <td>0.079260</td>\n",
       "      <td>0.700000</td>\n",
       "      <td>0.545455</td>\n",
       "    </tr>\n",
       "    <tr>\n",
       "      <th>4</th>\n",
       "      <td>Q1b_5</td>\n",
       "      <td>0.791367</td>\n",
       "      <td>0.928571</td>\n",
       "      <td>0.943765</td>\n",
       "      <td>328.0</td>\n",
       "      <td>0.433289</td>\n",
       "      <td>0.788321</td>\n",
       "      <td>0.746269</td>\n",
       "    </tr>\n",
       "    <tr>\n",
       "      <th>5</th>\n",
       "      <td>Q1b_8</td>\n",
       "      <td>0.800000</td>\n",
       "      <td>0.888889</td>\n",
       "      <td>0.975000</td>\n",
       "      <td>72.0</td>\n",
       "      <td>0.095112</td>\n",
       "      <td>0.814815</td>\n",
       "      <td>0.421053</td>\n",
       "    </tr>\n",
       "  </tbody>\n",
       "</table>\n",
       "</div>"
      ],
      "text/plain": [
       "        Q     Logit        NH  Undergrads  Count      Frac       SVM     Bayes\n",
       "0  Q1b_16  0.733333  0.000000    0.875000   54.0  0.071334  0.714286  0.250000\n",
       "1  Q1b_28  0.464286  0.758621    0.702128  111.0  0.146631  0.561404  0.171429\n",
       "2   Q1b_2  0.765625  0.476190    0.923404  347.0  0.458388  0.747967  0.736000\n",
       "3  Q1b_31  0.560000  0.666667    0.854369   60.0  0.079260  0.700000  0.545455\n",
       "4   Q1b_5  0.791367  0.928571    0.943765  328.0  0.433289  0.788321  0.746269\n",
       "5   Q1b_8  0.800000  0.888889    0.975000   72.0  0.095112  0.814815  0.421053"
      ]
     },
     "execution_count": 13,
     "metadata": {},
     "output_type": "execute_result"
    }
   ],
   "source": [
    "df_1b = GetAllData(df_beta, df_complete, 'Q1b')\n",
    "logitdf_1b = CodeFR(df_1b, 'Q1b', Scoring, CV, 'Logit').rename(columns = {'ML':'Logit'})\n",
    "svmdf_1b = CodeFR(df_1b, 'Q1b', Scoring, CV, 'SVM').rename(columns = {'ML':'SVM'})\n",
    "bayesdf_1b = CodeFR(df_1b, 'Q1b', Scoring, CV, 'NB').rename(columns = {'ML':'Bayes'})\n",
    "dfML_1b = pd.merge(logitdf_1b, svmdf_1b, on = ['Q', 'Undergrads', 'NH', 'Count', \n",
    "                                               'Frac']).merge(bayesdf_1b, on = ['Q', 'Undergrads', 'NH', 'Count', 'Frac'])\n",
    "dfML_1b"
   ]
  },
  {
   "cell_type": "markdown",
   "metadata": {},
   "source": [
    "# Question Q1D"
   ]
  },
  {
   "cell_type": "code",
   "execution_count": 14,
   "metadata": {},
   "outputs": [
    {
     "name": "stdout",
     "output_type": "stream",
     "text": [
      "Fitting 5 folds for each of 4 candidates, totalling 20 fits\n"
     ]
    },
    {
     "name": "stderr",
     "output_type": "stream",
     "text": [
      "[Parallel(n_jobs=1)]: Using backend SequentialBackend with 1 concurrent workers.\n",
      "[Parallel(n_jobs=1)]: Done  20 out of  20 | elapsed:    5.4s finished\n"
     ]
    },
    {
     "name": "stdout",
     "output_type": "stream",
     "text": [
      "Q1d_1\n",
      "\n",
      "ML\n",
      "\n",
      "[[63 13]\n",
      " [10 48]]\n",
      "\n",
      "NH\n",
      "\n",
      "[[21  0]\n",
      " [ 1 21]]\n",
      "\n",
      "Undergrads\n",
      "\n",
      "[[36  1]\n",
      " [ 3 34]]\n",
      "Fitting 5 folds for each of 4 candidates, totalling 20 fits\n"
     ]
    },
    {
     "name": "stderr",
     "output_type": "stream",
     "text": [
      "[Parallel(n_jobs=1)]: Using backend SequentialBackend with 1 concurrent workers.\n",
      "[Parallel(n_jobs=1)]: Done  20 out of  20 | elapsed:    8.2s finished\n"
     ]
    },
    {
     "name": "stdout",
     "output_type": "stream",
     "text": [
      "Q1d_3\n",
      "\n",
      "ML\n",
      "\n",
      "[[83  9]\n",
      " [11 31]]\n",
      "\n",
      "NH\n",
      "\n",
      "[[33  0]\n",
      " [ 1  9]]\n",
      "\n",
      "Undergrads\n",
      "\n",
      "[[39  0]\n",
      " [ 3 32]]\n",
      "Fitting 5 folds for each of 4 candidates, totalling 20 fits\n"
     ]
    },
    {
     "name": "stderr",
     "output_type": "stream",
     "text": [
      "[Parallel(n_jobs=1)]: Using backend SequentialBackend with 1 concurrent workers.\n",
      "[Parallel(n_jobs=1)]: Done  20 out of  20 | elapsed:    7.7s finished\n"
     ]
    },
    {
     "name": "stdout",
     "output_type": "stream",
     "text": [
      "Q1d_51\n",
      "\n",
      "ML\n",
      "\n",
      "[[121   8]\n",
      " [  3   2]]\n",
      "\n",
      "NH\n",
      "\n",
      "[[40  0]\n",
      " [ 2  1]]\n",
      "\n",
      "Undergrads\n",
      "\n",
      "[[67  1]\n",
      " [ 5  1]]\n",
      "Fitting 5 folds for each of 4 candidates, totalling 20 fits\n"
     ]
    },
    {
     "name": "stderr",
     "output_type": "stream",
     "text": [
      "[Parallel(n_jobs=1)]: Using backend SequentialBackend with 1 concurrent workers.\n",
      "[Parallel(n_jobs=1)]: Done  20 out of  20 | elapsed:    7.5s finished\n"
     ]
    },
    {
     "name": "stdout",
     "output_type": "stream",
     "text": [
      "Q1d_53\n",
      "\n",
      "ML\n",
      "\n",
      "[[105  11]\n",
      " [  8  10]]\n",
      "\n",
      "NH\n",
      "\n",
      "[[39  1]\n",
      " [ 0  3]]\n",
      "\n",
      "Undergrads\n",
      "\n",
      "[[62  2]\n",
      " [ 6  4]]\n",
      "Fitting 5 folds for each of 4 candidates, totalling 20 fits\n"
     ]
    },
    {
     "name": "stderr",
     "output_type": "stream",
     "text": [
      "[Parallel(n_jobs=1)]: Using backend SequentialBackend with 1 concurrent workers.\n",
      "[Parallel(n_jobs=1)]: Done  20 out of  20 | elapsed:    7.5s finished\n"
     ]
    },
    {
     "name": "stdout",
     "output_type": "stream",
     "text": [
      "Q1d_55\n",
      "\n",
      "ML\n",
      "\n",
      "[[121   3]\n",
      " [  3   7]]\n",
      "\n",
      "NH\n",
      "\n",
      "[[38  0]\n",
      " [ 1  4]]\n",
      "\n",
      "Undergrads\n",
      "\n",
      "[[66  1]\n",
      " [ 1  6]]\n",
      "Fitting 5 folds for each of 4 candidates, totalling 20 fits\n"
     ]
    },
    {
     "name": "stderr",
     "output_type": "stream",
     "text": [
      "[Parallel(n_jobs=1)]: Using backend SequentialBackend with 1 concurrent workers.\n",
      "[Parallel(n_jobs=1)]: Done  20 out of  20 | elapsed:    7.3s finished\n"
     ]
    },
    {
     "name": "stdout",
     "output_type": "stream",
     "text": [
      "Q1d_57\n",
      "\n",
      "ML\n",
      "\n",
      "[[110  10]\n",
      " [  4  10]]\n",
      "\n",
      "NH\n",
      "\n",
      "[[40  2]\n",
      " [ 0  1]]\n",
      "\n",
      "Undergrads\n",
      "\n",
      "[[61  1]\n",
      " [ 2 10]]\n",
      "Fitting 5 folds for each of 4 candidates, totalling 20 fits\n"
     ]
    },
    {
     "name": "stderr",
     "output_type": "stream",
     "text": [
      "[Parallel(n_jobs=1)]: Using backend SequentialBackend with 1 concurrent workers.\n",
      "[Parallel(n_jobs=1)]: Done  20 out of  20 | elapsed:    7.5s finished\n"
     ]
    },
    {
     "name": "stdout",
     "output_type": "stream",
     "text": [
      "Q1d_59\n",
      "\n",
      "ML\n",
      "\n",
      "[[111  12]\n",
      " [  5   6]]\n",
      "\n",
      "NH\n",
      "\n",
      "[[38  0]\n",
      " [ 2  3]]\n",
      "\n",
      "Undergrads\n",
      "\n",
      "[[40 21]\n",
      " [ 5  8]]\n",
      "Fitting 5 folds for each of 4 candidates, totalling 20 fits\n"
     ]
    },
    {
     "name": "stderr",
     "output_type": "stream",
     "text": [
      "[Parallel(n_jobs=1)]: Using backend SequentialBackend with 1 concurrent workers.\n",
      "[Parallel(n_jobs=1)]: Done  20 out of  20 | elapsed:    7.3s finished\n"
     ]
    },
    {
     "name": "stdout",
     "output_type": "stream",
     "text": [
      "Q1d_5\n",
      "\n",
      "ML\n",
      "\n",
      "[[98  7]\n",
      " [ 6 23]]\n",
      "\n",
      "NH\n",
      "\n",
      "[[26  1]\n",
      " [ 1 15]]\n",
      "\n",
      "Undergrads\n",
      "\n",
      "[[56  0]\n",
      " [ 2 16]]\n",
      "Fitting 5 folds for each of 4 candidates, totalling 20 fits\n"
     ]
    },
    {
     "name": "stderr",
     "output_type": "stream",
     "text": [
      "[Parallel(n_jobs=1)]: Using backend SequentialBackend with 1 concurrent workers.\n",
      "[Parallel(n_jobs=1)]: Done  20 out of  20 | elapsed:    7.1s finished\n"
     ]
    },
    {
     "name": "stdout",
     "output_type": "stream",
     "text": [
      "Q1d_61\n",
      "\n",
      "ML\n",
      "\n",
      "[[121   8]\n",
      " [  5   0]]\n",
      "\n",
      "NH\n",
      "\n",
      "[[43]]\n",
      "\n",
      "Undergrads\n",
      "\n",
      "[[66  1]\n",
      " [ 5  2]]\n",
      "Fitting 5 folds for each of 4 candidates, totalling 20 fits\n"
     ]
    },
    {
     "name": "stderr",
     "output_type": "stream",
     "text": [
      "[Parallel(n_jobs=1)]: Using backend SequentialBackend with 1 concurrent workers.\n",
      "[Parallel(n_jobs=1)]: Done  20 out of  20 | elapsed:    7.3s finished\n"
     ]
    },
    {
     "name": "stdout",
     "output_type": "stream",
     "text": [
      "Q1d_63\n",
      "\n",
      "ML\n",
      "\n",
      "[[93 22]\n",
      " [ 8 11]]\n",
      "\n",
      "NH\n",
      "\n",
      "[[39  1]\n",
      " [ 1  2]]\n",
      "\n",
      "Undergrads\n",
      "\n",
      "[[64  3]\n",
      " [ 4  3]]\n",
      "Fitting 5 folds for each of 4 candidates, totalling 20 fits\n"
     ]
    },
    {
     "name": "stderr",
     "output_type": "stream",
     "text": [
      "[Parallel(n_jobs=1)]: Using backend SequentialBackend with 1 concurrent workers.\n",
      "[Parallel(n_jobs=1)]: Done  20 out of  20 | elapsed:    7.8s finished\n"
     ]
    },
    {
     "name": "stdout",
     "output_type": "stream",
     "text": [
      "Q1d_1\n",
      "\n",
      "ML\n",
      "\n",
      "[[60 16]\n",
      " [10 48]]\n",
      "\n",
      "NH\n",
      "\n",
      "[[21  0]\n",
      " [ 1 21]]\n",
      "\n",
      "Undergrads\n",
      "\n",
      "[[36  1]\n",
      " [ 3 34]]\n",
      "Fitting 5 folds for each of 4 candidates, totalling 20 fits\n"
     ]
    },
    {
     "name": "stderr",
     "output_type": "stream",
     "text": [
      "[Parallel(n_jobs=1)]: Using backend SequentialBackend with 1 concurrent workers.\n",
      "[Parallel(n_jobs=1)]: Done  20 out of  20 | elapsed:    7.7s finished\n"
     ]
    },
    {
     "name": "stdout",
     "output_type": "stream",
     "text": [
      "Q1d_3\n",
      "\n",
      "ML\n",
      "\n",
      "[[85  7]\n",
      " [12 30]]\n",
      "\n",
      "NH\n",
      "\n",
      "[[33  0]\n",
      " [ 1  9]]\n",
      "\n",
      "Undergrads\n",
      "\n",
      "[[39  0]\n",
      " [ 3 32]]\n",
      "Fitting 5 folds for each of 4 candidates, totalling 20 fits\n"
     ]
    },
    {
     "name": "stderr",
     "output_type": "stream",
     "text": [
      "[Parallel(n_jobs=1)]: Using backend SequentialBackend with 1 concurrent workers.\n",
      "[Parallel(n_jobs=1)]: Done  20 out of  20 | elapsed:    7.8s finished\n"
     ]
    },
    {
     "name": "stdout",
     "output_type": "stream",
     "text": [
      "Q1d_51\n",
      "\n",
      "ML\n",
      "\n",
      "[[122   7]\n",
      " [  3   2]]\n",
      "\n",
      "NH\n",
      "\n",
      "[[40  0]\n",
      " [ 2  1]]\n",
      "\n",
      "Undergrads\n",
      "\n",
      "[[67  1]\n",
      " [ 5  1]]\n",
      "Fitting 5 folds for each of 4 candidates, totalling 20 fits\n"
     ]
    },
    {
     "name": "stderr",
     "output_type": "stream",
     "text": [
      "[Parallel(n_jobs=1)]: Using backend SequentialBackend with 1 concurrent workers.\n",
      "[Parallel(n_jobs=1)]: Done  20 out of  20 | elapsed:    7.8s finished\n"
     ]
    },
    {
     "name": "stdout",
     "output_type": "stream",
     "text": [
      "Q1d_53\n",
      "\n",
      "ML\n",
      "\n",
      "[[105  11]\n",
      " [ 11   7]]\n",
      "\n",
      "NH\n",
      "\n",
      "[[39  1]\n",
      " [ 0  3]]\n",
      "\n",
      "Undergrads\n",
      "\n",
      "[[62  2]\n",
      " [ 6  4]]\n",
      "Fitting 5 folds for each of 4 candidates, totalling 20 fits\n"
     ]
    },
    {
     "name": "stderr",
     "output_type": "stream",
     "text": [
      "[Parallel(n_jobs=1)]: Using backend SequentialBackend with 1 concurrent workers.\n",
      "[Parallel(n_jobs=1)]: Done  20 out of  20 | elapsed:    7.7s finished\n"
     ]
    },
    {
     "name": "stdout",
     "output_type": "stream",
     "text": [
      "Q1d_55\n",
      "\n",
      "ML\n",
      "\n",
      "[[123   1]\n",
      " [  4   6]]\n",
      "\n",
      "NH\n",
      "\n",
      "[[38  0]\n",
      " [ 1  4]]\n",
      "\n",
      "Undergrads\n",
      "\n",
      "[[66  1]\n",
      " [ 1  6]]\n",
      "Fitting 5 folds for each of 4 candidates, totalling 20 fits\n"
     ]
    },
    {
     "name": "stderr",
     "output_type": "stream",
     "text": [
      "[Parallel(n_jobs=1)]: Using backend SequentialBackend with 1 concurrent workers.\n",
      "[Parallel(n_jobs=1)]: Done  20 out of  20 | elapsed:    7.9s finished\n"
     ]
    },
    {
     "name": "stdout",
     "output_type": "stream",
     "text": [
      "Q1d_57\n",
      "\n",
      "ML\n",
      "\n",
      "[[114   6]\n",
      " [  7   7]]\n",
      "\n",
      "NH\n",
      "\n",
      "[[40  2]\n",
      " [ 0  1]]\n",
      "\n",
      "Undergrads\n",
      "\n",
      "[[61  1]\n",
      " [ 2 10]]\n",
      "Fitting 5 folds for each of 4 candidates, totalling 20 fits\n"
     ]
    },
    {
     "name": "stderr",
     "output_type": "stream",
     "text": [
      "[Parallel(n_jobs=1)]: Using backend SequentialBackend with 1 concurrent workers.\n",
      "[Parallel(n_jobs=1)]: Done  20 out of  20 | elapsed:    7.7s finished\n"
     ]
    },
    {
     "name": "stdout",
     "output_type": "stream",
     "text": [
      "Q1d_59\n",
      "\n",
      "ML\n",
      "\n",
      "[[117   6]\n",
      " [  5   6]]\n",
      "\n",
      "NH\n",
      "\n",
      "[[38  0]\n",
      " [ 2  3]]\n",
      "\n",
      "Undergrads\n",
      "\n",
      "[[40 21]\n",
      " [ 5  8]]\n",
      "Fitting 5 folds for each of 4 candidates, totalling 20 fits\n"
     ]
    },
    {
     "name": "stderr",
     "output_type": "stream",
     "text": [
      "[Parallel(n_jobs=1)]: Using backend SequentialBackend with 1 concurrent workers.\n",
      "[Parallel(n_jobs=1)]: Done  20 out of  20 | elapsed:    8.1s finished\n"
     ]
    },
    {
     "name": "stdout",
     "output_type": "stream",
     "text": [
      "Q1d_5\n",
      "\n",
      "ML\n",
      "\n",
      "[[98  7]\n",
      " [ 5 24]]\n",
      "\n",
      "NH\n",
      "\n",
      "[[26  1]\n",
      " [ 1 15]]\n",
      "\n",
      "Undergrads\n",
      "\n",
      "[[56  0]\n",
      " [ 2 16]]\n",
      "Fitting 5 folds for each of 4 candidates, totalling 20 fits\n"
     ]
    },
    {
     "name": "stderr",
     "output_type": "stream",
     "text": [
      "[Parallel(n_jobs=1)]: Using backend SequentialBackend with 1 concurrent workers.\n",
      "[Parallel(n_jobs=1)]: Done  20 out of  20 | elapsed:    8.0s finished\n"
     ]
    },
    {
     "name": "stdout",
     "output_type": "stream",
     "text": [
      "Q1d_61\n",
      "\n",
      "ML\n",
      "\n",
      "[[117  12]\n",
      " [  4   1]]\n",
      "\n",
      "NH\n",
      "\n",
      "[[43]]\n",
      "\n",
      "Undergrads\n",
      "\n",
      "[[66  1]\n",
      " [ 5  2]]\n",
      "Fitting 5 folds for each of 4 candidates, totalling 20 fits\n"
     ]
    },
    {
     "name": "stderr",
     "output_type": "stream",
     "text": [
      "[Parallel(n_jobs=1)]: Using backend SequentialBackend with 1 concurrent workers.\n",
      "[Parallel(n_jobs=1)]: Done  20 out of  20 | elapsed:    7.8s finished\n"
     ]
    },
    {
     "name": "stdout",
     "output_type": "stream",
     "text": [
      "Q1d_63\n",
      "\n",
      "ML\n",
      "\n",
      "[[85 30]\n",
      " [ 7 12]]\n",
      "\n",
      "NH\n",
      "\n",
      "[[39  1]\n",
      " [ 1  2]]\n",
      "\n",
      "Undergrads\n",
      "\n",
      "[[64  3]\n",
      " [ 4  3]]\n",
      "Fitting 5 folds for each of 4 candidates, totalling 20 fits\n"
     ]
    },
    {
     "name": "stderr",
     "output_type": "stream",
     "text": [
      "[Parallel(n_jobs=1)]: Using backend SequentialBackend with 1 concurrent workers.\n",
      "[Parallel(n_jobs=1)]: Done  20 out of  20 | elapsed:    7.5s finished\n"
     ]
    },
    {
     "name": "stdout",
     "output_type": "stream",
     "text": [
      "Q1d_1\n",
      "\n",
      "ML\n",
      "\n",
      "[[56 20]\n",
      " [14 44]]\n",
      "\n",
      "NH\n",
      "\n",
      "[[21  0]\n",
      " [ 1 21]]\n",
      "\n",
      "Undergrads\n",
      "\n",
      "[[36  1]\n",
      " [ 3 34]]\n",
      "Fitting 5 folds for each of 4 candidates, totalling 20 fits\n"
     ]
    },
    {
     "name": "stderr",
     "output_type": "stream",
     "text": [
      "[Parallel(n_jobs=1)]: Using backend SequentialBackend with 1 concurrent workers.\n",
      "[Parallel(n_jobs=1)]: Done  20 out of  20 | elapsed:    7.0s finished\n"
     ]
    },
    {
     "name": "stdout",
     "output_type": "stream",
     "text": [
      "Q1d_3\n",
      "\n",
      "ML\n",
      "\n",
      "[[89  3]\n",
      " [16 26]]\n",
      "\n",
      "NH\n",
      "\n",
      "[[33  0]\n",
      " [ 1  9]]\n",
      "\n",
      "Undergrads\n",
      "\n",
      "[[39  0]\n",
      " [ 3 32]]\n",
      "Fitting 5 folds for each of 4 candidates, totalling 20 fits\n"
     ]
    },
    {
     "name": "stderr",
     "output_type": "stream",
     "text": [
      "[Parallel(n_jobs=1)]: Using backend SequentialBackend with 1 concurrent workers.\n",
      "[Parallel(n_jobs=1)]: Done  20 out of  20 | elapsed:    7.0s finished\n"
     ]
    },
    {
     "name": "stdout",
     "output_type": "stream",
     "text": [
      "Q1d_51\n",
      "\n",
      "ML\n",
      "\n",
      "[[129   0]\n",
      " [  5   0]]\n",
      "\n",
      "NH\n",
      "\n",
      "[[40  0]\n",
      " [ 2  1]]\n",
      "\n",
      "Undergrads\n",
      "\n",
      "[[67  1]\n",
      " [ 5  1]]\n",
      "Fitting 5 folds for each of 4 candidates, totalling 20 fits\n"
     ]
    },
    {
     "name": "stderr",
     "output_type": "stream",
     "text": [
      "[Parallel(n_jobs=1)]: Using backend SequentialBackend with 1 concurrent workers.\n",
      "[Parallel(n_jobs=1)]: Done  20 out of  20 | elapsed:    7.2s finished\n"
     ]
    },
    {
     "name": "stdout",
     "output_type": "stream",
     "text": [
      "Q1d_53\n",
      "\n",
      "ML\n",
      "\n",
      "[[116   0]\n",
      " [ 16   2]]\n",
      "\n",
      "NH\n",
      "\n",
      "[[39  1]\n",
      " [ 0  3]]\n",
      "\n",
      "Undergrads\n",
      "\n",
      "[[62  2]\n",
      " [ 6  4]]\n",
      "Fitting 5 folds for each of 4 candidates, totalling 20 fits\n"
     ]
    },
    {
     "name": "stderr",
     "output_type": "stream",
     "text": [
      "[Parallel(n_jobs=1)]: Using backend SequentialBackend with 1 concurrent workers.\n",
      "[Parallel(n_jobs=1)]: Done  20 out of  20 | elapsed:    7.0s finished\n"
     ]
    },
    {
     "name": "stdout",
     "output_type": "stream",
     "text": [
      "Q1d_55\n",
      "\n",
      "ML\n",
      "\n",
      "[[124   0]\n",
      " [  8   2]]\n",
      "\n",
      "NH\n",
      "\n",
      "[[38  0]\n",
      " [ 1  4]]\n",
      "\n",
      "Undergrads\n",
      "\n",
      "[[66  1]\n",
      " [ 1  6]]\n",
      "Fitting 5 folds for each of 4 candidates, totalling 20 fits\n"
     ]
    },
    {
     "name": "stderr",
     "output_type": "stream",
     "text": [
      "[Parallel(n_jobs=1)]: Using backend SequentialBackend with 1 concurrent workers.\n",
      "[Parallel(n_jobs=1)]: Done  20 out of  20 | elapsed:    7.6s finished\n"
     ]
    },
    {
     "name": "stdout",
     "output_type": "stream",
     "text": [
      "Q1d_57\n",
      "\n",
      "ML\n",
      "\n",
      "[[118   2]\n",
      " [ 12   2]]\n",
      "\n",
      "NH\n",
      "\n",
      "[[40  2]\n",
      " [ 0  1]]\n",
      "\n",
      "Undergrads\n",
      "\n",
      "[[61  1]\n",
      " [ 2 10]]\n",
      "Fitting 5 folds for each of 4 candidates, totalling 20 fits\n"
     ]
    },
    {
     "name": "stderr",
     "output_type": "stream",
     "text": [
      "[Parallel(n_jobs=1)]: Using backend SequentialBackend with 1 concurrent workers.\n",
      "[Parallel(n_jobs=1)]: Done  20 out of  20 | elapsed:    7.0s finished\n"
     ]
    },
    {
     "name": "stdout",
     "output_type": "stream",
     "text": [
      "Q1d_59\n",
      "\n",
      "ML\n",
      "\n",
      "[[122   1]\n",
      " [ 11   0]]\n",
      "\n",
      "NH\n",
      "\n",
      "[[38  0]\n",
      " [ 2  3]]\n",
      "\n",
      "Undergrads\n",
      "\n",
      "[[40 21]\n",
      " [ 5  8]]\n",
      "Fitting 5 folds for each of 4 candidates, totalling 20 fits\n"
     ]
    },
    {
     "name": "stderr",
     "output_type": "stream",
     "text": [
      "[Parallel(n_jobs=1)]: Using backend SequentialBackend with 1 concurrent workers.\n",
      "[Parallel(n_jobs=1)]: Done  20 out of  20 | elapsed:    7.1s finished\n"
     ]
    },
    {
     "name": "stdout",
     "output_type": "stream",
     "text": [
      "Q1d_5\n",
      "\n",
      "ML\n",
      "\n",
      "[[95 10]\n",
      " [ 7 22]]\n",
      "\n",
      "NH\n",
      "\n",
      "[[26  1]\n",
      " [ 1 15]]\n",
      "\n",
      "Undergrads\n",
      "\n",
      "[[56  0]\n",
      " [ 2 16]]\n",
      "Fitting 5 folds for each of 4 candidates, totalling 20 fits\n"
     ]
    },
    {
     "name": "stderr",
     "output_type": "stream",
     "text": [
      "[Parallel(n_jobs=1)]: Using backend SequentialBackend with 1 concurrent workers.\n",
      "[Parallel(n_jobs=1)]: Done  20 out of  20 | elapsed:    7.0s finished\n"
     ]
    },
    {
     "name": "stdout",
     "output_type": "stream",
     "text": [
      "Q1d_61\n",
      "\n",
      "ML\n",
      "\n",
      "[[129   0]\n",
      " [  5   0]]\n",
      "\n",
      "NH\n",
      "\n",
      "[[43]]\n",
      "\n",
      "Undergrads\n",
      "\n",
      "[[66  1]\n",
      " [ 5  2]]\n",
      "Fitting 5 folds for each of 4 candidates, totalling 20 fits\n"
     ]
    },
    {
     "name": "stderr",
     "output_type": "stream",
     "text": [
      "[Parallel(n_jobs=1)]: Using backend SequentialBackend with 1 concurrent workers.\n",
      "[Parallel(n_jobs=1)]: Done  20 out of  20 | elapsed:    7.1s finished\n"
     ]
    },
    {
     "name": "stdout",
     "output_type": "stream",
     "text": [
      "Q1d_63\n",
      "\n",
      "ML\n",
      "\n",
      "[[112   3]\n",
      " [ 14   5]]\n",
      "\n",
      "NH\n",
      "\n",
      "[[39  1]\n",
      " [ 1  2]]\n",
      "\n",
      "Undergrads\n",
      "\n",
      "[[64  3]\n",
      " [ 4  3]]\n"
     ]
    },
    {
     "data": {
      "text/html": [
       "<div>\n",
       "<style scoped>\n",
       "    .dataframe tbody tr th:only-of-type {\n",
       "        vertical-align: middle;\n",
       "    }\n",
       "\n",
       "    .dataframe tbody tr th {\n",
       "        vertical-align: top;\n",
       "    }\n",
       "\n",
       "    .dataframe thead th {\n",
       "        text-align: right;\n",
       "    }\n",
       "</style>\n",
       "<table border=\"1\" class=\"dataframe\">\n",
       "  <thead>\n",
       "    <tr style=\"text-align: right;\">\n",
       "      <th></th>\n",
       "      <th>Q</th>\n",
       "      <th>Logit</th>\n",
       "      <th>NH</th>\n",
       "      <th>Undergrads</th>\n",
       "      <th>Count</th>\n",
       "      <th>Frac</th>\n",
       "      <th>SVM</th>\n",
       "      <th>Bayes</th>\n",
       "    </tr>\n",
       "  </thead>\n",
       "  <tbody>\n",
       "    <tr>\n",
       "      <th>0</th>\n",
       "      <td>Q1d_1</td>\n",
       "      <td>0.806723</td>\n",
       "      <td>0.976744</td>\n",
       "      <td>0.944444</td>\n",
       "      <td>289.0</td>\n",
       "      <td>0.433934</td>\n",
       "      <td>0.786885</td>\n",
       "      <td>0.721311</td>\n",
       "    </tr>\n",
       "    <tr>\n",
       "      <th>1</th>\n",
       "      <td>Q1d_3</td>\n",
       "      <td>0.756098</td>\n",
       "      <td>0.947368</td>\n",
       "      <td>0.955224</td>\n",
       "      <td>222.0</td>\n",
       "      <td>0.333333</td>\n",
       "      <td>0.759494</td>\n",
       "      <td>0.732394</td>\n",
       "    </tr>\n",
       "    <tr>\n",
       "      <th>2</th>\n",
       "      <td>Q1d_51</td>\n",
       "      <td>0.266667</td>\n",
       "      <td>0.500000</td>\n",
       "      <td>0.250000</td>\n",
       "      <td>34.0</td>\n",
       "      <td>0.051051</td>\n",
       "      <td>0.285714</td>\n",
       "      <td>0.000000</td>\n",
       "    </tr>\n",
       "    <tr>\n",
       "      <th>3</th>\n",
       "      <td>Q1d_53</td>\n",
       "      <td>0.512821</td>\n",
       "      <td>0.857143</td>\n",
       "      <td>0.500000</td>\n",
       "      <td>101.0</td>\n",
       "      <td>0.151652</td>\n",
       "      <td>0.388889</td>\n",
       "      <td>0.200000</td>\n",
       "    </tr>\n",
       "    <tr>\n",
       "      <th>4</th>\n",
       "      <td>Q1d_55</td>\n",
       "      <td>0.700000</td>\n",
       "      <td>0.888889</td>\n",
       "      <td>0.857143</td>\n",
       "      <td>56.0</td>\n",
       "      <td>0.084084</td>\n",
       "      <td>0.705882</td>\n",
       "      <td>0.333333</td>\n",
       "    </tr>\n",
       "    <tr>\n",
       "      <th>5</th>\n",
       "      <td>Q1d_57</td>\n",
       "      <td>0.588235</td>\n",
       "      <td>0.500000</td>\n",
       "      <td>0.869565</td>\n",
       "      <td>56.0</td>\n",
       "      <td>0.084084</td>\n",
       "      <td>0.518519</td>\n",
       "      <td>0.222222</td>\n",
       "    </tr>\n",
       "    <tr>\n",
       "      <th>6</th>\n",
       "      <td>Q1d_59</td>\n",
       "      <td>0.413793</td>\n",
       "      <td>0.750000</td>\n",
       "      <td>0.380952</td>\n",
       "      <td>52.0</td>\n",
       "      <td>0.078078</td>\n",
       "      <td>0.521739</td>\n",
       "      <td>0.000000</td>\n",
       "    </tr>\n",
       "    <tr>\n",
       "      <th>7</th>\n",
       "      <td>Q1d_5</td>\n",
       "      <td>0.779661</td>\n",
       "      <td>0.937500</td>\n",
       "      <td>0.941176</td>\n",
       "      <td>184.0</td>\n",
       "      <td>0.276276</td>\n",
       "      <td>0.800000</td>\n",
       "      <td>0.721311</td>\n",
       "    </tr>\n",
       "    <tr>\n",
       "      <th>8</th>\n",
       "      <td>Q1d_61</td>\n",
       "      <td>0.000000</td>\n",
       "      <td>0.000000</td>\n",
       "      <td>0.400000</td>\n",
       "      <td>39.0</td>\n",
       "      <td>0.058559</td>\n",
       "      <td>0.111111</td>\n",
       "      <td>0.000000</td>\n",
       "    </tr>\n",
       "    <tr>\n",
       "      <th>9</th>\n",
       "      <td>Q1d_63</td>\n",
       "      <td>0.423077</td>\n",
       "      <td>0.666667</td>\n",
       "      <td>0.461538</td>\n",
       "      <td>99.0</td>\n",
       "      <td>0.148649</td>\n",
       "      <td>0.393443</td>\n",
       "      <td>0.370370</td>\n",
       "    </tr>\n",
       "  </tbody>\n",
       "</table>\n",
       "</div>"
      ],
      "text/plain": [
       "        Q     Logit        NH  Undergrads  Count      Frac       SVM     Bayes\n",
       "0   Q1d_1  0.806723  0.976744    0.944444  289.0  0.433934  0.786885  0.721311\n",
       "1   Q1d_3  0.756098  0.947368    0.955224  222.0  0.333333  0.759494  0.732394\n",
       "2  Q1d_51  0.266667  0.500000    0.250000   34.0  0.051051  0.285714  0.000000\n",
       "3  Q1d_53  0.512821  0.857143    0.500000  101.0  0.151652  0.388889  0.200000\n",
       "4  Q1d_55  0.700000  0.888889    0.857143   56.0  0.084084  0.705882  0.333333\n",
       "5  Q1d_57  0.588235  0.500000    0.869565   56.0  0.084084  0.518519  0.222222\n",
       "6  Q1d_59  0.413793  0.750000    0.380952   52.0  0.078078  0.521739  0.000000\n",
       "7   Q1d_5  0.779661  0.937500    0.941176  184.0  0.276276  0.800000  0.721311\n",
       "8  Q1d_61  0.000000  0.000000    0.400000   39.0  0.058559  0.111111  0.000000\n",
       "9  Q1d_63  0.423077  0.666667    0.461538   99.0  0.148649  0.393443  0.370370"
      ]
     },
     "execution_count": 14,
     "metadata": {},
     "output_type": "execute_result"
    }
   ],
   "source": [
    "df_1d = GetAllData(df_beta, df_complete, 'Q1d')\n",
    "logitdf_1d = CodeFR(df_1d, 'Q1d', Scoring, CV, 'Logit').rename(columns = {'ML':'Logit'})\n",
    "svmdf_1d = CodeFR(df_1d, 'Q1d', Scoring, CV, 'SVM').rename(columns = {'ML':'SVM'})\n",
    "bayesdf_1d = CodeFR(df_1d, 'Q1d', Scoring, CV, 'NB').rename(columns = {'ML':'Bayes'})\n",
    "dfML_1d = pd.merge(logitdf_1d, svmdf_1d, on = ['Q', 'Undergrads', 'NH', 'Count', \n",
    "                                               'Frac']).merge(bayesdf_1d, on = ['Q', 'Undergrads', 'NH', 'Count', 'Frac'])\n",
    "dfML_1d"
   ]
  },
  {
   "cell_type": "markdown",
   "metadata": {},
   "source": [
    "# Question Q1E"
   ]
  },
  {
   "cell_type": "code",
   "execution_count": 15,
   "metadata": {},
   "outputs": [
    {
     "name": "stdout",
     "output_type": "stream",
     "text": [
      "Fitting 5 folds for each of 4 candidates, totalling 20 fits\n"
     ]
    },
    {
     "name": "stderr",
     "output_type": "stream",
     "text": [
      "[Parallel(n_jobs=1)]: Using backend SequentialBackend with 1 concurrent workers.\n",
      "[Parallel(n_jobs=1)]: Done  20 out of  20 | elapsed:    3.6s finished\n"
     ]
    },
    {
     "name": "stdout",
     "output_type": "stream",
     "text": [
      "Q1e_13\n",
      "\n",
      "ML\n",
      "\n",
      "[[113   8]\n",
      " [  2  18]]\n",
      "\n",
      "NH\n",
      "\n",
      "[[45  0]\n",
      " [ 0  5]]\n",
      "\n",
      "Undergrads\n",
      "\n",
      "[[63  1]\n",
      " [ 0 11]]\n",
      "Fitting 5 folds for each of 4 candidates, totalling 20 fits\n"
     ]
    },
    {
     "name": "stderr",
     "output_type": "stream",
     "text": [
      "[Parallel(n_jobs=1)]: Using backend SequentialBackend with 1 concurrent workers.\n",
      "[Parallel(n_jobs=1)]: Done  20 out of  20 | elapsed:    4.1s finished\n"
     ]
    },
    {
     "name": "stdout",
     "output_type": "stream",
     "text": [
      "Q1e_14\n",
      "\n",
      "ML\n",
      "\n",
      "[[112  14]\n",
      " [  8   7]]\n",
      "\n",
      "NH\n",
      "\n",
      "[[46  0]\n",
      " [ 0  4]]\n",
      "\n",
      "Undergrads\n",
      "\n",
      "[[54  4]\n",
      " [10  7]]\n",
      "Fitting 5 folds for each of 4 candidates, totalling 20 fits\n"
     ]
    },
    {
     "name": "stderr",
     "output_type": "stream",
     "text": [
      "[Parallel(n_jobs=1)]: Using backend SequentialBackend with 1 concurrent workers.\n",
      "[Parallel(n_jobs=1)]: Done  20 out of  20 | elapsed:    6.1s finished\n"
     ]
    },
    {
     "name": "stdout",
     "output_type": "stream",
     "text": [
      "Q1e_16\n",
      "\n",
      "ML\n",
      "\n",
      "[[132   0]\n",
      " [  3   6]]\n",
      "\n",
      "NH\n",
      "\n",
      "[[48  0]\n",
      " [ 0  2]]\n",
      "\n",
      "Undergrads\n",
      "\n",
      "[[72  0]\n",
      " [ 1  2]]\n",
      "Fitting 5 folds for each of 4 candidates, totalling 20 fits\n"
     ]
    },
    {
     "name": "stderr",
     "output_type": "stream",
     "text": [
      "[Parallel(n_jobs=1)]: Using backend SequentialBackend with 1 concurrent workers.\n",
      "[Parallel(n_jobs=1)]: Done  20 out of  20 | elapsed:    6.4s finished\n"
     ]
    },
    {
     "name": "stdout",
     "output_type": "stream",
     "text": [
      "Q1e_17\n",
      "\n",
      "ML\n",
      "\n",
      "[[130   3]\n",
      " [  4   4]]\n",
      "\n",
      "NH\n",
      "\n",
      "[[50]]\n",
      "\n",
      "Undergrads\n",
      "\n",
      "[[71  1]\n",
      " [ 1  2]]\n",
      "Fitting 5 folds for each of 4 candidates, totalling 20 fits\n"
     ]
    },
    {
     "name": "stderr",
     "output_type": "stream",
     "text": [
      "[Parallel(n_jobs=1)]: Using backend SequentialBackend with 1 concurrent workers.\n",
      "[Parallel(n_jobs=1)]: Done  20 out of  20 | elapsed:    6.1s finished\n"
     ]
    },
    {
     "name": "stdout",
     "output_type": "stream",
     "text": [
      "Q1e_18\n",
      "\n",
      "ML\n",
      "\n",
      "[[134   3]\n",
      " [  3   1]]\n",
      "\n",
      "NH\n",
      "\n",
      "[[49  0]\n",
      " [ 1  0]]\n",
      "\n",
      "Undergrads\n",
      "\n",
      "[[72  0]\n",
      " [ 0  3]]\n",
      "Fitting 5 folds for each of 4 candidates, totalling 20 fits\n"
     ]
    },
    {
     "name": "stderr",
     "output_type": "stream",
     "text": [
      "[Parallel(n_jobs=1)]: Using backend SequentialBackend with 1 concurrent workers.\n",
      "[Parallel(n_jobs=1)]: Done  20 out of  20 | elapsed:    5.8s finished\n"
     ]
    },
    {
     "name": "stdout",
     "output_type": "stream",
     "text": [
      "Q1e_19\n",
      "\n",
      "ML\n",
      "\n",
      "[[126   7]\n",
      " [  5   3]]\n",
      "\n",
      "NH\n",
      "\n",
      "[[48  0]\n",
      " [ 0  2]]\n",
      "\n",
      "Undergrads\n",
      "\n",
      "[[67  0]\n",
      " [ 5  3]]\n",
      "Fitting 5 folds for each of 4 candidates, totalling 20 fits\n"
     ]
    },
    {
     "name": "stderr",
     "output_type": "stream",
     "text": [
      "[Parallel(n_jobs=1)]: Using backend SequentialBackend with 1 concurrent workers.\n",
      "[Parallel(n_jobs=1)]: Done  20 out of  20 | elapsed:    5.9s finished\n"
     ]
    },
    {
     "name": "stdout",
     "output_type": "stream",
     "text": [
      "Q1e_1\n",
      "\n",
      "ML\n",
      "\n",
      "[[48  8]\n",
      " [13 72]]\n",
      "\n",
      "NH\n",
      "\n",
      "[[15  0]\n",
      " [ 1 34]]\n",
      "\n",
      "Undergrads\n",
      "\n",
      "[[24  2]\n",
      " [ 4 45]]\n",
      "Fitting 5 folds for each of 4 candidates, totalling 20 fits\n"
     ]
    },
    {
     "name": "stderr",
     "output_type": "stream",
     "text": [
      "[Parallel(n_jobs=1)]: Using backend SequentialBackend with 1 concurrent workers.\n",
      "[Parallel(n_jobs=1)]: Done  20 out of  20 | elapsed:    5.6s finished\n"
     ]
    },
    {
     "name": "stdout",
     "output_type": "stream",
     "text": [
      "Q1e_20\n",
      "\n",
      "ML\n",
      "\n",
      "[[130   1]\n",
      " [  0  10]]\n",
      "\n",
      "NH\n",
      "\n",
      "[[44  0]\n",
      " [ 1  5]]\n",
      "\n",
      "Undergrads\n",
      "\n",
      "[[67  0]\n",
      " [ 0  8]]\n",
      "Fitting 5 folds for each of 4 candidates, totalling 20 fits\n"
     ]
    },
    {
     "name": "stderr",
     "output_type": "stream",
     "text": [
      "[Parallel(n_jobs=1)]: Using backend SequentialBackend with 1 concurrent workers.\n",
      "[Parallel(n_jobs=1)]: Done  20 out of  20 | elapsed:    5.6s finished\n"
     ]
    },
    {
     "name": "stdout",
     "output_type": "stream",
     "text": [
      "Q1e_23\n",
      "\n",
      "ML\n",
      "\n",
      "[[126   6]\n",
      " [  1   8]]\n",
      "\n",
      "NH\n",
      "\n",
      "[[47  0]\n",
      " [ 1  2]]\n",
      "\n",
      "Undergrads\n",
      "\n",
      "[[69  0]\n",
      " [ 1  5]]\n",
      "Fitting 5 folds for each of 4 candidates, totalling 20 fits\n"
     ]
    },
    {
     "name": "stderr",
     "output_type": "stream",
     "text": [
      "[Parallel(n_jobs=1)]: Using backend SequentialBackend with 1 concurrent workers.\n",
      "[Parallel(n_jobs=1)]: Done  20 out of  20 | elapsed:    5.7s finished\n"
     ]
    },
    {
     "name": "stdout",
     "output_type": "stream",
     "text": [
      "Q1e_24\n",
      "\n",
      "ML\n",
      "\n",
      "[[125  10]\n",
      " [  1   5]]\n",
      "\n",
      "NH\n",
      "\n",
      "[[50]]\n",
      "\n",
      "Undergrads\n",
      "\n",
      "[[69  0]\n",
      " [ 4  2]]\n",
      "Fitting 5 folds for each of 4 candidates, totalling 20 fits\n"
     ]
    },
    {
     "name": "stderr",
     "output_type": "stream",
     "text": [
      "[Parallel(n_jobs=1)]: Using backend SequentialBackend with 1 concurrent workers.\n",
      "[Parallel(n_jobs=1)]: Done  20 out of  20 | elapsed:    5.8s finished\n"
     ]
    },
    {
     "name": "stdout",
     "output_type": "stream",
     "text": [
      "Q1e_28\n",
      "\n",
      "ML\n",
      "\n",
      "[[141]]\n",
      "\n",
      "NH\n",
      "\n",
      "[[50]]\n",
      "\n",
      "Undergrads\n",
      "\n",
      "[[75]]\n",
      "Fitting 5 folds for each of 4 candidates, totalling 20 fits\n"
     ]
    },
    {
     "name": "stderr",
     "output_type": "stream",
     "text": [
      "[Parallel(n_jobs=1)]: Using backend SequentialBackend with 1 concurrent workers.\n",
      "[Parallel(n_jobs=1)]: Done  20 out of  20 | elapsed:    5.8s finished\n"
     ]
    },
    {
     "name": "stdout",
     "output_type": "stream",
     "text": [
      "Q1e_4\n",
      "\n",
      "ML\n",
      "\n",
      "[[120   7]\n",
      " [  4  10]]\n",
      "\n",
      "NH\n",
      "\n",
      "[[46  0]\n",
      " [ 0  4]]\n",
      "\n",
      "Undergrads\n",
      "\n",
      "[[66  2]\n",
      " [ 0  7]]\n",
      "Fitting 5 folds for each of 4 candidates, totalling 20 fits\n"
     ]
    },
    {
     "name": "stderr",
     "output_type": "stream",
     "text": [
      "[Parallel(n_jobs=1)]: Using backend SequentialBackend with 1 concurrent workers.\n",
      "[Parallel(n_jobs=1)]: Done  20 out of  20 | elapsed:    5.9s finished\n"
     ]
    },
    {
     "name": "stdout",
     "output_type": "stream",
     "text": [
      "Q1e_13\n",
      "\n",
      "ML\n",
      "\n",
      "[[114   7]\n",
      " [  2  18]]\n",
      "\n",
      "NH\n",
      "\n",
      "[[45  0]\n",
      " [ 0  5]]\n",
      "\n",
      "Undergrads\n",
      "\n",
      "[[63  1]\n",
      " [ 0 11]]\n",
      "Fitting 5 folds for each of 4 candidates, totalling 20 fits\n"
     ]
    },
    {
     "name": "stderr",
     "output_type": "stream",
     "text": [
      "[Parallel(n_jobs=1)]: Using backend SequentialBackend with 1 concurrent workers.\n",
      "[Parallel(n_jobs=1)]: Done  20 out of  20 | elapsed:    6.3s finished\n"
     ]
    },
    {
     "name": "stdout",
     "output_type": "stream",
     "text": [
      "Q1e_14\n",
      "\n",
      "ML\n",
      "\n",
      "[[108  18]\n",
      " [  3  12]]\n",
      "\n",
      "NH\n",
      "\n",
      "[[46  0]\n",
      " [ 0  4]]\n",
      "\n",
      "Undergrads\n",
      "\n",
      "[[54  4]\n",
      " [10  7]]\n",
      "Fitting 5 folds for each of 4 candidates, totalling 20 fits\n"
     ]
    },
    {
     "name": "stderr",
     "output_type": "stream",
     "text": [
      "[Parallel(n_jobs=1)]: Using backend SequentialBackend with 1 concurrent workers.\n",
      "[Parallel(n_jobs=1)]: Done  20 out of  20 | elapsed:    6.0s finished\n"
     ]
    },
    {
     "name": "stdout",
     "output_type": "stream",
     "text": [
      "Q1e_16\n",
      "\n",
      "ML\n",
      "\n",
      "[[132   0]\n",
      " [  5   4]]\n",
      "\n",
      "NH\n",
      "\n",
      "[[48  0]\n",
      " [ 0  2]]\n",
      "\n",
      "Undergrads\n",
      "\n",
      "[[72  0]\n",
      " [ 1  2]]\n",
      "Fitting 5 folds for each of 4 candidates, totalling 20 fits\n"
     ]
    },
    {
     "name": "stderr",
     "output_type": "stream",
     "text": [
      "[Parallel(n_jobs=1)]: Using backend SequentialBackend with 1 concurrent workers.\n",
      "[Parallel(n_jobs=1)]: Done  20 out of  20 | elapsed:    6.2s finished\n"
     ]
    },
    {
     "name": "stdout",
     "output_type": "stream",
     "text": [
      "Q1e_17\n",
      "\n",
      "ML\n",
      "\n",
      "[[131   2]\n",
      " [  5   3]]\n",
      "\n",
      "NH\n",
      "\n",
      "[[50]]\n",
      "\n",
      "Undergrads\n",
      "\n",
      "[[71  1]\n",
      " [ 1  2]]\n",
      "Fitting 5 folds for each of 4 candidates, totalling 20 fits\n"
     ]
    },
    {
     "name": "stderr",
     "output_type": "stream",
     "text": [
      "[Parallel(n_jobs=1)]: Using backend SequentialBackend with 1 concurrent workers.\n",
      "[Parallel(n_jobs=1)]: Done  20 out of  20 | elapsed:    6.3s finished\n"
     ]
    },
    {
     "name": "stdout",
     "output_type": "stream",
     "text": [
      "Q1e_18\n",
      "\n",
      "ML\n",
      "\n",
      "[[134   3]\n",
      " [  3   1]]\n",
      "\n",
      "NH\n",
      "\n",
      "[[49  0]\n",
      " [ 1  0]]\n",
      "\n",
      "Undergrads\n",
      "\n",
      "[[72  0]\n",
      " [ 0  3]]\n",
      "Fitting 5 folds for each of 4 candidates, totalling 20 fits\n"
     ]
    },
    {
     "name": "stderr",
     "output_type": "stream",
     "text": [
      "[Parallel(n_jobs=1)]: Using backend SequentialBackend with 1 concurrent workers.\n",
      "[Parallel(n_jobs=1)]: Done  20 out of  20 | elapsed:    6.0s finished\n"
     ]
    },
    {
     "name": "stdout",
     "output_type": "stream",
     "text": [
      "Q1e_19\n",
      "\n",
      "ML\n",
      "\n",
      "[[129   4]\n",
      " [  6   2]]\n",
      "\n",
      "NH\n",
      "\n",
      "[[48  0]\n",
      " [ 0  2]]\n",
      "\n",
      "Undergrads\n",
      "\n",
      "[[67  0]\n",
      " [ 5  3]]\n",
      "Fitting 5 folds for each of 4 candidates, totalling 20 fits\n"
     ]
    },
    {
     "name": "stderr",
     "output_type": "stream",
     "text": [
      "[Parallel(n_jobs=1)]: Using backend SequentialBackend with 1 concurrent workers.\n",
      "[Parallel(n_jobs=1)]: Done  20 out of  20 | elapsed:    6.1s finished\n"
     ]
    },
    {
     "name": "stdout",
     "output_type": "stream",
     "text": [
      "Q1e_1\n",
      "\n",
      "ML\n",
      "\n",
      "[[46 10]\n",
      " [12 73]]\n",
      "\n",
      "NH\n",
      "\n",
      "[[15  0]\n",
      " [ 1 34]]\n",
      "\n",
      "Undergrads\n",
      "\n",
      "[[24  2]\n",
      " [ 4 45]]\n",
      "Fitting 5 folds for each of 4 candidates, totalling 20 fits\n"
     ]
    },
    {
     "name": "stderr",
     "output_type": "stream",
     "text": [
      "[Parallel(n_jobs=1)]: Using backend SequentialBackend with 1 concurrent workers.\n",
      "[Parallel(n_jobs=1)]: Done  20 out of  20 | elapsed:    5.8s finished\n"
     ]
    },
    {
     "name": "stdout",
     "output_type": "stream",
     "text": [
      "Q1e_20\n",
      "\n",
      "ML\n",
      "\n",
      "[[131   0]\n",
      " [  1   9]]\n",
      "\n",
      "NH\n",
      "\n",
      "[[44  0]\n",
      " [ 1  5]]\n",
      "\n",
      "Undergrads\n",
      "\n",
      "[[67  0]\n",
      " [ 0  8]]\n",
      "Fitting 5 folds for each of 4 candidates, totalling 20 fits\n"
     ]
    },
    {
     "name": "stderr",
     "output_type": "stream",
     "text": [
      "[Parallel(n_jobs=1)]: Using backend SequentialBackend with 1 concurrent workers.\n",
      "[Parallel(n_jobs=1)]: Done  20 out of  20 | elapsed:    5.7s finished\n"
     ]
    },
    {
     "name": "stdout",
     "output_type": "stream",
     "text": [
      "Q1e_23\n",
      "\n",
      "ML\n",
      "\n",
      "[[128   4]\n",
      " [  2   7]]\n",
      "\n",
      "NH\n",
      "\n",
      "[[47  0]\n",
      " [ 1  2]]\n",
      "\n",
      "Undergrads\n",
      "\n",
      "[[69  0]\n",
      " [ 1  5]]\n",
      "Fitting 5 folds for each of 4 candidates, totalling 20 fits\n"
     ]
    },
    {
     "name": "stderr",
     "output_type": "stream",
     "text": [
      "[Parallel(n_jobs=1)]: Using backend SequentialBackend with 1 concurrent workers.\n",
      "[Parallel(n_jobs=1)]: Done  20 out of  20 | elapsed:    6.5s finished\n"
     ]
    },
    {
     "name": "stdout",
     "output_type": "stream",
     "text": [
      "Q1e_24\n",
      "\n",
      "ML\n",
      "\n",
      "[[123  12]\n",
      " [  1   5]]\n",
      "\n",
      "NH\n",
      "\n",
      "[[50]]\n",
      "\n",
      "Undergrads\n",
      "\n",
      "[[69  0]\n",
      " [ 4  2]]\n",
      "Fitting 5 folds for each of 4 candidates, totalling 20 fits\n"
     ]
    },
    {
     "name": "stderr",
     "output_type": "stream",
     "text": [
      "[Parallel(n_jobs=1)]: Using backend SequentialBackend with 1 concurrent workers.\n",
      "[Parallel(n_jobs=1)]: Done  20 out of  20 | elapsed:    5.9s finished\n"
     ]
    },
    {
     "name": "stdout",
     "output_type": "stream",
     "text": [
      "Q1e_28\n",
      "\n",
      "ML\n",
      "\n",
      "[[141]]\n",
      "\n",
      "NH\n",
      "\n",
      "[[50]]\n",
      "\n",
      "Undergrads\n",
      "\n",
      "[[75]]\n",
      "Fitting 5 folds for each of 4 candidates, totalling 20 fits\n"
     ]
    },
    {
     "name": "stderr",
     "output_type": "stream",
     "text": [
      "[Parallel(n_jobs=1)]: Using backend SequentialBackend with 1 concurrent workers.\n",
      "[Parallel(n_jobs=1)]: Done  20 out of  20 | elapsed:    6.3s finished\n"
     ]
    },
    {
     "name": "stdout",
     "output_type": "stream",
     "text": [
      "Q1e_4\n",
      "\n",
      "ML\n",
      "\n",
      "[[124   3]\n",
      " [  4  10]]\n",
      "\n",
      "NH\n",
      "\n",
      "[[46  0]\n",
      " [ 0  4]]\n",
      "\n",
      "Undergrads\n",
      "\n",
      "[[66  2]\n",
      " [ 0  7]]\n",
      "Fitting 5 folds for each of 4 candidates, totalling 20 fits\n"
     ]
    },
    {
     "name": "stderr",
     "output_type": "stream",
     "text": [
      "[Parallel(n_jobs=1)]: Using backend SequentialBackend with 1 concurrent workers.\n",
      "[Parallel(n_jobs=1)]: Done  20 out of  20 | elapsed:    5.6s finished\n"
     ]
    },
    {
     "name": "stdout",
     "output_type": "stream",
     "text": [
      "Q1e_13\n",
      "\n",
      "ML\n",
      "\n",
      "[[118   3]\n",
      " [ 10  10]]\n",
      "\n",
      "NH\n",
      "\n",
      "[[45  0]\n",
      " [ 0  5]]\n",
      "\n",
      "Undergrads\n",
      "\n",
      "[[63  1]\n",
      " [ 0 11]]\n",
      "Fitting 5 folds for each of 4 candidates, totalling 20 fits\n"
     ]
    },
    {
     "name": "stderr",
     "output_type": "stream",
     "text": [
      "[Parallel(n_jobs=1)]: Using backend SequentialBackend with 1 concurrent workers.\n",
      "[Parallel(n_jobs=1)]: Done  20 out of  20 | elapsed:    5.9s finished\n"
     ]
    },
    {
     "name": "stdout",
     "output_type": "stream",
     "text": [
      "Q1e_14\n",
      "\n",
      "ML\n",
      "\n",
      "[[120   6]\n",
      " [ 10   5]]\n",
      "\n",
      "NH\n",
      "\n",
      "[[46  0]\n",
      " [ 0  4]]\n",
      "\n",
      "Undergrads\n",
      "\n",
      "[[54  4]\n",
      " [10  7]]\n",
      "Fitting 5 folds for each of 4 candidates, totalling 20 fits\n"
     ]
    },
    {
     "name": "stderr",
     "output_type": "stream",
     "text": [
      "[Parallel(n_jobs=1)]: Using backend SequentialBackend with 1 concurrent workers.\n",
      "[Parallel(n_jobs=1)]: Done  20 out of  20 | elapsed:    5.8s finished\n"
     ]
    },
    {
     "name": "stdout",
     "output_type": "stream",
     "text": [
      "Q1e_16\n",
      "\n",
      "ML\n",
      "\n",
      "[[132   0]\n",
      " [  8   1]]\n",
      "\n",
      "NH\n",
      "\n",
      "[[48  0]\n",
      " [ 0  2]]\n",
      "\n",
      "Undergrads\n",
      "\n",
      "[[72  0]\n",
      " [ 1  2]]\n",
      "Fitting 5 folds for each of 4 candidates, totalling 20 fits\n"
     ]
    },
    {
     "name": "stderr",
     "output_type": "stream",
     "text": [
      "[Parallel(n_jobs=1)]: Using backend SequentialBackend with 1 concurrent workers.\n",
      "[Parallel(n_jobs=1)]: Done  20 out of  20 | elapsed:    5.5s finished\n"
     ]
    },
    {
     "name": "stdout",
     "output_type": "stream",
     "text": [
      "Q1e_17\n",
      "\n",
      "ML\n",
      "\n",
      "[[132   1]\n",
      " [  6   2]]\n",
      "\n",
      "NH\n",
      "\n",
      "[[50]]\n",
      "\n",
      "Undergrads\n",
      "\n",
      "[[71  1]\n",
      " [ 1  2]]\n",
      "Fitting 5 folds for each of 4 candidates, totalling 20 fits\n"
     ]
    },
    {
     "name": "stderr",
     "output_type": "stream",
     "text": [
      "[Parallel(n_jobs=1)]: Using backend SequentialBackend with 1 concurrent workers.\n",
      "[Parallel(n_jobs=1)]: Done  20 out of  20 | elapsed:    5.7s finished\n"
     ]
    },
    {
     "name": "stdout",
     "output_type": "stream",
     "text": [
      "Q1e_18\n",
      "\n",
      "ML\n",
      "\n",
      "[[137   0]\n",
      " [  4   0]]\n",
      "\n",
      "NH\n",
      "\n",
      "[[49  0]\n",
      " [ 1  0]]\n",
      "\n",
      "Undergrads\n",
      "\n",
      "[[72  0]\n",
      " [ 0  3]]\n",
      "Fitting 5 folds for each of 4 candidates, totalling 20 fits\n"
     ]
    },
    {
     "name": "stderr",
     "output_type": "stream",
     "text": [
      "[Parallel(n_jobs=1)]: Using backend SequentialBackend with 1 concurrent workers.\n",
      "[Parallel(n_jobs=1)]: Done  20 out of  20 | elapsed:    6.1s finished\n"
     ]
    },
    {
     "name": "stdout",
     "output_type": "stream",
     "text": [
      "Q1e_19\n",
      "\n",
      "ML\n",
      "\n",
      "[[130   3]\n",
      " [  8   0]]\n",
      "\n",
      "NH\n",
      "\n",
      "[[48  0]\n",
      " [ 0  2]]\n",
      "\n",
      "Undergrads\n",
      "\n",
      "[[67  0]\n",
      " [ 5  3]]\n",
      "Fitting 5 folds for each of 4 candidates, totalling 20 fits\n"
     ]
    },
    {
     "name": "stderr",
     "output_type": "stream",
     "text": [
      "[Parallel(n_jobs=1)]: Using backend SequentialBackend with 1 concurrent workers.\n",
      "[Parallel(n_jobs=1)]: Done  20 out of  20 | elapsed:    5.2s finished\n"
     ]
    },
    {
     "name": "stdout",
     "output_type": "stream",
     "text": [
      "Q1e_1\n",
      "\n",
      "ML\n",
      "\n",
      "[[34 22]\n",
      " [ 5 80]]\n",
      "\n",
      "NH\n",
      "\n",
      "[[15  0]\n",
      " [ 1 34]]\n",
      "\n",
      "Undergrads\n",
      "\n",
      "[[24  2]\n",
      " [ 4 45]]\n",
      "Fitting 5 folds for each of 4 candidates, totalling 20 fits\n"
     ]
    },
    {
     "name": "stderr",
     "output_type": "stream",
     "text": [
      "[Parallel(n_jobs=1)]: Using backend SequentialBackend with 1 concurrent workers.\n",
      "[Parallel(n_jobs=1)]: Done  20 out of  20 | elapsed:    5.9s finished\n"
     ]
    },
    {
     "name": "stdout",
     "output_type": "stream",
     "text": [
      "Q1e_20\n",
      "\n",
      "ML\n",
      "\n",
      "[[128   3]\n",
      " [  2   8]]\n",
      "\n",
      "NH\n",
      "\n",
      "[[44  0]\n",
      " [ 1  5]]\n",
      "\n",
      "Undergrads\n",
      "\n",
      "[[67  0]\n",
      " [ 0  8]]\n",
      "Fitting 5 folds for each of 4 candidates, totalling 20 fits\n"
     ]
    },
    {
     "name": "stderr",
     "output_type": "stream",
     "text": [
      "[Parallel(n_jobs=1)]: Using backend SequentialBackend with 1 concurrent workers.\n",
      "[Parallel(n_jobs=1)]: Done  20 out of  20 | elapsed:    5.6s finished\n"
     ]
    },
    {
     "name": "stdout",
     "output_type": "stream",
     "text": [
      "Q1e_23\n",
      "\n",
      "ML\n",
      "\n",
      "[[130   2]\n",
      " [  2   7]]\n",
      "\n",
      "NH\n",
      "\n",
      "[[47  0]\n",
      " [ 1  2]]\n",
      "\n",
      "Undergrads\n",
      "\n",
      "[[69  0]\n",
      " [ 1  5]]\n",
      "Fitting 5 folds for each of 4 candidates, totalling 20 fits\n"
     ]
    },
    {
     "name": "stderr",
     "output_type": "stream",
     "text": [
      "[Parallel(n_jobs=1)]: Using backend SequentialBackend with 1 concurrent workers.\n",
      "[Parallel(n_jobs=1)]: Done  20 out of  20 | elapsed:    5.4s finished\n"
     ]
    },
    {
     "name": "stdout",
     "output_type": "stream",
     "text": [
      "Q1e_24\n",
      "\n",
      "ML\n",
      "\n",
      "[[134   1]\n",
      " [  4   2]]\n",
      "\n",
      "NH\n",
      "\n",
      "[[50]]\n",
      "\n",
      "Undergrads\n",
      "\n",
      "[[69  0]\n",
      " [ 4  2]]\n",
      "Fitting 5 folds for each of 4 candidates, totalling 20 fits\n"
     ]
    },
    {
     "name": "stderr",
     "output_type": "stream",
     "text": [
      "[Parallel(n_jobs=1)]: Using backend SequentialBackend with 1 concurrent workers.\n",
      "[Parallel(n_jobs=1)]: Done  20 out of  20 | elapsed:    5.9s finished\n"
     ]
    },
    {
     "name": "stdout",
     "output_type": "stream",
     "text": [
      "Q1e_28\n",
      "\n",
      "ML\n",
      "\n",
      "[[141]]\n",
      "\n",
      "NH\n",
      "\n",
      "[[50]]\n",
      "\n",
      "Undergrads\n",
      "\n",
      "[[75]]\n",
      "Fitting 5 folds for each of 4 candidates, totalling 20 fits\n"
     ]
    },
    {
     "name": "stderr",
     "output_type": "stream",
     "text": [
      "[Parallel(n_jobs=1)]: Using backend SequentialBackend with 1 concurrent workers.\n",
      "[Parallel(n_jobs=1)]: Done  20 out of  20 | elapsed:    5.5s finished\n"
     ]
    },
    {
     "name": "stdout",
     "output_type": "stream",
     "text": [
      "Q1e_4\n",
      "\n",
      "ML\n",
      "\n",
      "[[125   2]\n",
      " [ 11   3]]\n",
      "\n",
      "NH\n",
      "\n",
      "[[46  0]\n",
      " [ 0  4]]\n",
      "\n",
      "Undergrads\n",
      "\n",
      "[[66  2]\n",
      " [ 0  7]]\n"
     ]
    },
    {
     "data": {
      "text/html": [
       "<div>\n",
       "<style scoped>\n",
       "    .dataframe tbody tr th:only-of-type {\n",
       "        vertical-align: middle;\n",
       "    }\n",
       "\n",
       "    .dataframe tbody tr th {\n",
       "        vertical-align: top;\n",
       "    }\n",
       "\n",
       "    .dataframe thead th {\n",
       "        text-align: right;\n",
       "    }\n",
       "</style>\n",
       "<table border=\"1\" class=\"dataframe\">\n",
       "  <thead>\n",
       "    <tr style=\"text-align: right;\">\n",
       "      <th></th>\n",
       "      <th>Q</th>\n",
       "      <th>Logit</th>\n",
       "      <th>NH</th>\n",
       "      <th>Undergrads</th>\n",
       "      <th>Count</th>\n",
       "      <th>Frac</th>\n",
       "      <th>SVM</th>\n",
       "      <th>Bayes</th>\n",
       "    </tr>\n",
       "  </thead>\n",
       "  <tbody>\n",
       "    <tr>\n",
       "      <th>0</th>\n",
       "      <td>Q1e_13</td>\n",
       "      <td>0.782609</td>\n",
       "      <td>1.000000</td>\n",
       "      <td>0.956522</td>\n",
       "      <td>93.0</td>\n",
       "      <td>0.132290</td>\n",
       "      <td>0.800000</td>\n",
       "      <td>0.606061</td>\n",
       "    </tr>\n",
       "    <tr>\n",
       "      <th>1</th>\n",
       "      <td>Q1e_14</td>\n",
       "      <td>0.388889</td>\n",
       "      <td>1.000000</td>\n",
       "      <td>0.500000</td>\n",
       "      <td>96.0</td>\n",
       "      <td>0.136558</td>\n",
       "      <td>0.533333</td>\n",
       "      <td>0.384615</td>\n",
       "    </tr>\n",
       "    <tr>\n",
       "      <th>2</th>\n",
       "      <td>Q1e_16</td>\n",
       "      <td>0.800000</td>\n",
       "      <td>1.000000</td>\n",
       "      <td>0.800000</td>\n",
       "      <td>32.0</td>\n",
       "      <td>0.045519</td>\n",
       "      <td>0.615385</td>\n",
       "      <td>0.200000</td>\n",
       "    </tr>\n",
       "    <tr>\n",
       "      <th>3</th>\n",
       "      <td>Q1e_17</td>\n",
       "      <td>0.533333</td>\n",
       "      <td>0.000000</td>\n",
       "      <td>0.666667</td>\n",
       "      <td>29.0</td>\n",
       "      <td>0.041252</td>\n",
       "      <td>0.461538</td>\n",
       "      <td>0.363636</td>\n",
       "    </tr>\n",
       "    <tr>\n",
       "      <th>4</th>\n",
       "      <td>Q1e_18</td>\n",
       "      <td>0.250000</td>\n",
       "      <td>0.000000</td>\n",
       "      <td>1.000000</td>\n",
       "      <td>25.0</td>\n",
       "      <td>0.035562</td>\n",
       "      <td>0.250000</td>\n",
       "      <td>0.000000</td>\n",
       "    </tr>\n",
       "    <tr>\n",
       "      <th>5</th>\n",
       "      <td>Q1e_19</td>\n",
       "      <td>0.333333</td>\n",
       "      <td>1.000000</td>\n",
       "      <td>0.545455</td>\n",
       "      <td>38.0</td>\n",
       "      <td>0.054054</td>\n",
       "      <td>0.285714</td>\n",
       "      <td>0.000000</td>\n",
       "    </tr>\n",
       "    <tr>\n",
       "      <th>6</th>\n",
       "      <td>Q1e_1</td>\n",
       "      <td>0.872727</td>\n",
       "      <td>0.985507</td>\n",
       "      <td>0.937500</td>\n",
       "      <td>403.0</td>\n",
       "      <td>0.573257</td>\n",
       "      <td>0.869048</td>\n",
       "      <td>0.855615</td>\n",
       "    </tr>\n",
       "    <tr>\n",
       "      <th>7</th>\n",
       "      <td>Q1e_20</td>\n",
       "      <td>0.952381</td>\n",
       "      <td>0.909091</td>\n",
       "      <td>1.000000</td>\n",
       "      <td>47.0</td>\n",
       "      <td>0.066856</td>\n",
       "      <td>0.947368</td>\n",
       "      <td>0.761905</td>\n",
       "    </tr>\n",
       "    <tr>\n",
       "      <th>8</th>\n",
       "      <td>Q1e_23</td>\n",
       "      <td>0.695652</td>\n",
       "      <td>0.800000</td>\n",
       "      <td>0.909091</td>\n",
       "      <td>51.0</td>\n",
       "      <td>0.072546</td>\n",
       "      <td>0.700000</td>\n",
       "      <td>0.777778</td>\n",
       "    </tr>\n",
       "    <tr>\n",
       "      <th>9</th>\n",
       "      <td>Q1e_24</td>\n",
       "      <td>0.476190</td>\n",
       "      <td>0.000000</td>\n",
       "      <td>0.500000</td>\n",
       "      <td>37.0</td>\n",
       "      <td>0.052632</td>\n",
       "      <td>0.434783</td>\n",
       "      <td>0.444444</td>\n",
       "    </tr>\n",
       "    <tr>\n",
       "      <th>10</th>\n",
       "      <td>Q1e_28</td>\n",
       "      <td>0.000000</td>\n",
       "      <td>0.000000</td>\n",
       "      <td>0.000000</td>\n",
       "      <td>4.0</td>\n",
       "      <td>0.005690</td>\n",
       "      <td>0.000000</td>\n",
       "      <td>0.000000</td>\n",
       "    </tr>\n",
       "    <tr>\n",
       "      <th>11</th>\n",
       "      <td>Q1e_4</td>\n",
       "      <td>0.645161</td>\n",
       "      <td>1.000000</td>\n",
       "      <td>0.875000</td>\n",
       "      <td>68.0</td>\n",
       "      <td>0.096728</td>\n",
       "      <td>0.740741</td>\n",
       "      <td>0.315789</td>\n",
       "    </tr>\n",
       "  </tbody>\n",
       "</table>\n",
       "</div>"
      ],
      "text/plain": [
       "         Q     Logit        NH  Undergrads  Count      Frac       SVM  \\\n",
       "0   Q1e_13  0.782609  1.000000    0.956522   93.0  0.132290  0.800000   \n",
       "1   Q1e_14  0.388889  1.000000    0.500000   96.0  0.136558  0.533333   \n",
       "2   Q1e_16  0.800000  1.000000    0.800000   32.0  0.045519  0.615385   \n",
       "3   Q1e_17  0.533333  0.000000    0.666667   29.0  0.041252  0.461538   \n",
       "4   Q1e_18  0.250000  0.000000    1.000000   25.0  0.035562  0.250000   \n",
       "5   Q1e_19  0.333333  1.000000    0.545455   38.0  0.054054  0.285714   \n",
       "6    Q1e_1  0.872727  0.985507    0.937500  403.0  0.573257  0.869048   \n",
       "7   Q1e_20  0.952381  0.909091    1.000000   47.0  0.066856  0.947368   \n",
       "8   Q1e_23  0.695652  0.800000    0.909091   51.0  0.072546  0.700000   \n",
       "9   Q1e_24  0.476190  0.000000    0.500000   37.0  0.052632  0.434783   \n",
       "10  Q1e_28  0.000000  0.000000    0.000000    4.0  0.005690  0.000000   \n",
       "11   Q1e_4  0.645161  1.000000    0.875000   68.0  0.096728  0.740741   \n",
       "\n",
       "       Bayes  \n",
       "0   0.606061  \n",
       "1   0.384615  \n",
       "2   0.200000  \n",
       "3   0.363636  \n",
       "4   0.000000  \n",
       "5   0.000000  \n",
       "6   0.855615  \n",
       "7   0.761905  \n",
       "8   0.777778  \n",
       "9   0.444444  \n",
       "10  0.000000  \n",
       "11  0.315789  "
      ]
     },
     "execution_count": 15,
     "metadata": {},
     "output_type": "execute_result"
    }
   ],
   "source": [
    "df_1e = GetAllData(df_beta, df_complete, 'Q1e')\n",
    "logitdf_1e = CodeFR(df_1e, 'Q1e', Scoring, CV, 'Logit').rename(columns = {'ML':'Logit'})\n",
    "svmdf_1e = CodeFR(df_1e, 'Q1e', Scoring, CV, 'SVM').rename(columns = {'ML':'SVM'})\n",
    "bayesdf_1e = CodeFR(df_1e, 'Q1e', Scoring, CV, 'NB').rename(columns = {'ML':'Bayes'})\n",
    "dfML_1e = pd.merge(logitdf_1e, svmdf_1e, on = ['Q', 'Undergrads', 'NH', 'Count', \n",
    "                                               'Frac']).merge(bayesdf_1e, on = ['Q', 'Undergrads', 'NH', 'Count', 'Frac'])\n",
    "dfML_1e"
   ]
  },
  {
   "cell_type": "markdown",
   "metadata": {},
   "source": [
    "# Question Q2B"
   ]
  },
  {
   "cell_type": "code",
   "execution_count": 16,
   "metadata": {},
   "outputs": [
    {
     "name": "stdout",
     "output_type": "stream",
     "text": [
      "Fitting 5 folds for each of 4 candidates, totalling 20 fits\n"
     ]
    },
    {
     "name": "stderr",
     "output_type": "stream",
     "text": [
      "[Parallel(n_jobs=1)]: Using backend SequentialBackend with 1 concurrent workers.\n",
      "[Parallel(n_jobs=1)]: Done  20 out of  20 | elapsed:    7.4s finished\n"
     ]
    },
    {
     "name": "stdout",
     "output_type": "stream",
     "text": [
      "Q2b_11\n",
      "\n",
      "ML\n",
      "\n",
      "[[93 24]\n",
      " [12  7]]\n",
      "\n",
      "NH\n",
      "\n",
      "[[34  0]\n",
      " [ 4  7]]\n",
      "Fitting 5 folds for each of 4 candidates, totalling 20 fits\n"
     ]
    },
    {
     "name": "stderr",
     "output_type": "stream",
     "text": [
      "[Parallel(n_jobs=1)]: Using backend SequentialBackend with 1 concurrent workers.\n",
      "[Parallel(n_jobs=1)]: Done  20 out of  20 | elapsed:    6.9s finished\n"
     ]
    },
    {
     "name": "stdout",
     "output_type": "stream",
     "text": [
      "Q2b_1\n",
      "\n",
      "ML\n",
      "\n",
      "[[109  12]\n",
      " [  8   7]]\n",
      "\n",
      "NH\n",
      "\n",
      "[[39  2]\n",
      " [ 1  3]]\n",
      "Fitting 5 folds for each of 4 candidates, totalling 20 fits\n"
     ]
    },
    {
     "name": "stderr",
     "output_type": "stream",
     "text": [
      "[Parallel(n_jobs=1)]: Using backend SequentialBackend with 1 concurrent workers.\n",
      "[Parallel(n_jobs=1)]: Done  20 out of  20 | elapsed:    6.9s finished\n"
     ]
    },
    {
     "name": "stdout",
     "output_type": "stream",
     "text": [
      "Q2b_21\n",
      "\n",
      "ML\n",
      "\n",
      "[[126   2]\n",
      " [  3   5]]\n",
      "\n",
      "NH\n",
      "\n",
      "[[43  0]\n",
      " [ 0  2]]\n",
      "Fitting 5 folds for each of 4 candidates, totalling 20 fits\n"
     ]
    },
    {
     "name": "stderr",
     "output_type": "stream",
     "text": [
      "[Parallel(n_jobs=1)]: Using backend SequentialBackend with 1 concurrent workers.\n",
      "[Parallel(n_jobs=1)]: Done  20 out of  20 | elapsed:    7.5s finished\n"
     ]
    },
    {
     "name": "stdout",
     "output_type": "stream",
     "text": [
      "Q2b_2\n",
      "\n",
      "ML\n",
      "\n",
      "[[111   8]\n",
      " [  4  13]]\n",
      "\n",
      "NH\n",
      "\n",
      "[[40  0]\n",
      " [ 3  2]]\n",
      "Fitting 5 folds for each of 4 candidates, totalling 20 fits\n"
     ]
    },
    {
     "name": "stderr",
     "output_type": "stream",
     "text": [
      "[Parallel(n_jobs=1)]: Using backend SequentialBackend with 1 concurrent workers.\n",
      "[Parallel(n_jobs=1)]: Done  20 out of  20 | elapsed:    7.7s finished\n"
     ]
    },
    {
     "name": "stdout",
     "output_type": "stream",
     "text": [
      "Q2b_36\n",
      "\n",
      "ML\n",
      "\n",
      "[[110  13]\n",
      " [  7   6]]\n",
      "\n",
      "NH\n",
      "\n",
      "[[37  0]\n",
      " [ 2  6]]\n",
      "Fitting 5 folds for each of 4 candidates, totalling 20 fits\n"
     ]
    },
    {
     "name": "stderr",
     "output_type": "stream",
     "text": [
      "[Parallel(n_jobs=1)]: Using backend SequentialBackend with 1 concurrent workers.\n",
      "[Parallel(n_jobs=1)]: Done  20 out of  20 | elapsed:    7.2s finished\n"
     ]
    },
    {
     "name": "stdout",
     "output_type": "stream",
     "text": [
      "Q2b_6\n",
      "\n",
      "ML\n",
      "\n",
      "[[94 11]\n",
      " [12 19]]\n",
      "\n",
      "NH\n",
      "\n",
      "[[32  2]\n",
      " [ 0 11]]\n",
      "Fitting 5 folds for each of 4 candidates, totalling 20 fits\n"
     ]
    },
    {
     "name": "stderr",
     "output_type": "stream",
     "text": [
      "[Parallel(n_jobs=1)]: Using backend SequentialBackend with 1 concurrent workers.\n",
      "[Parallel(n_jobs=1)]: Done  20 out of  20 | elapsed:    7.0s finished\n"
     ]
    },
    {
     "name": "stdout",
     "output_type": "stream",
     "text": [
      "Q2b_8\n",
      "\n",
      "ML\n",
      "\n",
      "[[46 20]\n",
      " [21 49]]\n",
      "\n",
      "NH\n",
      "\n",
      "[[18  3]\n",
      " [ 3 21]]\n",
      "Fitting 5 folds for each of 4 candidates, totalling 20 fits\n"
     ]
    },
    {
     "name": "stderr",
     "output_type": "stream",
     "text": [
      "[Parallel(n_jobs=1)]: Using backend SequentialBackend with 1 concurrent workers.\n",
      "[Parallel(n_jobs=1)]: Done  20 out of  20 | elapsed:    7.4s finished\n"
     ]
    },
    {
     "name": "stdout",
     "output_type": "stream",
     "text": [
      "Q2b_9\n",
      "\n",
      "ML\n",
      "\n",
      "[[123   2]\n",
      " [  7   4]]\n",
      "\n",
      "NH\n",
      "\n",
      "[[45]]\n",
      "Fitting 5 folds for each of 4 candidates, totalling 20 fits\n"
     ]
    },
    {
     "name": "stderr",
     "output_type": "stream",
     "text": [
      "[Parallel(n_jobs=1)]: Using backend SequentialBackend with 1 concurrent workers.\n",
      "[Parallel(n_jobs=1)]: Done  20 out of  20 | elapsed:    7.9s finished\n"
     ]
    },
    {
     "name": "stdout",
     "output_type": "stream",
     "text": [
      "Q2b_11\n",
      "\n",
      "ML\n",
      "\n",
      "[[79 38]\n",
      " [10  9]]\n",
      "\n",
      "NH\n",
      "\n",
      "[[34  0]\n",
      " [ 4  7]]\n",
      "Fitting 5 folds for each of 4 candidates, totalling 20 fits\n"
     ]
    },
    {
     "name": "stderr",
     "output_type": "stream",
     "text": [
      "[Parallel(n_jobs=1)]: Using backend SequentialBackend with 1 concurrent workers.\n",
      "[Parallel(n_jobs=1)]: Done  20 out of  20 | elapsed:    7.5s finished\n"
     ]
    },
    {
     "name": "stdout",
     "output_type": "stream",
     "text": [
      "Q2b_1\n",
      "\n",
      "ML\n",
      "\n",
      "[[116   5]\n",
      " [  9   6]]\n",
      "\n",
      "NH\n",
      "\n",
      "[[39  2]\n",
      " [ 1  3]]\n",
      "Fitting 5 folds for each of 4 candidates, totalling 20 fits\n"
     ]
    },
    {
     "name": "stderr",
     "output_type": "stream",
     "text": [
      "[Parallel(n_jobs=1)]: Using backend SequentialBackend with 1 concurrent workers.\n",
      "[Parallel(n_jobs=1)]: Done  20 out of  20 | elapsed:    7.8s finished\n"
     ]
    },
    {
     "name": "stdout",
     "output_type": "stream",
     "text": [
      "Q2b_21\n",
      "\n",
      "ML\n",
      "\n",
      "[[123   5]\n",
      " [  3   5]]\n",
      "\n",
      "NH\n",
      "\n",
      "[[43  0]\n",
      " [ 0  2]]\n",
      "Fitting 5 folds for each of 4 candidates, totalling 20 fits\n"
     ]
    },
    {
     "name": "stderr",
     "output_type": "stream",
     "text": [
      "[Parallel(n_jobs=1)]: Using backend SequentialBackend with 1 concurrent workers.\n",
      "[Parallel(n_jobs=1)]: Done  20 out of  20 | elapsed:    7.7s finished\n"
     ]
    },
    {
     "name": "stdout",
     "output_type": "stream",
     "text": [
      "Q2b_2\n",
      "\n",
      "ML\n",
      "\n",
      "[[112   7]\n",
      " [  5  12]]\n",
      "\n",
      "NH\n",
      "\n",
      "[[40  0]\n",
      " [ 3  2]]\n",
      "Fitting 5 folds for each of 4 candidates, totalling 20 fits\n"
     ]
    },
    {
     "name": "stderr",
     "output_type": "stream",
     "text": [
      "[Parallel(n_jobs=1)]: Using backend SequentialBackend with 1 concurrent workers.\n",
      "[Parallel(n_jobs=1)]: Done  20 out of  20 | elapsed:   10.0s finished\n"
     ]
    },
    {
     "name": "stdout",
     "output_type": "stream",
     "text": [
      "Q2b_36\n",
      "\n",
      "ML\n",
      "\n",
      "[[111  12]\n",
      " [  6   7]]\n",
      "\n",
      "NH\n",
      "\n",
      "[[37  0]\n",
      " [ 2  6]]\n",
      "Fitting 5 folds for each of 4 candidates, totalling 20 fits\n"
     ]
    },
    {
     "name": "stderr",
     "output_type": "stream",
     "text": [
      "[Parallel(n_jobs=1)]: Using backend SequentialBackend with 1 concurrent workers.\n",
      "[Parallel(n_jobs=1)]: Done  20 out of  20 | elapsed:   10.9s finished\n"
     ]
    },
    {
     "name": "stdout",
     "output_type": "stream",
     "text": [
      "Q2b_6\n",
      "\n",
      "ML\n",
      "\n",
      "[[93 12]\n",
      " [12 19]]\n",
      "\n",
      "NH\n",
      "\n",
      "[[32  2]\n",
      " [ 0 11]]\n",
      "Fitting 5 folds for each of 4 candidates, totalling 20 fits\n"
     ]
    },
    {
     "name": "stderr",
     "output_type": "stream",
     "text": [
      "[Parallel(n_jobs=1)]: Using backend SequentialBackend with 1 concurrent workers.\n",
      "[Parallel(n_jobs=1)]: Done  20 out of  20 | elapsed:   11.3s finished\n"
     ]
    },
    {
     "name": "stdout",
     "output_type": "stream",
     "text": [
      "Q2b_8\n",
      "\n",
      "ML\n",
      "\n",
      "[[51 15]\n",
      " [22 48]]\n",
      "\n",
      "NH\n",
      "\n",
      "[[18  3]\n",
      " [ 3 21]]\n",
      "Fitting 5 folds for each of 4 candidates, totalling 20 fits\n"
     ]
    },
    {
     "name": "stderr",
     "output_type": "stream",
     "text": [
      "[Parallel(n_jobs=1)]: Using backend SequentialBackend with 1 concurrent workers.\n",
      "[Parallel(n_jobs=1)]: Done  20 out of  20 | elapsed:    7.8s finished\n"
     ]
    },
    {
     "name": "stdout",
     "output_type": "stream",
     "text": [
      "Q2b_9\n",
      "\n",
      "ML\n",
      "\n",
      "[[124   1]\n",
      " [  8   3]]\n",
      "\n",
      "NH\n",
      "\n",
      "[[45]]\n",
      "Fitting 5 folds for each of 4 candidates, totalling 20 fits\n"
     ]
    },
    {
     "name": "stderr",
     "output_type": "stream",
     "text": [
      "[Parallel(n_jobs=1)]: Using backend SequentialBackend with 1 concurrent workers.\n",
      "[Parallel(n_jobs=1)]: Done  20 out of  20 | elapsed:    7.6s finished\n"
     ]
    },
    {
     "name": "stdout",
     "output_type": "stream",
     "text": [
      "Q2b_11\n",
      "\n",
      "ML\n",
      "\n",
      "[[114   3]\n",
      " [ 19   0]]\n",
      "\n",
      "NH\n",
      "\n",
      "[[34  0]\n",
      " [ 4  7]]\n",
      "Fitting 5 folds for each of 4 candidates, totalling 20 fits\n"
     ]
    },
    {
     "name": "stderr",
     "output_type": "stream",
     "text": [
      "[Parallel(n_jobs=1)]: Using backend SequentialBackend with 1 concurrent workers.\n",
      "[Parallel(n_jobs=1)]: Done  20 out of  20 | elapsed:    6.9s finished\n"
     ]
    },
    {
     "name": "stdout",
     "output_type": "stream",
     "text": [
      "Q2b_1\n",
      "\n",
      "ML\n",
      "\n",
      "[[119   2]\n",
      " [ 12   3]]\n",
      "\n",
      "NH\n",
      "\n",
      "[[39  2]\n",
      " [ 1  3]]\n",
      "Fitting 5 folds for each of 4 candidates, totalling 20 fits\n"
     ]
    },
    {
     "name": "stderr",
     "output_type": "stream",
     "text": [
      "[Parallel(n_jobs=1)]: Using backend SequentialBackend with 1 concurrent workers.\n",
      "[Parallel(n_jobs=1)]: Done  20 out of  20 | elapsed:    7.3s finished\n"
     ]
    },
    {
     "name": "stdout",
     "output_type": "stream",
     "text": [
      "Q2b_21\n",
      "\n",
      "ML\n",
      "\n",
      "[[128   0]\n",
      " [  5   3]]\n",
      "\n",
      "NH\n",
      "\n",
      "[[43  0]\n",
      " [ 0  2]]\n",
      "Fitting 5 folds for each of 4 candidates, totalling 20 fits\n"
     ]
    },
    {
     "name": "stderr",
     "output_type": "stream",
     "text": [
      "[Parallel(n_jobs=1)]: Using backend SequentialBackend with 1 concurrent workers.\n",
      "[Parallel(n_jobs=1)]: Done  20 out of  20 | elapsed:    7.3s finished\n"
     ]
    },
    {
     "name": "stdout",
     "output_type": "stream",
     "text": [
      "Q2b_2\n",
      "\n",
      "ML\n",
      "\n",
      "[[117   2]\n",
      " [ 12   5]]\n",
      "\n",
      "NH\n",
      "\n",
      "[[40  0]\n",
      " [ 3  2]]\n",
      "Fitting 5 folds for each of 4 candidates, totalling 20 fits\n"
     ]
    },
    {
     "name": "stderr",
     "output_type": "stream",
     "text": [
      "[Parallel(n_jobs=1)]: Using backend SequentialBackend with 1 concurrent workers.\n",
      "[Parallel(n_jobs=1)]: Done  20 out of  20 | elapsed:    7.7s finished\n"
     ]
    },
    {
     "name": "stdout",
     "output_type": "stream",
     "text": [
      "Q2b_36\n",
      "\n",
      "ML\n",
      "\n",
      "[[122   1]\n",
      " [ 13   0]]\n",
      "\n",
      "NH\n",
      "\n",
      "[[37  0]\n",
      " [ 2  6]]\n",
      "Fitting 5 folds for each of 4 candidates, totalling 20 fits\n"
     ]
    },
    {
     "name": "stderr",
     "output_type": "stream",
     "text": [
      "[Parallel(n_jobs=1)]: Using backend SequentialBackend with 1 concurrent workers.\n",
      "[Parallel(n_jobs=1)]: Done  20 out of  20 | elapsed:    7.2s finished\n"
     ]
    },
    {
     "name": "stdout",
     "output_type": "stream",
     "text": [
      "Q2b_6\n",
      "\n",
      "ML\n",
      "\n",
      "[[99  6]\n",
      " [17 14]]\n",
      "\n",
      "NH\n",
      "\n",
      "[[32  2]\n",
      " [ 0 11]]\n",
      "Fitting 5 folds for each of 4 candidates, totalling 20 fits\n"
     ]
    },
    {
     "name": "stderr",
     "output_type": "stream",
     "text": [
      "[Parallel(n_jobs=1)]: Using backend SequentialBackend with 1 concurrent workers.\n",
      "[Parallel(n_jobs=1)]: Done  20 out of  20 | elapsed:    6.7s finished\n"
     ]
    },
    {
     "name": "stdout",
     "output_type": "stream",
     "text": [
      "Q2b_8\n",
      "\n",
      "ML\n",
      "\n",
      "[[40 26]\n",
      " [21 49]]\n",
      "\n",
      "NH\n",
      "\n",
      "[[18  3]\n",
      " [ 3 21]]\n",
      "Fitting 5 folds for each of 4 candidates, totalling 20 fits\n"
     ]
    },
    {
     "name": "stderr",
     "output_type": "stream",
     "text": [
      "[Parallel(n_jobs=1)]: Using backend SequentialBackend with 1 concurrent workers.\n",
      "[Parallel(n_jobs=1)]: Done  20 out of  20 | elapsed:    7.2s finished\n"
     ]
    },
    {
     "name": "stdout",
     "output_type": "stream",
     "text": [
      "Q2b_9\n",
      "\n",
      "ML\n",
      "\n",
      "[[125   0]\n",
      " [ 11   0]]\n",
      "\n",
      "NH\n",
      "\n",
      "[[45]]\n"
     ]
    },
    {
     "data": {
      "text/html": [
       "<div>\n",
       "<style scoped>\n",
       "    .dataframe tbody tr th:only-of-type {\n",
       "        vertical-align: middle;\n",
       "    }\n",
       "\n",
       "    .dataframe tbody tr th {\n",
       "        vertical-align: top;\n",
       "    }\n",
       "\n",
       "    .dataframe thead th {\n",
       "        text-align: right;\n",
       "    }\n",
       "</style>\n",
       "<table border=\"1\" class=\"dataframe\">\n",
       "  <thead>\n",
       "    <tr style=\"text-align: right;\">\n",
       "      <th></th>\n",
       "      <th>Q</th>\n",
       "      <th>Logit</th>\n",
       "      <th>NH</th>\n",
       "      <th>Count</th>\n",
       "      <th>Frac</th>\n",
       "      <th>SVM</th>\n",
       "      <th>Bayes</th>\n",
       "    </tr>\n",
       "  </thead>\n",
       "  <tbody>\n",
       "    <tr>\n",
       "      <th>0</th>\n",
       "      <td>Q2b_11</td>\n",
       "      <td>0.280000</td>\n",
       "      <td>0.777778</td>\n",
       "      <td>77.0</td>\n",
       "      <td>0.113737</td>\n",
       "      <td>0.272727</td>\n",
       "      <td>0.000000</td>\n",
       "    </tr>\n",
       "    <tr>\n",
       "      <th>1</th>\n",
       "      <td>Q2b_1</td>\n",
       "      <td>0.411765</td>\n",
       "      <td>0.666667</td>\n",
       "      <td>71.0</td>\n",
       "      <td>0.104874</td>\n",
       "      <td>0.461538</td>\n",
       "      <td>0.300000</td>\n",
       "    </tr>\n",
       "    <tr>\n",
       "      <th>2</th>\n",
       "      <td>Q2b_21</td>\n",
       "      <td>0.666667</td>\n",
       "      <td>1.000000</td>\n",
       "      <td>71.0</td>\n",
       "      <td>0.104874</td>\n",
       "      <td>0.555556</td>\n",
       "      <td>0.545455</td>\n",
       "    </tr>\n",
       "    <tr>\n",
       "      <th>3</th>\n",
       "      <td>Q2b_2</td>\n",
       "      <td>0.684211</td>\n",
       "      <td>0.571429</td>\n",
       "      <td>79.0</td>\n",
       "      <td>0.116691</td>\n",
       "      <td>0.666667</td>\n",
       "      <td>0.416667</td>\n",
       "    </tr>\n",
       "    <tr>\n",
       "      <th>4</th>\n",
       "      <td>Q2b_36</td>\n",
       "      <td>0.375000</td>\n",
       "      <td>0.857143</td>\n",
       "      <td>71.0</td>\n",
       "      <td>0.104874</td>\n",
       "      <td>0.437500</td>\n",
       "      <td>0.000000</td>\n",
       "    </tr>\n",
       "    <tr>\n",
       "      <th>5</th>\n",
       "      <td>Q2b_6</td>\n",
       "      <td>0.622951</td>\n",
       "      <td>0.916667</td>\n",
       "      <td>154.0</td>\n",
       "      <td>0.227474</td>\n",
       "      <td>0.612903</td>\n",
       "      <td>0.549020</td>\n",
       "    </tr>\n",
       "    <tr>\n",
       "      <th>6</th>\n",
       "      <td>Q2b_8</td>\n",
       "      <td>0.705036</td>\n",
       "      <td>0.875000</td>\n",
       "      <td>359.0</td>\n",
       "      <td>0.530281</td>\n",
       "      <td>0.721805</td>\n",
       "      <td>0.675862</td>\n",
       "    </tr>\n",
       "    <tr>\n",
       "      <th>7</th>\n",
       "      <td>Q2b_9</td>\n",
       "      <td>0.470588</td>\n",
       "      <td>0.000000</td>\n",
       "      <td>34.0</td>\n",
       "      <td>0.050222</td>\n",
       "      <td>0.400000</td>\n",
       "      <td>0.000000</td>\n",
       "    </tr>\n",
       "  </tbody>\n",
       "</table>\n",
       "</div>"
      ],
      "text/plain": [
       "        Q     Logit        NH  Count      Frac       SVM     Bayes\n",
       "0  Q2b_11  0.280000  0.777778   77.0  0.113737  0.272727  0.000000\n",
       "1   Q2b_1  0.411765  0.666667   71.0  0.104874  0.461538  0.300000\n",
       "2  Q2b_21  0.666667  1.000000   71.0  0.104874  0.555556  0.545455\n",
       "3   Q2b_2  0.684211  0.571429   79.0  0.116691  0.666667  0.416667\n",
       "4  Q2b_36  0.375000  0.857143   71.0  0.104874  0.437500  0.000000\n",
       "5   Q2b_6  0.622951  0.916667  154.0  0.227474  0.612903  0.549020\n",
       "6   Q2b_8  0.705036  0.875000  359.0  0.530281  0.721805  0.675862\n",
       "7   Q2b_9  0.470588  0.000000   34.0  0.050222  0.400000  0.000000"
      ]
     },
     "execution_count": 16,
     "metadata": {},
     "output_type": "execute_result"
    }
   ],
   "source": [
    "df_2b = GetAllData(df_beta, df_complete, 'Q2b')\n",
    "logitdf_2b = CodeFR(df_2b, 'Q2b', Scoring, CV, 'Logit').rename(columns = {'ML':'Logit'})\n",
    "svmdf_2b = CodeFR(df_2b, 'Q2b', Scoring, CV, 'SVM').rename(columns = {'ML':'SVM'})\n",
    "bayesdf_2b = CodeFR(df_2b, 'Q2b', Scoring, CV, 'NB').rename(columns = {'ML':'Bayes'})\n",
    "dfML_2b = pd.merge(logitdf_2b, svmdf_2b, on = ['Q', 'NH', 'Count', 'Frac']).merge(bayesdf_2b, on = ['Q', 'NH', 'Count', 'Frac'])\n",
    "dfML_2b"
   ]
  },
  {
   "cell_type": "markdown",
   "metadata": {},
   "source": [
    "# Question Q2D"
   ]
  },
  {
   "cell_type": "code",
   "execution_count": 17,
   "metadata": {},
   "outputs": [
    {
     "name": "stdout",
     "output_type": "stream",
     "text": [
      "Fitting 5 folds for each of 4 candidates, totalling 20 fits\n"
     ]
    },
    {
     "name": "stderr",
     "output_type": "stream",
     "text": [
      "[Parallel(n_jobs=1)]: Using backend SequentialBackend with 1 concurrent workers.\n",
      "[Parallel(n_jobs=1)]: Done  20 out of  20 | elapsed:    4.3s finished\n"
     ]
    },
    {
     "name": "stdout",
     "output_type": "stream",
     "text": [
      "Q2d_21\n",
      "\n",
      "ML\n",
      "\n",
      "[[130   0]\n",
      " [  2   0]]\n",
      "\n",
      "NH\n",
      "\n",
      "[[48]]\n",
      "Fitting 5 folds for each of 4 candidates, totalling 20 fits\n"
     ]
    },
    {
     "name": "stderr",
     "output_type": "stream",
     "text": [
      "[Parallel(n_jobs=1)]: Using backend SequentialBackend with 1 concurrent workers.\n",
      "[Parallel(n_jobs=1)]: Done  20 out of  20 | elapsed:    7.9s finished\n"
     ]
    },
    {
     "name": "stdout",
     "output_type": "stream",
     "text": [
      "Q2d_23\n",
      "\n",
      "ML\n",
      "\n",
      "[[127   2]\n",
      " [  0   3]]\n",
      "\n",
      "NH\n",
      "\n",
      "[[45  0]\n",
      " [ 0  3]]\n",
      "Fitting 5 folds for each of 4 candidates, totalling 20 fits\n"
     ]
    },
    {
     "name": "stderr",
     "output_type": "stream",
     "text": [
      "[Parallel(n_jobs=1)]: Using backend SequentialBackend with 1 concurrent workers.\n",
      "[Parallel(n_jobs=1)]: Done  20 out of  20 | elapsed:    7.0s finished\n"
     ]
    },
    {
     "name": "stdout",
     "output_type": "stream",
     "text": [
      "Q2d_25\n",
      "\n",
      "ML\n",
      "\n",
      "[[117   5]\n",
      " [  3   7]]\n",
      "\n",
      "NH\n",
      "\n",
      "[[46  1]\n",
      " [ 1  0]]\n",
      "Fitting 5 folds for each of 4 candidates, totalling 20 fits\n"
     ]
    },
    {
     "name": "stderr",
     "output_type": "stream",
     "text": [
      "[Parallel(n_jobs=1)]: Using backend SequentialBackend with 1 concurrent workers.\n",
      "[Parallel(n_jobs=1)]: Done  20 out of  20 | elapsed:    6.5s finished\n"
     ]
    },
    {
     "name": "stdout",
     "output_type": "stream",
     "text": [
      "Q2d_27\n",
      "\n",
      "ML\n",
      "\n",
      "[[124   4]\n",
      " [  2   2]]\n",
      "\n",
      "NH\n",
      "\n",
      "[[44  0]\n",
      " [ 4  0]]\n",
      "Fitting 5 folds for each of 4 candidates, totalling 20 fits\n"
     ]
    },
    {
     "name": "stderr",
     "output_type": "stream",
     "text": [
      "[Parallel(n_jobs=1)]: Using backend SequentialBackend with 1 concurrent workers.\n",
      "[Parallel(n_jobs=1)]: Done  20 out of  20 | elapsed:    6.6s finished\n"
     ]
    },
    {
     "name": "stdout",
     "output_type": "stream",
     "text": [
      "Q2d_29\n",
      "\n",
      "ML\n",
      "\n",
      "[[106  11]\n",
      " [  4  11]]\n",
      "\n",
      "NH\n",
      "\n",
      "[[42  0]\n",
      " [ 0  6]]\n",
      "Fitting 5 folds for each of 4 candidates, totalling 20 fits\n"
     ]
    },
    {
     "name": "stderr",
     "output_type": "stream",
     "text": [
      "[Parallel(n_jobs=1)]: Using backend SequentialBackend with 1 concurrent workers.\n",
      "[Parallel(n_jobs=1)]: Done  20 out of  20 | elapsed:    7.1s finished\n"
     ]
    },
    {
     "name": "stdout",
     "output_type": "stream",
     "text": [
      "Q2d_33\n",
      "\n",
      "ML\n",
      "\n",
      "[[72 13]\n",
      " [ 9 38]]\n",
      "\n",
      "NH\n",
      "\n",
      "[[32  1]\n",
      " [ 4 11]]\n",
      "Fitting 5 folds for each of 4 candidates, totalling 20 fits\n"
     ]
    },
    {
     "name": "stderr",
     "output_type": "stream",
     "text": [
      "[Parallel(n_jobs=1)]: Using backend SequentialBackend with 1 concurrent workers.\n",
      "[Parallel(n_jobs=1)]: Done  20 out of  20 | elapsed:    7.1s finished\n"
     ]
    },
    {
     "name": "stdout",
     "output_type": "stream",
     "text": [
      "Q2d_35\n",
      "\n",
      "ML\n",
      "\n",
      "[[97 18]\n",
      " [ 8  9]]\n",
      "\n",
      "NH\n",
      "\n",
      "[[46  0]\n",
      " [ 1  1]]\n",
      "Fitting 5 folds for each of 4 candidates, totalling 20 fits\n"
     ]
    },
    {
     "name": "stderr",
     "output_type": "stream",
     "text": [
      "[Parallel(n_jobs=1)]: Using backend SequentialBackend with 1 concurrent workers.\n",
      "[Parallel(n_jobs=1)]: Done  20 out of  20 | elapsed:    7.5s finished\n"
     ]
    },
    {
     "name": "stdout",
     "output_type": "stream",
     "text": [
      "Q2d_3\n",
      "\n",
      "ML\n",
      "\n",
      "[[83  7]\n",
      " [ 8 34]]\n",
      "\n",
      "NH\n",
      "\n",
      "[[25  2]\n",
      " [ 1 20]]\n",
      "Fitting 5 folds for each of 4 candidates, totalling 20 fits\n"
     ]
    },
    {
     "name": "stderr",
     "output_type": "stream",
     "text": [
      "[Parallel(n_jobs=1)]: Using backend SequentialBackend with 1 concurrent workers.\n",
      "[Parallel(n_jobs=1)]: Done  20 out of  20 | elapsed:    7.3s finished\n"
     ]
    },
    {
     "name": "stdout",
     "output_type": "stream",
     "text": [
      "Q2d_4\n",
      "\n",
      "ML\n",
      "\n",
      "[[73 12]\n",
      " [ 9 38]]\n",
      "\n",
      "NH\n",
      "\n",
      "[[23  1]\n",
      " [ 1 23]]\n",
      "Fitting 5 folds for each of 4 candidates, totalling 20 fits\n"
     ]
    },
    {
     "name": "stderr",
     "output_type": "stream",
     "text": [
      "[Parallel(n_jobs=1)]: Using backend SequentialBackend with 1 concurrent workers.\n",
      "[Parallel(n_jobs=1)]: Done  20 out of  20 | elapsed:    6.9s finished\n"
     ]
    },
    {
     "name": "stdout",
     "output_type": "stream",
     "text": [
      "Q2d_8\n",
      "\n",
      "ML\n",
      "\n",
      "[[119   3]\n",
      " [  1   9]]\n",
      "\n",
      "NH\n",
      "\n",
      "[[42  1]\n",
      " [ 0  5]]\n",
      "Fitting 5 folds for each of 4 candidates, totalling 20 fits\n"
     ]
    },
    {
     "name": "stderr",
     "output_type": "stream",
     "text": [
      "[Parallel(n_jobs=1)]: Using backend SequentialBackend with 1 concurrent workers.\n",
      "[Parallel(n_jobs=1)]: Done  20 out of  20 | elapsed:    7.3s finished\n"
     ]
    },
    {
     "name": "stdout",
     "output_type": "stream",
     "text": [
      "Q2d_21\n",
      "\n",
      "ML\n",
      "\n",
      "[[130   0]\n",
      " [  2   0]]\n",
      "\n",
      "NH\n",
      "\n",
      "[[48]]\n",
      "Fitting 5 folds for each of 4 candidates, totalling 20 fits\n"
     ]
    },
    {
     "name": "stderr",
     "output_type": "stream",
     "text": [
      "[Parallel(n_jobs=1)]: Using backend SequentialBackend with 1 concurrent workers.\n",
      "[Parallel(n_jobs=1)]: Done  20 out of  20 | elapsed:    7.3s finished\n"
     ]
    },
    {
     "name": "stdout",
     "output_type": "stream",
     "text": [
      "Q2d_23\n",
      "\n",
      "ML\n",
      "\n",
      "[[127   2]\n",
      " [  0   3]]\n",
      "\n",
      "NH\n",
      "\n",
      "[[45  0]\n",
      " [ 0  3]]\n",
      "Fitting 5 folds for each of 4 candidates, totalling 20 fits\n"
     ]
    },
    {
     "name": "stderr",
     "output_type": "stream",
     "text": [
      "[Parallel(n_jobs=1)]: Using backend SequentialBackend with 1 concurrent workers.\n",
      "[Parallel(n_jobs=1)]: Done  20 out of  20 | elapsed:    7.5s finished\n"
     ]
    },
    {
     "name": "stdout",
     "output_type": "stream",
     "text": [
      "Q2d_25\n",
      "\n",
      "ML\n",
      "\n",
      "[[117   5]\n",
      " [  4   6]]\n",
      "\n",
      "NH\n",
      "\n",
      "[[46  1]\n",
      " [ 1  0]]\n",
      "Fitting 5 folds for each of 4 candidates, totalling 20 fits\n"
     ]
    },
    {
     "name": "stderr",
     "output_type": "stream",
     "text": [
      "[Parallel(n_jobs=1)]: Using backend SequentialBackend with 1 concurrent workers.\n",
      "[Parallel(n_jobs=1)]: Done  20 out of  20 | elapsed:    6.9s finished\n"
     ]
    },
    {
     "name": "stdout",
     "output_type": "stream",
     "text": [
      "Q2d_27\n",
      "\n",
      "ML\n",
      "\n",
      "[[119   9]\n",
      " [  2   2]]\n",
      "\n",
      "NH\n",
      "\n",
      "[[44  0]\n",
      " [ 4  0]]\n",
      "Fitting 5 folds for each of 4 candidates, totalling 20 fits\n"
     ]
    },
    {
     "name": "stderr",
     "output_type": "stream",
     "text": [
      "[Parallel(n_jobs=1)]: Using backend SequentialBackend with 1 concurrent workers.\n",
      "[Parallel(n_jobs=1)]: Done  20 out of  20 | elapsed:    6.9s finished\n"
     ]
    },
    {
     "name": "stdout",
     "output_type": "stream",
     "text": [
      "Q2d_29\n",
      "\n",
      "ML\n",
      "\n",
      "[[107  10]\n",
      " [  5  10]]\n",
      "\n",
      "NH\n",
      "\n",
      "[[42  0]\n",
      " [ 0  6]]\n",
      "Fitting 5 folds for each of 4 candidates, totalling 20 fits\n"
     ]
    },
    {
     "name": "stderr",
     "output_type": "stream",
     "text": [
      "[Parallel(n_jobs=1)]: Using backend SequentialBackend with 1 concurrent workers.\n",
      "[Parallel(n_jobs=1)]: Done  20 out of  20 | elapsed:    7.6s finished\n"
     ]
    },
    {
     "name": "stdout",
     "output_type": "stream",
     "text": [
      "Q2d_33\n",
      "\n",
      "ML\n",
      "\n",
      "[[70 15]\n",
      " [ 8 39]]\n",
      "\n",
      "NH\n",
      "\n",
      "[[32  1]\n",
      " [ 4 11]]\n",
      "Fitting 5 folds for each of 4 candidates, totalling 20 fits\n"
     ]
    },
    {
     "name": "stderr",
     "output_type": "stream",
     "text": [
      "[Parallel(n_jobs=1)]: Using backend SequentialBackend with 1 concurrent workers.\n",
      "[Parallel(n_jobs=1)]: Done  20 out of  20 | elapsed:    7.4s finished\n"
     ]
    },
    {
     "name": "stdout",
     "output_type": "stream",
     "text": [
      "Q2d_35\n",
      "\n",
      "ML\n",
      "\n",
      "[[87 28]\n",
      " [ 6 11]]\n",
      "\n",
      "NH\n",
      "\n",
      "[[46  0]\n",
      " [ 1  1]]\n",
      "Fitting 5 folds for each of 4 candidates, totalling 20 fits\n"
     ]
    },
    {
     "name": "stderr",
     "output_type": "stream",
     "text": [
      "[Parallel(n_jobs=1)]: Using backend SequentialBackend with 1 concurrent workers.\n",
      "[Parallel(n_jobs=1)]: Done  20 out of  20 | elapsed:    7.1s finished\n"
     ]
    },
    {
     "name": "stdout",
     "output_type": "stream",
     "text": [
      "Q2d_3\n",
      "\n",
      "ML\n",
      "\n",
      "[[81  9]\n",
      " [ 9 33]]\n",
      "\n",
      "NH\n",
      "\n",
      "[[25  2]\n",
      " [ 1 20]]\n",
      "Fitting 5 folds for each of 4 candidates, totalling 20 fits\n"
     ]
    },
    {
     "name": "stderr",
     "output_type": "stream",
     "text": [
      "[Parallel(n_jobs=1)]: Using backend SequentialBackend with 1 concurrent workers.\n",
      "[Parallel(n_jobs=1)]: Done  20 out of  20 | elapsed:    7.0s finished\n"
     ]
    },
    {
     "name": "stdout",
     "output_type": "stream",
     "text": [
      "Q2d_4\n",
      "\n",
      "ML\n",
      "\n",
      "[[73 12]\n",
      " [ 9 38]]\n",
      "\n",
      "NH\n",
      "\n",
      "[[23  1]\n",
      " [ 1 23]]\n",
      "Fitting 5 folds for each of 4 candidates, totalling 20 fits\n"
     ]
    },
    {
     "name": "stderr",
     "output_type": "stream",
     "text": [
      "[Parallel(n_jobs=1)]: Using backend SequentialBackend with 1 concurrent workers.\n",
      "[Parallel(n_jobs=1)]: Done  20 out of  20 | elapsed:    7.2s finished\n"
     ]
    },
    {
     "name": "stdout",
     "output_type": "stream",
     "text": [
      "Q2d_8\n",
      "\n",
      "ML\n",
      "\n",
      "[[119   3]\n",
      " [  1   9]]\n",
      "\n",
      "NH\n",
      "\n",
      "[[42  1]\n",
      " [ 0  5]]\n",
      "Fitting 5 folds for each of 4 candidates, totalling 20 fits\n"
     ]
    },
    {
     "name": "stderr",
     "output_type": "stream",
     "text": [
      "[Parallel(n_jobs=1)]: Using backend SequentialBackend with 1 concurrent workers.\n",
      "[Parallel(n_jobs=1)]: Done  20 out of  20 | elapsed:    6.5s finished\n"
     ]
    },
    {
     "name": "stdout",
     "output_type": "stream",
     "text": [
      "Q2d_21\n",
      "\n",
      "ML\n",
      "\n",
      "[[130   0]\n",
      " [  2   0]]\n",
      "\n",
      "NH\n",
      "\n",
      "[[48]]\n",
      "Fitting 5 folds for each of 4 candidates, totalling 20 fits\n"
     ]
    },
    {
     "name": "stderr",
     "output_type": "stream",
     "text": [
      "[Parallel(n_jobs=1)]: Using backend SequentialBackend with 1 concurrent workers.\n",
      "[Parallel(n_jobs=1)]: Done  20 out of  20 | elapsed:    6.7s finished\n"
     ]
    },
    {
     "name": "stdout",
     "output_type": "stream",
     "text": [
      "Q2d_23\n",
      "\n",
      "ML\n",
      "\n",
      "[[129   0]\n",
      " [  2   1]]\n",
      "\n",
      "NH\n",
      "\n",
      "[[45  0]\n",
      " [ 0  3]]\n",
      "Fitting 5 folds for each of 4 candidates, totalling 20 fits\n"
     ]
    },
    {
     "name": "stderr",
     "output_type": "stream",
     "text": [
      "[Parallel(n_jobs=1)]: Using backend SequentialBackend with 1 concurrent workers.\n",
      "[Parallel(n_jobs=1)]: Done  20 out of  20 | elapsed:    6.4s finished\n"
     ]
    },
    {
     "name": "stdout",
     "output_type": "stream",
     "text": [
      "Q2d_25\n",
      "\n",
      "ML\n",
      "\n",
      "[[121   1]\n",
      " [ 10   0]]\n",
      "\n",
      "NH\n",
      "\n",
      "[[46  1]\n",
      " [ 1  0]]\n",
      "Fitting 5 folds for each of 4 candidates, totalling 20 fits\n"
     ]
    },
    {
     "name": "stderr",
     "output_type": "stream",
     "text": [
      "[Parallel(n_jobs=1)]: Using backend SequentialBackend with 1 concurrent workers.\n",
      "[Parallel(n_jobs=1)]: Done  20 out of  20 | elapsed:    6.4s finished\n"
     ]
    },
    {
     "name": "stdout",
     "output_type": "stream",
     "text": [
      "Q2d_27\n",
      "\n",
      "ML\n",
      "\n",
      "[[128   0]\n",
      " [  4   0]]\n",
      "\n",
      "NH\n",
      "\n",
      "[[44  0]\n",
      " [ 4  0]]\n",
      "Fitting 5 folds for each of 4 candidates, totalling 20 fits\n"
     ]
    },
    {
     "name": "stderr",
     "output_type": "stream",
     "text": [
      "[Parallel(n_jobs=1)]: Using backend SequentialBackend with 1 concurrent workers.\n",
      "[Parallel(n_jobs=1)]: Done  20 out of  20 | elapsed:    6.3s finished\n"
     ]
    },
    {
     "name": "stdout",
     "output_type": "stream",
     "text": [
      "Q2d_29\n",
      "\n",
      "ML\n",
      "\n",
      "[[116   1]\n",
      " [ 13   2]]\n",
      "\n",
      "NH\n",
      "\n",
      "[[42  0]\n",
      " [ 0  6]]\n",
      "Fitting 5 folds for each of 4 candidates, totalling 20 fits\n"
     ]
    },
    {
     "name": "stderr",
     "output_type": "stream",
     "text": [
      "[Parallel(n_jobs=1)]: Using backend SequentialBackend with 1 concurrent workers.\n",
      "[Parallel(n_jobs=1)]: Done  20 out of  20 | elapsed:    6.4s finished\n"
     ]
    },
    {
     "name": "stdout",
     "output_type": "stream",
     "text": [
      "Q2d_33\n",
      "\n",
      "ML\n",
      "\n",
      "[[72 13]\n",
      " [ 7 40]]\n",
      "\n",
      "NH\n",
      "\n",
      "[[32  1]\n",
      " [ 4 11]]\n",
      "Fitting 5 folds for each of 4 candidates, totalling 20 fits\n"
     ]
    },
    {
     "name": "stderr",
     "output_type": "stream",
     "text": [
      "[Parallel(n_jobs=1)]: Using backend SequentialBackend with 1 concurrent workers.\n",
      "[Parallel(n_jobs=1)]: Done  20 out of  20 | elapsed:    6.7s finished\n"
     ]
    },
    {
     "name": "stdout",
     "output_type": "stream",
     "text": [
      "Q2d_35\n",
      "\n",
      "ML\n",
      "\n",
      "[[113   2]\n",
      " [ 15   2]]\n",
      "\n",
      "NH\n",
      "\n",
      "[[46  0]\n",
      " [ 1  1]]\n",
      "Fitting 5 folds for each of 4 candidates, totalling 20 fits\n"
     ]
    },
    {
     "name": "stderr",
     "output_type": "stream",
     "text": [
      "[Parallel(n_jobs=1)]: Using backend SequentialBackend with 1 concurrent workers.\n",
      "[Parallel(n_jobs=1)]: Done  20 out of  20 | elapsed:    6.3s finished\n"
     ]
    },
    {
     "name": "stdout",
     "output_type": "stream",
     "text": [
      "Q2d_3\n",
      "\n",
      "ML\n",
      "\n",
      "[[81  9]\n",
      " [13 29]]\n",
      "\n",
      "NH\n",
      "\n",
      "[[25  2]\n",
      " [ 1 20]]\n",
      "Fitting 5 folds for each of 4 candidates, totalling 20 fits\n"
     ]
    },
    {
     "name": "stderr",
     "output_type": "stream",
     "text": [
      "[Parallel(n_jobs=1)]: Using backend SequentialBackend with 1 concurrent workers.\n",
      "[Parallel(n_jobs=1)]: Done  20 out of  20 | elapsed:    6.5s finished\n"
     ]
    },
    {
     "name": "stdout",
     "output_type": "stream",
     "text": [
      "Q2d_4\n",
      "\n",
      "ML\n",
      "\n",
      "[[70 15]\n",
      " [12 35]]\n",
      "\n",
      "NH\n",
      "\n",
      "[[23  1]\n",
      " [ 1 23]]\n",
      "Fitting 5 folds for each of 4 candidates, totalling 20 fits\n"
     ]
    },
    {
     "name": "stderr",
     "output_type": "stream",
     "text": [
      "[Parallel(n_jobs=1)]: Using backend SequentialBackend with 1 concurrent workers.\n",
      "[Parallel(n_jobs=1)]: Done  20 out of  20 | elapsed:    6.1s finished\n"
     ]
    },
    {
     "name": "stdout",
     "output_type": "stream",
     "text": [
      "Q2d_8\n",
      "\n",
      "ML\n",
      "\n",
      "[[122   0]\n",
      " [  6   4]]\n",
      "\n",
      "NH\n",
      "\n",
      "[[42  1]\n",
      " [ 0  5]]\n"
     ]
    },
    {
     "data": {
      "text/html": [
       "<div>\n",
       "<style scoped>\n",
       "    .dataframe tbody tr th:only-of-type {\n",
       "        vertical-align: middle;\n",
       "    }\n",
       "\n",
       "    .dataframe tbody tr th {\n",
       "        vertical-align: top;\n",
       "    }\n",
       "\n",
       "    .dataframe thead th {\n",
       "        text-align: right;\n",
       "    }\n",
       "</style>\n",
       "<table border=\"1\" class=\"dataframe\">\n",
       "  <thead>\n",
       "    <tr style=\"text-align: right;\">\n",
       "      <th></th>\n",
       "      <th>Q</th>\n",
       "      <th>Logit</th>\n",
       "      <th>NH</th>\n",
       "      <th>Count</th>\n",
       "      <th>Frac</th>\n",
       "      <th>SVM</th>\n",
       "      <th>Bayes</th>\n",
       "    </tr>\n",
       "  </thead>\n",
       "  <tbody>\n",
       "    <tr>\n",
       "      <th>0</th>\n",
       "      <td>Q2d_21</td>\n",
       "      <td>0.000000</td>\n",
       "      <td>0.000000</td>\n",
       "      <td>4.0</td>\n",
       "      <td>0.006088</td>\n",
       "      <td>0.000000</td>\n",
       "      <td>0.000000</td>\n",
       "    </tr>\n",
       "    <tr>\n",
       "      <th>1</th>\n",
       "      <td>Q2d_23</td>\n",
       "      <td>0.750000</td>\n",
       "      <td>1.000000</td>\n",
       "      <td>28.0</td>\n",
       "      <td>0.042618</td>\n",
       "      <td>0.750000</td>\n",
       "      <td>0.500000</td>\n",
       "    </tr>\n",
       "    <tr>\n",
       "      <th>2</th>\n",
       "      <td>Q2d_25</td>\n",
       "      <td>0.636364</td>\n",
       "      <td>0.000000</td>\n",
       "      <td>52.0</td>\n",
       "      <td>0.079148</td>\n",
       "      <td>0.571429</td>\n",
       "      <td>0.000000</td>\n",
       "    </tr>\n",
       "    <tr>\n",
       "      <th>3</th>\n",
       "      <td>Q2d_27</td>\n",
       "      <td>0.400000</td>\n",
       "      <td>0.000000</td>\n",
       "      <td>24.0</td>\n",
       "      <td>0.036530</td>\n",
       "      <td>0.266667</td>\n",
       "      <td>0.000000</td>\n",
       "    </tr>\n",
       "    <tr>\n",
       "      <th>4</th>\n",
       "      <td>Q2d_29</td>\n",
       "      <td>0.594595</td>\n",
       "      <td>1.000000</td>\n",
       "      <td>70.0</td>\n",
       "      <td>0.106545</td>\n",
       "      <td>0.571429</td>\n",
       "      <td>0.222222</td>\n",
       "    </tr>\n",
       "    <tr>\n",
       "      <th>5</th>\n",
       "      <td>Q2d_33</td>\n",
       "      <td>0.775510</td>\n",
       "      <td>0.814815</td>\n",
       "      <td>250.0</td>\n",
       "      <td>0.380518</td>\n",
       "      <td>0.772277</td>\n",
       "      <td>0.800000</td>\n",
       "    </tr>\n",
       "    <tr>\n",
       "      <th>6</th>\n",
       "      <td>Q2d_35</td>\n",
       "      <td>0.409091</td>\n",
       "      <td>0.666667</td>\n",
       "      <td>80.0</td>\n",
       "      <td>0.121766</td>\n",
       "      <td>0.392857</td>\n",
       "      <td>0.190476</td>\n",
       "    </tr>\n",
       "    <tr>\n",
       "      <th>7</th>\n",
       "      <td>Q2d_3</td>\n",
       "      <td>0.819277</td>\n",
       "      <td>0.930233</td>\n",
       "      <td>204.0</td>\n",
       "      <td>0.310502</td>\n",
       "      <td>0.785714</td>\n",
       "      <td>0.725000</td>\n",
       "    </tr>\n",
       "    <tr>\n",
       "      <th>8</th>\n",
       "      <td>Q2d_4</td>\n",
       "      <td>0.783505</td>\n",
       "      <td>0.958333</td>\n",
       "      <td>243.0</td>\n",
       "      <td>0.369863</td>\n",
       "      <td>0.783505</td>\n",
       "      <td>0.721649</td>\n",
       "    </tr>\n",
       "    <tr>\n",
       "      <th>9</th>\n",
       "      <td>Q2d_8</td>\n",
       "      <td>0.818182</td>\n",
       "      <td>0.909091</td>\n",
       "      <td>52.0</td>\n",
       "      <td>0.079148</td>\n",
       "      <td>0.818182</td>\n",
       "      <td>0.571429</td>\n",
       "    </tr>\n",
       "  </tbody>\n",
       "</table>\n",
       "</div>"
      ],
      "text/plain": [
       "        Q     Logit        NH  Count      Frac       SVM     Bayes\n",
       "0  Q2d_21  0.000000  0.000000    4.0  0.006088  0.000000  0.000000\n",
       "1  Q2d_23  0.750000  1.000000   28.0  0.042618  0.750000  0.500000\n",
       "2  Q2d_25  0.636364  0.000000   52.0  0.079148  0.571429  0.000000\n",
       "3  Q2d_27  0.400000  0.000000   24.0  0.036530  0.266667  0.000000\n",
       "4  Q2d_29  0.594595  1.000000   70.0  0.106545  0.571429  0.222222\n",
       "5  Q2d_33  0.775510  0.814815  250.0  0.380518  0.772277  0.800000\n",
       "6  Q2d_35  0.409091  0.666667   80.0  0.121766  0.392857  0.190476\n",
       "7   Q2d_3  0.819277  0.930233  204.0  0.310502  0.785714  0.725000\n",
       "8   Q2d_4  0.783505  0.958333  243.0  0.369863  0.783505  0.721649\n",
       "9   Q2d_8  0.818182  0.909091   52.0  0.079148  0.818182  0.571429"
      ]
     },
     "execution_count": 17,
     "metadata": {},
     "output_type": "execute_result"
    }
   ],
   "source": [
    "df_2d = GetAllData(df_beta, df_complete, 'Q2d')\n",
    "logitdf_2d = CodeFR(df_2d, 'Q2d', Scoring, CV, 'Logit').rename(columns = {'ML':'Logit'})\n",
    "svmdf_2d = CodeFR(df_2d, 'Q2d', Scoring, CV, 'SVM').rename(columns = {'ML':'SVM'})\n",
    "bayesdf_2d = CodeFR(df_2d, 'Q2d', Scoring, CV, 'NB').rename(columns = {'ML':'Bayes'})\n",
    "dfML_2d = pd.merge(logitdf_2d, svmdf_2d, on = ['Q', 'NH', 'Count', 'Frac']).merge(bayesdf_2d, on = ['Q', 'NH', 'Count', 'Frac'])\n",
    "dfML_2d"
   ]
  },
  {
   "cell_type": "markdown",
   "metadata": {},
   "source": [
    "# Question Q2E"
   ]
  },
  {
   "cell_type": "code",
   "execution_count": 18,
   "metadata": {},
   "outputs": [
    {
     "name": "stdout",
     "output_type": "stream",
     "text": [
      "Fitting 5 folds for each of 4 candidates, totalling 20 fits\n"
     ]
    },
    {
     "name": "stderr",
     "output_type": "stream",
     "text": [
      "[Parallel(n_jobs=1)]: Using backend SequentialBackend with 1 concurrent workers.\n",
      "[Parallel(n_jobs=1)]: Done  20 out of  20 | elapsed:    3.1s finished\n"
     ]
    },
    {
     "name": "stdout",
     "output_type": "stream",
     "text": [
      "Q2e_12\n",
      "\n",
      "ML\n",
      "\n",
      "[[74  6]\n",
      " [13 36]]\n",
      "\n",
      "NH\n",
      "\n",
      "[[23  1]\n",
      " [ 3 15]]\n",
      "Fitting 5 folds for each of 4 candidates, totalling 20 fits\n"
     ]
    },
    {
     "name": "stderr",
     "output_type": "stream",
     "text": [
      "[Parallel(n_jobs=1)]: Using backend SequentialBackend with 1 concurrent workers.\n",
      "[Parallel(n_jobs=1)]: Done  20 out of  20 | elapsed:    5.1s finished\n"
     ]
    },
    {
     "name": "stdout",
     "output_type": "stream",
     "text": [
      "Q2e_14\n",
      "\n",
      "ML\n",
      "\n",
      "[[108   3]\n",
      " [  5  13]]\n",
      "\n",
      "NH\n",
      "\n",
      "[[36  0]\n",
      " [ 0  6]]\n",
      "Fitting 5 folds for each of 4 candidates, totalling 20 fits\n"
     ]
    },
    {
     "name": "stderr",
     "output_type": "stream",
     "text": [
      "[Parallel(n_jobs=1)]: Using backend SequentialBackend with 1 concurrent workers.\n",
      "[Parallel(n_jobs=1)]: Done  20 out of  20 | elapsed:    5.8s finished\n"
     ]
    },
    {
     "name": "stdout",
     "output_type": "stream",
     "text": [
      "Q2e_15\n",
      "\n",
      "ML\n",
      "\n",
      "[[121   2]\n",
      " [  4   2]]\n",
      "\n",
      "NH\n",
      "\n",
      "[[42]]\n",
      "Fitting 5 folds for each of 4 candidates, totalling 20 fits\n"
     ]
    },
    {
     "name": "stderr",
     "output_type": "stream",
     "text": [
      "[Parallel(n_jobs=1)]: Using backend SequentialBackend with 1 concurrent workers.\n",
      "[Parallel(n_jobs=1)]: Done  20 out of  20 | elapsed:    5.2s finished\n"
     ]
    },
    {
     "name": "stdout",
     "output_type": "stream",
     "text": [
      "Q2e_16\n",
      "\n",
      "ML\n",
      "\n",
      "[[116   6]\n",
      " [  2   5]]\n",
      "\n",
      "NH\n",
      "\n",
      "[[39  0]\n",
      " [ 2  1]]\n",
      "Fitting 5 folds for each of 4 candidates, totalling 20 fits\n"
     ]
    },
    {
     "name": "stderr",
     "output_type": "stream",
     "text": [
      "[Parallel(n_jobs=1)]: Using backend SequentialBackend with 1 concurrent workers.\n",
      "[Parallel(n_jobs=1)]: Done  20 out of  20 | elapsed:    5.2s finished\n"
     ]
    },
    {
     "name": "stdout",
     "output_type": "stream",
     "text": [
      "Q2e_17\n",
      "\n",
      "ML\n",
      "\n",
      "[[122   2]\n",
      " [  3   2]]\n",
      "\n",
      "NH\n",
      "\n",
      "[[42]]\n",
      "Fitting 5 folds for each of 4 candidates, totalling 20 fits\n"
     ]
    },
    {
     "name": "stderr",
     "output_type": "stream",
     "text": [
      "[Parallel(n_jobs=1)]: Using backend SequentialBackend with 1 concurrent workers.\n",
      "[Parallel(n_jobs=1)]: Done  20 out of  20 | elapsed:    5.3s finished\n"
     ]
    },
    {
     "name": "stdout",
     "output_type": "stream",
     "text": [
      "Q2e_18\n",
      "\n",
      "ML\n",
      "\n",
      "[[120   3]\n",
      " [  3   3]]\n",
      "\n",
      "NH\n",
      "\n",
      "[[40  0]\n",
      " [ 0  2]]\n",
      "Fitting 5 folds for each of 4 candidates, totalling 20 fits\n"
     ]
    },
    {
     "name": "stderr",
     "output_type": "stream",
     "text": [
      "[Parallel(n_jobs=1)]: Using backend SequentialBackend with 1 concurrent workers.\n",
      "[Parallel(n_jobs=1)]: Done  20 out of  20 | elapsed:    5.2s finished\n"
     ]
    },
    {
     "name": "stdout",
     "output_type": "stream",
     "text": [
      "Q2e_19\n",
      "\n",
      "ML\n",
      "\n",
      "[[111   9]\n",
      " [  2   7]]\n",
      "\n",
      "NH\n",
      "\n",
      "[[36  2]\n",
      " [ 0  4]]\n",
      "Fitting 5 folds for each of 4 candidates, totalling 20 fits\n"
     ]
    },
    {
     "name": "stderr",
     "output_type": "stream",
     "text": [
      "[Parallel(n_jobs=1)]: Using backend SequentialBackend with 1 concurrent workers.\n",
      "[Parallel(n_jobs=1)]: Done  20 out of  20 | elapsed:    5.4s finished\n"
     ]
    },
    {
     "name": "stdout",
     "output_type": "stream",
     "text": [
      "Q2e_23\n",
      "\n",
      "ML\n",
      "\n",
      "[[107   4]\n",
      " [  8  10]]\n",
      "\n",
      "NH\n",
      "\n",
      "[[39  0]\n",
      " [ 0  3]]\n",
      "Fitting 5 folds for each of 4 candidates, totalling 20 fits\n"
     ]
    },
    {
     "name": "stderr",
     "output_type": "stream",
     "text": [
      "[Parallel(n_jobs=1)]: Using backend SequentialBackend with 1 concurrent workers.\n",
      "[Parallel(n_jobs=1)]: Done  20 out of  20 | elapsed:    5.4s finished\n"
     ]
    },
    {
     "name": "stdout",
     "output_type": "stream",
     "text": [
      "Q2e_25\n",
      "\n",
      "ML\n",
      "\n",
      "[[114   7]\n",
      " [  5   3]]\n",
      "\n",
      "NH\n",
      "\n",
      "[[40  0]\n",
      " [ 2  0]]\n",
      "Fitting 5 folds for each of 4 candidates, totalling 20 fits\n"
     ]
    },
    {
     "name": "stderr",
     "output_type": "stream",
     "text": [
      "[Parallel(n_jobs=1)]: Using backend SequentialBackend with 1 concurrent workers.\n",
      "[Parallel(n_jobs=1)]: Done  20 out of  20 | elapsed:    5.2s finished\n"
     ]
    },
    {
     "name": "stdout",
     "output_type": "stream",
     "text": [
      "Q2e_28\n",
      "\n",
      "ML\n",
      "\n",
      "[[128   0]\n",
      " [  1   0]]\n",
      "\n",
      "NH\n",
      "\n",
      "[[41  1]\n",
      " [ 0  0]]\n",
      "Fitting 5 folds for each of 4 candidates, totalling 20 fits\n"
     ]
    },
    {
     "name": "stderr",
     "output_type": "stream",
     "text": [
      "[Parallel(n_jobs=1)]: Using backend SequentialBackend with 1 concurrent workers.\n",
      "[Parallel(n_jobs=1)]: Done  20 out of  20 | elapsed:    5.7s finished\n"
     ]
    },
    {
     "name": "stdout",
     "output_type": "stream",
     "text": [
      "Q2e_4\n",
      "\n",
      "ML\n",
      "\n",
      "[[91 13]\n",
      " [13 12]]\n",
      "\n",
      "NH\n",
      "\n",
      "[[28  3]\n",
      " [ 0 11]]\n",
      "Fitting 5 folds for each of 4 candidates, totalling 20 fits\n"
     ]
    },
    {
     "name": "stderr",
     "output_type": "stream",
     "text": [
      "[Parallel(n_jobs=1)]: Using backend SequentialBackend with 1 concurrent workers.\n",
      "[Parallel(n_jobs=1)]: Done  20 out of  20 | elapsed:    5.5s finished\n"
     ]
    },
    {
     "name": "stdout",
     "output_type": "stream",
     "text": [
      "Q2e_6\n",
      "\n",
      "ML\n",
      "\n",
      "[[120   2]\n",
      " [  2   5]]\n",
      "\n",
      "NH\n",
      "\n",
      "[[40  0]\n",
      " [ 0  2]]\n",
      "Fitting 5 folds for each of 4 candidates, totalling 20 fits\n"
     ]
    },
    {
     "name": "stderr",
     "output_type": "stream",
     "text": [
      "[Parallel(n_jobs=1)]: Using backend SequentialBackend with 1 concurrent workers.\n",
      "[Parallel(n_jobs=1)]: Done  20 out of  20 | elapsed:    5.5s finished\n"
     ]
    },
    {
     "name": "stdout",
     "output_type": "stream",
     "text": [
      "Q2e_12\n",
      "\n",
      "ML\n",
      "\n",
      "[[73  7]\n",
      " [11 38]]\n",
      "\n",
      "NH\n",
      "\n",
      "[[23  1]\n",
      " [ 3 15]]\n",
      "Fitting 5 folds for each of 4 candidates, totalling 20 fits\n"
     ]
    },
    {
     "name": "stderr",
     "output_type": "stream",
     "text": [
      "[Parallel(n_jobs=1)]: Using backend SequentialBackend with 1 concurrent workers.\n",
      "[Parallel(n_jobs=1)]: Done  20 out of  20 | elapsed:    5.4s finished\n"
     ]
    },
    {
     "name": "stdout",
     "output_type": "stream",
     "text": [
      "Q2e_14\n",
      "\n",
      "ML\n",
      "\n",
      "[[110   1]\n",
      " [  7  11]]\n",
      "\n",
      "NH\n",
      "\n",
      "[[36  0]\n",
      " [ 0  6]]\n",
      "Fitting 5 folds for each of 4 candidates, totalling 20 fits\n"
     ]
    },
    {
     "name": "stderr",
     "output_type": "stream",
     "text": [
      "[Parallel(n_jobs=1)]: Using backend SequentialBackend with 1 concurrent workers.\n",
      "[Parallel(n_jobs=1)]: Done  20 out of  20 | elapsed:    5.7s finished\n"
     ]
    },
    {
     "name": "stdout",
     "output_type": "stream",
     "text": [
      "Q2e_15\n",
      "\n",
      "ML\n",
      "\n",
      "[[119   4]\n",
      " [  3   3]]\n",
      "\n",
      "NH\n",
      "\n",
      "[[42]]\n",
      "Fitting 5 folds for each of 4 candidates, totalling 20 fits\n"
     ]
    },
    {
     "name": "stderr",
     "output_type": "stream",
     "text": [
      "[Parallel(n_jobs=1)]: Using backend SequentialBackend with 1 concurrent workers.\n",
      "[Parallel(n_jobs=1)]: Done  20 out of  20 | elapsed:    5.6s finished\n"
     ]
    },
    {
     "name": "stdout",
     "output_type": "stream",
     "text": [
      "Q2e_16\n",
      "\n",
      "ML\n",
      "\n",
      "[[118   4]\n",
      " [  4   3]]\n",
      "\n",
      "NH\n",
      "\n",
      "[[39  0]\n",
      " [ 2  1]]\n",
      "Fitting 5 folds for each of 4 candidates, totalling 20 fits\n"
     ]
    },
    {
     "name": "stderr",
     "output_type": "stream",
     "text": [
      "[Parallel(n_jobs=1)]: Using backend SequentialBackend with 1 concurrent workers.\n",
      "[Parallel(n_jobs=1)]: Done  20 out of  20 | elapsed:    5.5s finished\n"
     ]
    },
    {
     "name": "stdout",
     "output_type": "stream",
     "text": [
      "Q2e_17\n",
      "\n",
      "ML\n",
      "\n",
      "[[123   1]\n",
      " [  3   2]]\n",
      "\n",
      "NH\n",
      "\n",
      "[[42]]\n",
      "Fitting 5 folds for each of 4 candidates, totalling 20 fits\n"
     ]
    },
    {
     "name": "stderr",
     "output_type": "stream",
     "text": [
      "[Parallel(n_jobs=1)]: Using backend SequentialBackend with 1 concurrent workers.\n",
      "[Parallel(n_jobs=1)]: Done  20 out of  20 | elapsed:    5.7s finished\n"
     ]
    },
    {
     "name": "stdout",
     "output_type": "stream",
     "text": [
      "Q2e_18\n",
      "\n",
      "ML\n",
      "\n",
      "[[120   3]\n",
      " [  3   3]]\n",
      "\n",
      "NH\n",
      "\n",
      "[[40  0]\n",
      " [ 0  2]]\n",
      "Fitting 5 folds for each of 4 candidates, totalling 20 fits\n"
     ]
    },
    {
     "name": "stderr",
     "output_type": "stream",
     "text": [
      "[Parallel(n_jobs=1)]: Using backend SequentialBackend with 1 concurrent workers.\n",
      "[Parallel(n_jobs=1)]: Done  20 out of  20 | elapsed:    6.2s finished\n"
     ]
    },
    {
     "name": "stdout",
     "output_type": "stream",
     "text": [
      "Q2e_19\n",
      "\n",
      "ML\n",
      "\n",
      "[[112   8]\n",
      " [  2   7]]\n",
      "\n",
      "NH\n",
      "\n",
      "[[36  2]\n",
      " [ 0  4]]\n",
      "Fitting 5 folds for each of 4 candidates, totalling 20 fits\n"
     ]
    },
    {
     "name": "stderr",
     "output_type": "stream",
     "text": [
      "[Parallel(n_jobs=1)]: Using backend SequentialBackend with 1 concurrent workers.\n",
      "[Parallel(n_jobs=1)]: Done  20 out of  20 | elapsed:    5.7s finished\n"
     ]
    },
    {
     "name": "stdout",
     "output_type": "stream",
     "text": [
      "Q2e_23\n",
      "\n",
      "ML\n",
      "\n",
      "[[108   3]\n",
      " [ 10   8]]\n",
      "\n",
      "NH\n",
      "\n",
      "[[39  0]\n",
      " [ 0  3]]\n",
      "Fitting 5 folds for each of 4 candidates, totalling 20 fits\n"
     ]
    },
    {
     "name": "stderr",
     "output_type": "stream",
     "text": [
      "[Parallel(n_jobs=1)]: Using backend SequentialBackend with 1 concurrent workers.\n",
      "[Parallel(n_jobs=1)]: Done  20 out of  20 | elapsed:    6.4s finished\n"
     ]
    },
    {
     "name": "stdout",
     "output_type": "stream",
     "text": [
      "Q2e_25\n",
      "\n",
      "ML\n",
      "\n",
      "[[116   5]\n",
      " [  6   2]]\n",
      "\n",
      "NH\n",
      "\n",
      "[[40  0]\n",
      " [ 2  0]]\n",
      "Fitting 5 folds for each of 4 candidates, totalling 20 fits\n"
     ]
    },
    {
     "name": "stderr",
     "output_type": "stream",
     "text": [
      "[Parallel(n_jobs=1)]: Using backend SequentialBackend with 1 concurrent workers.\n",
      "[Parallel(n_jobs=1)]: Done  20 out of  20 | elapsed:    5.8s finished\n"
     ]
    },
    {
     "name": "stdout",
     "output_type": "stream",
     "text": [
      "Q2e_28\n",
      "\n",
      "ML\n",
      "\n",
      "[[  0 128]\n",
      " [  0   1]]\n",
      "\n",
      "NH\n",
      "\n",
      "[[41  1]\n",
      " [ 0  0]]\n",
      "Fitting 5 folds for each of 4 candidates, totalling 20 fits\n"
     ]
    },
    {
     "name": "stderr",
     "output_type": "stream",
     "text": [
      "[Parallel(n_jobs=1)]: Using backend SequentialBackend with 1 concurrent workers.\n",
      "[Parallel(n_jobs=1)]: Done  20 out of  20 | elapsed:    6.3s finished\n"
     ]
    },
    {
     "name": "stdout",
     "output_type": "stream",
     "text": [
      "Q2e_4\n",
      "\n",
      "ML\n",
      "\n",
      "[[92 12]\n",
      " [12 13]]\n",
      "\n",
      "NH\n",
      "\n",
      "[[28  3]\n",
      " [ 0 11]]\n",
      "Fitting 5 folds for each of 4 candidates, totalling 20 fits\n"
     ]
    },
    {
     "name": "stderr",
     "output_type": "stream",
     "text": [
      "[Parallel(n_jobs=1)]: Using backend SequentialBackend with 1 concurrent workers.\n",
      "[Parallel(n_jobs=1)]: Done  20 out of  20 | elapsed:    5.8s finished\n"
     ]
    },
    {
     "name": "stdout",
     "output_type": "stream",
     "text": [
      "Q2e_6\n",
      "\n",
      "ML\n",
      "\n",
      "[[120   2]\n",
      " [  3   4]]\n",
      "\n",
      "NH\n",
      "\n",
      "[[40  0]\n",
      " [ 0  2]]\n",
      "Fitting 5 folds for each of 4 candidates, totalling 20 fits\n"
     ]
    },
    {
     "name": "stderr",
     "output_type": "stream",
     "text": [
      "[Parallel(n_jobs=1)]: Using backend SequentialBackend with 1 concurrent workers.\n",
      "[Parallel(n_jobs=1)]: Done  20 out of  20 | elapsed:    5.3s finished\n"
     ]
    },
    {
     "name": "stdout",
     "output_type": "stream",
     "text": [
      "Q2e_12\n",
      "\n",
      "ML\n",
      "\n",
      "[[72  8]\n",
      " [17 32]]\n",
      "\n",
      "NH\n",
      "\n",
      "[[23  1]\n",
      " [ 3 15]]\n",
      "Fitting 5 folds for each of 4 candidates, totalling 20 fits\n"
     ]
    },
    {
     "name": "stderr",
     "output_type": "stream",
     "text": [
      "[Parallel(n_jobs=1)]: Using backend SequentialBackend with 1 concurrent workers.\n",
      "[Parallel(n_jobs=1)]: Done  20 out of  20 | elapsed:    5.6s finished\n"
     ]
    },
    {
     "name": "stdout",
     "output_type": "stream",
     "text": [
      "Q2e_14\n",
      "\n",
      "ML\n",
      "\n",
      "[[111   0]\n",
      " [ 14   4]]\n",
      "\n",
      "NH\n",
      "\n",
      "[[36  0]\n",
      " [ 0  6]]\n",
      "Fitting 5 folds for each of 4 candidates, totalling 20 fits\n"
     ]
    },
    {
     "name": "stderr",
     "output_type": "stream",
     "text": [
      "[Parallel(n_jobs=1)]: Using backend SequentialBackend with 1 concurrent workers.\n",
      "[Parallel(n_jobs=1)]: Done  20 out of  20 | elapsed:    4.9s finished\n"
     ]
    },
    {
     "name": "stdout",
     "output_type": "stream",
     "text": [
      "Q2e_15\n",
      "\n",
      "ML\n",
      "\n",
      "[[122   1]\n",
      " [  6   0]]\n",
      "\n",
      "NH\n",
      "\n",
      "[[42]]\n",
      "Fitting 5 folds for each of 4 candidates, totalling 20 fits\n"
     ]
    },
    {
     "name": "stderr",
     "output_type": "stream",
     "text": [
      "[Parallel(n_jobs=1)]: Using backend SequentialBackend with 1 concurrent workers.\n",
      "[Parallel(n_jobs=1)]: Done  20 out of  20 | elapsed:    4.9s finished\n"
     ]
    },
    {
     "name": "stdout",
     "output_type": "stream",
     "text": [
      "Q2e_16\n",
      "\n",
      "ML\n",
      "\n",
      "[[122   0]\n",
      " [  7   0]]\n",
      "\n",
      "NH\n",
      "\n",
      "[[39  0]\n",
      " [ 2  1]]\n",
      "Fitting 5 folds for each of 4 candidates, totalling 20 fits\n"
     ]
    },
    {
     "name": "stderr",
     "output_type": "stream",
     "text": [
      "[Parallel(n_jobs=1)]: Using backend SequentialBackend with 1 concurrent workers.\n",
      "[Parallel(n_jobs=1)]: Done  20 out of  20 | elapsed:    5.6s finished\n"
     ]
    },
    {
     "name": "stdout",
     "output_type": "stream",
     "text": [
      "Q2e_17\n",
      "\n",
      "ML\n",
      "\n",
      "[[124   0]\n",
      " [  4   1]]\n",
      "\n",
      "NH\n",
      "\n",
      "[[42]]\n",
      "Fitting 5 folds for each of 4 candidates, totalling 20 fits\n"
     ]
    },
    {
     "name": "stderr",
     "output_type": "stream",
     "text": [
      "[Parallel(n_jobs=1)]: Using backend SequentialBackend with 1 concurrent workers.\n",
      "[Parallel(n_jobs=1)]: Done  20 out of  20 | elapsed:    4.9s finished\n"
     ]
    },
    {
     "name": "stdout",
     "output_type": "stream",
     "text": [
      "Q2e_18\n",
      "\n",
      "ML\n",
      "\n",
      "[[123   0]\n",
      " [  4   2]]\n",
      "\n",
      "NH\n",
      "\n",
      "[[40  0]\n",
      " [ 0  2]]\n",
      "Fitting 5 folds for each of 4 candidates, totalling 20 fits\n"
     ]
    },
    {
     "name": "stderr",
     "output_type": "stream",
     "text": [
      "[Parallel(n_jobs=1)]: Using backend SequentialBackend with 1 concurrent workers.\n",
      "[Parallel(n_jobs=1)]: Done  20 out of  20 | elapsed:    4.9s finished\n"
     ]
    },
    {
     "name": "stdout",
     "output_type": "stream",
     "text": [
      "Q2e_19\n",
      "\n",
      "ML\n",
      "\n",
      "[[117   3]\n",
      " [  6   3]]\n",
      "\n",
      "NH\n",
      "\n",
      "[[36  2]\n",
      " [ 0  4]]\n",
      "Fitting 5 folds for each of 4 candidates, totalling 20 fits\n"
     ]
    },
    {
     "name": "stderr",
     "output_type": "stream",
     "text": [
      "[Parallel(n_jobs=1)]: Using backend SequentialBackend with 1 concurrent workers.\n",
      "[Parallel(n_jobs=1)]: Done  20 out of  20 | elapsed:    5.3s finished\n"
     ]
    },
    {
     "name": "stdout",
     "output_type": "stream",
     "text": [
      "Q2e_23\n",
      "\n",
      "ML\n",
      "\n",
      "[[109   2]\n",
      " [  8  10]]\n",
      "\n",
      "NH\n",
      "\n",
      "[[39  0]\n",
      " [ 0  3]]\n",
      "Fitting 5 folds for each of 4 candidates, totalling 20 fits\n"
     ]
    },
    {
     "name": "stderr",
     "output_type": "stream",
     "text": [
      "[Parallel(n_jobs=1)]: Using backend SequentialBackend with 1 concurrent workers.\n",
      "[Parallel(n_jobs=1)]: Done  20 out of  20 | elapsed:    5.2s finished\n"
     ]
    },
    {
     "name": "stdout",
     "output_type": "stream",
     "text": [
      "Q2e_25\n",
      "\n",
      "ML\n",
      "\n",
      "[[119   2]\n",
      " [  7   1]]\n",
      "\n",
      "NH\n",
      "\n",
      "[[40  0]\n",
      " [ 2  0]]\n",
      "Fitting 5 folds for each of 4 candidates, totalling 20 fits\n"
     ]
    },
    {
     "name": "stderr",
     "output_type": "stream",
     "text": [
      "[Parallel(n_jobs=1)]: Using backend SequentialBackend with 1 concurrent workers.\n",
      "[Parallel(n_jobs=1)]: Done  20 out of  20 | elapsed:    5.4s finished\n"
     ]
    },
    {
     "name": "stdout",
     "output_type": "stream",
     "text": [
      "Q2e_28\n",
      "\n",
      "ML\n",
      "\n",
      "[[128   0]\n",
      " [  1   0]]\n",
      "\n",
      "NH\n",
      "\n",
      "[[41  1]\n",
      " [ 0  0]]\n",
      "Fitting 5 folds for each of 4 candidates, totalling 20 fits\n"
     ]
    },
    {
     "name": "stderr",
     "output_type": "stream",
     "text": [
      "[Parallel(n_jobs=1)]: Using backend SequentialBackend with 1 concurrent workers.\n",
      "[Parallel(n_jobs=1)]: Done  20 out of  20 | elapsed:    5.1s finished\n"
     ]
    },
    {
     "name": "stdout",
     "output_type": "stream",
     "text": [
      "Q2e_4\n",
      "\n",
      "ML\n",
      "\n",
      "[[99  5]\n",
      " [17  8]]\n",
      "\n",
      "NH\n",
      "\n",
      "[[28  3]\n",
      " [ 0 11]]\n",
      "Fitting 5 folds for each of 4 candidates, totalling 20 fits\n"
     ]
    },
    {
     "name": "stderr",
     "output_type": "stream",
     "text": [
      "[Parallel(n_jobs=1)]: Using backend SequentialBackend with 1 concurrent workers.\n",
      "[Parallel(n_jobs=1)]: Done  20 out of  20 | elapsed:    5.1s finished\n"
     ]
    },
    {
     "name": "stdout",
     "output_type": "stream",
     "text": [
      "Q2e_6\n",
      "\n",
      "ML\n",
      "\n",
      "[[122   0]\n",
      " [  7   0]]\n",
      "\n",
      "NH\n",
      "\n",
      "[[40  0]\n",
      " [ 0  2]]\n"
     ]
    },
    {
     "data": {
      "text/html": [
       "<div>\n",
       "<style scoped>\n",
       "    .dataframe tbody tr th:only-of-type {\n",
       "        vertical-align: middle;\n",
       "    }\n",
       "\n",
       "    .dataframe tbody tr th {\n",
       "        vertical-align: top;\n",
       "    }\n",
       "\n",
       "    .dataframe thead th {\n",
       "        text-align: right;\n",
       "    }\n",
       "</style>\n",
       "<table border=\"1\" class=\"dataframe\">\n",
       "  <thead>\n",
       "    <tr style=\"text-align: right;\">\n",
       "      <th></th>\n",
       "      <th>Q</th>\n",
       "      <th>Logit</th>\n",
       "      <th>NH</th>\n",
       "      <th>Count</th>\n",
       "      <th>Frac</th>\n",
       "      <th>SVM</th>\n",
       "      <th>Bayes</th>\n",
       "    </tr>\n",
       "  </thead>\n",
       "  <tbody>\n",
       "    <tr>\n",
       "      <th>0</th>\n",
       "      <td>Q2e_12</td>\n",
       "      <td>0.791209</td>\n",
       "      <td>0.882353</td>\n",
       "      <td>254.0</td>\n",
       "      <td>0.394410</td>\n",
       "      <td>0.808511</td>\n",
       "      <td>0.719101</td>\n",
       "    </tr>\n",
       "    <tr>\n",
       "      <th>1</th>\n",
       "      <td>Q2e_14</td>\n",
       "      <td>0.764706</td>\n",
       "      <td>1.000000</td>\n",
       "      <td>62.0</td>\n",
       "      <td>0.096273</td>\n",
       "      <td>0.733333</td>\n",
       "      <td>0.363636</td>\n",
       "    </tr>\n",
       "    <tr>\n",
       "      <th>2</th>\n",
       "      <td>Q2e_15</td>\n",
       "      <td>0.400000</td>\n",
       "      <td>0.000000</td>\n",
       "      <td>21.0</td>\n",
       "      <td>0.032609</td>\n",
       "      <td>0.461538</td>\n",
       "      <td>0.000000</td>\n",
       "    </tr>\n",
       "    <tr>\n",
       "      <th>3</th>\n",
       "      <td>Q2e_16</td>\n",
       "      <td>0.555556</td>\n",
       "      <td>0.500000</td>\n",
       "      <td>41.0</td>\n",
       "      <td>0.063665</td>\n",
       "      <td>0.428571</td>\n",
       "      <td>0.000000</td>\n",
       "    </tr>\n",
       "    <tr>\n",
       "      <th>4</th>\n",
       "      <td>Q2e_17</td>\n",
       "      <td>0.444444</td>\n",
       "      <td>0.000000</td>\n",
       "      <td>30.0</td>\n",
       "      <td>0.046584</td>\n",
       "      <td>0.500000</td>\n",
       "      <td>0.333333</td>\n",
       "    </tr>\n",
       "    <tr>\n",
       "      <th>5</th>\n",
       "      <td>Q2e_18</td>\n",
       "      <td>0.500000</td>\n",
       "      <td>1.000000</td>\n",
       "      <td>17.0</td>\n",
       "      <td>0.026398</td>\n",
       "      <td>0.500000</td>\n",
       "      <td>0.500000</td>\n",
       "    </tr>\n",
       "    <tr>\n",
       "      <th>6</th>\n",
       "      <td>Q2e_19</td>\n",
       "      <td>0.560000</td>\n",
       "      <td>0.800000</td>\n",
       "      <td>53.0</td>\n",
       "      <td>0.082298</td>\n",
       "      <td>0.583333</td>\n",
       "      <td>0.400000</td>\n",
       "    </tr>\n",
       "    <tr>\n",
       "      <th>7</th>\n",
       "      <td>Q2e_23</td>\n",
       "      <td>0.625000</td>\n",
       "      <td>1.000000</td>\n",
       "      <td>92.0</td>\n",
       "      <td>0.142857</td>\n",
       "      <td>0.551724</td>\n",
       "      <td>0.666667</td>\n",
       "    </tr>\n",
       "    <tr>\n",
       "      <th>8</th>\n",
       "      <td>Q2e_25</td>\n",
       "      <td>0.333333</td>\n",
       "      <td>0.000000</td>\n",
       "      <td>43.0</td>\n",
       "      <td>0.066770</td>\n",
       "      <td>0.266667</td>\n",
       "      <td>0.181818</td>\n",
       "    </tr>\n",
       "    <tr>\n",
       "      <th>9</th>\n",
       "      <td>Q2e_28</td>\n",
       "      <td>0.000000</td>\n",
       "      <td>0.000000</td>\n",
       "      <td>5.0</td>\n",
       "      <td>0.007764</td>\n",
       "      <td>0.015385</td>\n",
       "      <td>0.000000</td>\n",
       "    </tr>\n",
       "    <tr>\n",
       "      <th>10</th>\n",
       "      <td>Q2e_4</td>\n",
       "      <td>0.480000</td>\n",
       "      <td>0.880000</td>\n",
       "      <td>106.0</td>\n",
       "      <td>0.164596</td>\n",
       "      <td>0.520000</td>\n",
       "      <td>0.421053</td>\n",
       "    </tr>\n",
       "    <tr>\n",
       "      <th>11</th>\n",
       "      <td>Q2e_6</td>\n",
       "      <td>0.714286</td>\n",
       "      <td>1.000000</td>\n",
       "      <td>39.0</td>\n",
       "      <td>0.060559</td>\n",
       "      <td>0.615385</td>\n",
       "      <td>0.000000</td>\n",
       "    </tr>\n",
       "  </tbody>\n",
       "</table>\n",
       "</div>"
      ],
      "text/plain": [
       "         Q     Logit        NH  Count      Frac       SVM     Bayes\n",
       "0   Q2e_12  0.791209  0.882353  254.0  0.394410  0.808511  0.719101\n",
       "1   Q2e_14  0.764706  1.000000   62.0  0.096273  0.733333  0.363636\n",
       "2   Q2e_15  0.400000  0.000000   21.0  0.032609  0.461538  0.000000\n",
       "3   Q2e_16  0.555556  0.500000   41.0  0.063665  0.428571  0.000000\n",
       "4   Q2e_17  0.444444  0.000000   30.0  0.046584  0.500000  0.333333\n",
       "5   Q2e_18  0.500000  1.000000   17.0  0.026398  0.500000  0.500000\n",
       "6   Q2e_19  0.560000  0.800000   53.0  0.082298  0.583333  0.400000\n",
       "7   Q2e_23  0.625000  1.000000   92.0  0.142857  0.551724  0.666667\n",
       "8   Q2e_25  0.333333  0.000000   43.0  0.066770  0.266667  0.181818\n",
       "9   Q2e_28  0.000000  0.000000    5.0  0.007764  0.015385  0.000000\n",
       "10   Q2e_4  0.480000  0.880000  106.0  0.164596  0.520000  0.421053\n",
       "11   Q2e_6  0.714286  1.000000   39.0  0.060559  0.615385  0.000000"
      ]
     },
     "execution_count": 18,
     "metadata": {},
     "output_type": "execute_result"
    }
   ],
   "source": [
    "df_2e = GetAllData(df_beta, df_complete, 'Q2e')\n",
    "logitdf_2e = CodeFR(df_2e, 'Q2e', Scoring, CV, 'Logit').rename(columns = {'ML':'Logit'})\n",
    "svmdf_2e = CodeFR(df_2e, 'Q2e', Scoring, CV, 'SVM').rename(columns = {'ML':'SVM'})\n",
    "bayesdf_2e = CodeFR(df_2e, 'Q2e', Scoring, CV, 'NB').rename(columns = {'ML':'Bayes'})\n",
    "dfML_2e = pd.merge(logitdf_2e, svmdf_2e, on = ['Q', 'NH', 'Count', 'Frac']).merge(bayesdf_2e, on = ['Q', 'NH', 'Count', 'Frac'])\n",
    "dfML_2e"
   ]
  },
  {
   "cell_type": "markdown",
   "metadata": {},
   "source": [
    "# Question Q3B"
   ]
  },
  {
   "cell_type": "code",
   "execution_count": 19,
   "metadata": {},
   "outputs": [
    {
     "name": "stdout",
     "output_type": "stream",
     "text": [
      "Fitting 5 folds for each of 4 candidates, totalling 20 fits\n"
     ]
    },
    {
     "name": "stderr",
     "output_type": "stream",
     "text": [
      "[Parallel(n_jobs=1)]: Using backend SequentialBackend with 1 concurrent workers.\n",
      "[Parallel(n_jobs=1)]: Done  20 out of  20 | elapsed:    4.6s finished\n"
     ]
    },
    {
     "name": "stdout",
     "output_type": "stream",
     "text": [
      "Q3b_11\n",
      "\n",
      "ML\n",
      "\n",
      "[[108  15]\n",
      " [  3   2]]\n",
      "\n",
      "NH\n",
      "\n",
      "[[26  1]\n",
      " [ 8  3]]\n",
      "Fitting 5 folds for each of 4 candidates, totalling 20 fits\n"
     ]
    },
    {
     "name": "stderr",
     "output_type": "stream",
     "text": [
      "[Parallel(n_jobs=1)]: Using backend SequentialBackend with 1 concurrent workers.\n",
      "[Parallel(n_jobs=1)]: Done  20 out of  20 | elapsed:    8.5s finished\n"
     ]
    },
    {
     "name": "stdout",
     "output_type": "stream",
     "text": [
      "Q3b_1\n",
      "\n",
      "ML\n",
      "\n",
      "[[116   7]\n",
      " [  3   2]]\n",
      "\n",
      "NH\n",
      "\n",
      "[[36  1]\n",
      " [ 0  1]]\n",
      "Fitting 5 folds for each of 4 candidates, totalling 20 fits\n"
     ]
    },
    {
     "name": "stderr",
     "output_type": "stream",
     "text": [
      "[Parallel(n_jobs=1)]: Using backend SequentialBackend with 1 concurrent workers.\n",
      "[Parallel(n_jobs=1)]: Done  20 out of  20 | elapsed:    6.8s finished\n"
     ]
    },
    {
     "name": "stdout",
     "output_type": "stream",
     "text": [
      "Q3b_21\n",
      "\n",
      "ML\n",
      "\n",
      "[[125   1]\n",
      " [  1   1]]\n",
      "\n",
      "NH\n",
      "\n",
      "[[37  0]\n",
      " [ 1  0]]\n",
      "Fitting 5 folds for each of 4 candidates, totalling 20 fits\n"
     ]
    },
    {
     "name": "stderr",
     "output_type": "stream",
     "text": [
      "[Parallel(n_jobs=1)]: Using backend SequentialBackend with 1 concurrent workers.\n",
      "[Parallel(n_jobs=1)]: Done  20 out of  20 | elapsed:    7.1s finished\n"
     ]
    },
    {
     "name": "stdout",
     "output_type": "stream",
     "text": [
      "Q3b_23\n",
      "\n",
      "ML\n",
      "\n",
      "[[44 13]\n",
      " [11 60]]\n",
      "\n",
      "NH\n",
      "\n",
      "[[19  3]\n",
      " [ 2 14]]\n",
      "Fitting 5 folds for each of 4 candidates, totalling 20 fits\n"
     ]
    },
    {
     "name": "stderr",
     "output_type": "stream",
     "text": [
      "[Parallel(n_jobs=1)]: Using backend SequentialBackend with 1 concurrent workers.\n",
      "[Parallel(n_jobs=1)]: Done  20 out of  20 | elapsed:    6.7s finished\n"
     ]
    },
    {
     "name": "stdout",
     "output_type": "stream",
     "text": [
      "Q3b_29\n",
      "\n",
      "ML\n",
      "\n",
      "[[109  11]\n",
      " [  4   4]]\n",
      "\n",
      "NH\n",
      "\n",
      "[[36  0]\n",
      " [ 1  1]]\n",
      "Fitting 5 folds for each of 4 candidates, totalling 20 fits\n"
     ]
    },
    {
     "name": "stderr",
     "output_type": "stream",
     "text": [
      "[Parallel(n_jobs=1)]: Using backend SequentialBackend with 1 concurrent workers.\n",
      "[Parallel(n_jobs=1)]: Done  20 out of  20 | elapsed:    7.0s finished\n"
     ]
    },
    {
     "name": "stdout",
     "output_type": "stream",
     "text": [
      "Q3b_2\n",
      "\n",
      "ML\n",
      "\n",
      "[[125   0]\n",
      " [  3   0]]\n",
      "\n",
      "NH\n",
      "\n",
      "[[35  0]\n",
      " [ 2  1]]\n",
      "Fitting 5 folds for each of 4 candidates, totalling 20 fits\n"
     ]
    },
    {
     "name": "stderr",
     "output_type": "stream",
     "text": [
      "[Parallel(n_jobs=1)]: Using backend SequentialBackend with 1 concurrent workers.\n",
      "[Parallel(n_jobs=1)]: Done  20 out of  20 | elapsed:    7.3s finished\n"
     ]
    },
    {
     "name": "stdout",
     "output_type": "stream",
     "text": [
      "Q3b_6\n",
      "\n",
      "ML\n",
      "\n",
      "[[84 14]\n",
      " [ 7 23]]\n",
      "\n",
      "NH\n",
      "\n",
      "[[23  5]\n",
      " [ 1  9]]\n",
      "Fitting 5 folds for each of 4 candidates, totalling 20 fits\n"
     ]
    },
    {
     "name": "stderr",
     "output_type": "stream",
     "text": [
      "[Parallel(n_jobs=1)]: Using backend SequentialBackend with 1 concurrent workers.\n",
      "[Parallel(n_jobs=1)]: Done  20 out of  20 | elapsed:    6.2s finished\n"
     ]
    },
    {
     "name": "stdout",
     "output_type": "stream",
     "text": [
      "Q3b_9\n",
      "\n",
      "ML\n",
      "\n",
      "[[74  6]\n",
      " [18 30]]\n",
      "\n",
      "NH\n",
      "\n",
      "[[21  0]\n",
      " [ 1 16]]\n",
      "Fitting 5 folds for each of 4 candidates, totalling 20 fits\n"
     ]
    },
    {
     "name": "stderr",
     "output_type": "stream",
     "text": [
      "[Parallel(n_jobs=1)]: Using backend SequentialBackend with 1 concurrent workers.\n",
      "[Parallel(n_jobs=1)]: Done  20 out of  20 | elapsed:    7.0s finished\n"
     ]
    },
    {
     "name": "stdout",
     "output_type": "stream",
     "text": [
      "Q3b_11\n",
      "\n",
      "ML\n",
      "\n",
      "[[99 24]\n",
      " [ 2  3]]\n",
      "\n",
      "NH\n",
      "\n",
      "[[26  1]\n",
      " [ 8  3]]\n",
      "Fitting 5 folds for each of 4 candidates, totalling 20 fits\n"
     ]
    },
    {
     "name": "stderr",
     "output_type": "stream",
     "text": [
      "[Parallel(n_jobs=1)]: Using backend SequentialBackend with 1 concurrent workers.\n",
      "[Parallel(n_jobs=1)]: Done  20 out of  20 | elapsed:    7.8s finished\n"
     ]
    },
    {
     "name": "stdout",
     "output_type": "stream",
     "text": [
      "Q3b_1\n",
      "\n",
      "ML\n",
      "\n",
      "[[112  11]\n",
      " [  3   2]]\n",
      "\n",
      "NH\n",
      "\n",
      "[[36  1]\n",
      " [ 0  1]]\n",
      "Fitting 5 folds for each of 4 candidates, totalling 20 fits\n"
     ]
    },
    {
     "name": "stderr",
     "output_type": "stream",
     "text": [
      "[Parallel(n_jobs=1)]: Using backend SequentialBackend with 1 concurrent workers.\n",
      "[Parallel(n_jobs=1)]: Done  20 out of  20 | elapsed:    7.1s finished\n"
     ]
    },
    {
     "name": "stdout",
     "output_type": "stream",
     "text": [
      "Q3b_21\n",
      "\n",
      "ML\n",
      "\n",
      "[[124   2]\n",
      " [  1   1]]\n",
      "\n",
      "NH\n",
      "\n",
      "[[37  0]\n",
      " [ 1  0]]\n",
      "Fitting 5 folds for each of 4 candidates, totalling 20 fits\n"
     ]
    },
    {
     "name": "stderr",
     "output_type": "stream",
     "text": [
      "[Parallel(n_jobs=1)]: Using backend SequentialBackend with 1 concurrent workers.\n",
      "[Parallel(n_jobs=1)]: Done  20 out of  20 | elapsed:    7.4s finished\n"
     ]
    },
    {
     "name": "stdout",
     "output_type": "stream",
     "text": [
      "Q3b_23\n",
      "\n",
      "ML\n",
      "\n",
      "[[44 13]\n",
      " [11 60]]\n",
      "\n",
      "NH\n",
      "\n",
      "[[19  3]\n",
      " [ 2 14]]\n",
      "Fitting 5 folds for each of 4 candidates, totalling 20 fits\n"
     ]
    },
    {
     "name": "stderr",
     "output_type": "stream",
     "text": [
      "[Parallel(n_jobs=1)]: Using backend SequentialBackend with 1 concurrent workers.\n",
      "[Parallel(n_jobs=1)]: Done  20 out of  20 | elapsed:    7.5s finished\n"
     ]
    },
    {
     "name": "stdout",
     "output_type": "stream",
     "text": [
      "Q3b_29\n",
      "\n",
      "ML\n",
      "\n",
      "[[116   4]\n",
      " [  5   3]]\n",
      "\n",
      "NH\n",
      "\n",
      "[[36  0]\n",
      " [ 1  1]]\n",
      "Fitting 5 folds for each of 4 candidates, totalling 20 fits\n"
     ]
    },
    {
     "name": "stderr",
     "output_type": "stream",
     "text": [
      "[Parallel(n_jobs=1)]: Using backend SequentialBackend with 1 concurrent workers.\n",
      "[Parallel(n_jobs=1)]: Done  20 out of  20 | elapsed:    8.0s finished\n"
     ]
    },
    {
     "name": "stdout",
     "output_type": "stream",
     "text": [
      "Q3b_2\n",
      "\n",
      "ML\n",
      "\n",
      "[[125   0]\n",
      " [  3   0]]\n",
      "\n",
      "NH\n",
      "\n",
      "[[35  0]\n",
      " [ 2  1]]\n",
      "Fitting 5 folds for each of 4 candidates, totalling 20 fits\n"
     ]
    },
    {
     "name": "stderr",
     "output_type": "stream",
     "text": [
      "[Parallel(n_jobs=1)]: Using backend SequentialBackend with 1 concurrent workers.\n",
      "[Parallel(n_jobs=1)]: Done  20 out of  20 | elapsed:    7.3s finished\n"
     ]
    },
    {
     "name": "stdout",
     "output_type": "stream",
     "text": [
      "Q3b_6\n",
      "\n",
      "ML\n",
      "\n",
      "[[84 14]\n",
      " [10 20]]\n",
      "\n",
      "NH\n",
      "\n",
      "[[23  5]\n",
      " [ 1  9]]\n",
      "Fitting 5 folds for each of 4 candidates, totalling 20 fits\n"
     ]
    },
    {
     "name": "stderr",
     "output_type": "stream",
     "text": [
      "[Parallel(n_jobs=1)]: Using backend SequentialBackend with 1 concurrent workers.\n",
      "[Parallel(n_jobs=1)]: Done  20 out of  20 | elapsed:    7.2s finished\n"
     ]
    },
    {
     "name": "stdout",
     "output_type": "stream",
     "text": [
      "Q3b_9\n",
      "\n",
      "ML\n",
      "\n",
      "[[76  4]\n",
      " [13 35]]\n",
      "\n",
      "NH\n",
      "\n",
      "[[21  0]\n",
      " [ 1 16]]\n",
      "Fitting 5 folds for each of 4 candidates, totalling 20 fits\n"
     ]
    },
    {
     "name": "stderr",
     "output_type": "stream",
     "text": [
      "[Parallel(n_jobs=1)]: Using backend SequentialBackend with 1 concurrent workers.\n",
      "[Parallel(n_jobs=1)]: Done  20 out of  20 | elapsed:    6.4s finished\n"
     ]
    },
    {
     "name": "stdout",
     "output_type": "stream",
     "text": [
      "Q3b_11\n",
      "\n",
      "ML\n",
      "\n",
      "[[123   0]\n",
      " [  5   0]]\n",
      "\n",
      "NH\n",
      "\n",
      "[[26  1]\n",
      " [ 8  3]]\n",
      "Fitting 5 folds for each of 4 candidates, totalling 20 fits\n"
     ]
    },
    {
     "name": "stderr",
     "output_type": "stream",
     "text": [
      "[Parallel(n_jobs=1)]: Using backend SequentialBackend with 1 concurrent workers.\n",
      "[Parallel(n_jobs=1)]: Done  20 out of  20 | elapsed:    7.0s finished\n"
     ]
    },
    {
     "name": "stdout",
     "output_type": "stream",
     "text": [
      "Q3b_1\n",
      "\n",
      "ML\n",
      "\n",
      "[[123   0]\n",
      " [  4   1]]\n",
      "\n",
      "NH\n",
      "\n",
      "[[36  1]\n",
      " [ 0  1]]\n",
      "Fitting 5 folds for each of 4 candidates, totalling 20 fits\n"
     ]
    },
    {
     "name": "stderr",
     "output_type": "stream",
     "text": [
      "[Parallel(n_jobs=1)]: Using backend SequentialBackend with 1 concurrent workers.\n",
      "[Parallel(n_jobs=1)]: Done  20 out of  20 | elapsed:    6.4s finished\n"
     ]
    },
    {
     "name": "stdout",
     "output_type": "stream",
     "text": [
      "Q3b_21\n",
      "\n",
      "ML\n",
      "\n",
      "[[126   0]\n",
      " [  1   1]]\n",
      "\n",
      "NH\n",
      "\n",
      "[[37  0]\n",
      " [ 1  0]]\n",
      "Fitting 5 folds for each of 4 candidates, totalling 20 fits\n"
     ]
    },
    {
     "name": "stderr",
     "output_type": "stream",
     "text": [
      "[Parallel(n_jobs=1)]: Using backend SequentialBackend with 1 concurrent workers.\n",
      "[Parallel(n_jobs=1)]: Done  20 out of  20 | elapsed:    6.4s finished\n"
     ]
    },
    {
     "name": "stdout",
     "output_type": "stream",
     "text": [
      "Q3b_23\n",
      "\n",
      "ML\n",
      "\n",
      "[[35 22]\n",
      " [ 6 65]]\n",
      "\n",
      "NH\n",
      "\n",
      "[[19  3]\n",
      " [ 2 14]]\n",
      "Fitting 5 folds for each of 4 candidates, totalling 20 fits\n"
     ]
    },
    {
     "name": "stderr",
     "output_type": "stream",
     "text": [
      "[Parallel(n_jobs=1)]: Using backend SequentialBackend with 1 concurrent workers.\n",
      "[Parallel(n_jobs=1)]: Done  20 out of  20 | elapsed:    7.0s finished\n"
     ]
    },
    {
     "name": "stdout",
     "output_type": "stream",
     "text": [
      "Q3b_29\n",
      "\n",
      "ML\n",
      "\n",
      "[[117   3]\n",
      " [  8   0]]\n",
      "\n",
      "NH\n",
      "\n",
      "[[36  0]\n",
      " [ 1  1]]\n",
      "Fitting 5 folds for each of 4 candidates, totalling 20 fits\n"
     ]
    },
    {
     "name": "stderr",
     "output_type": "stream",
     "text": [
      "[Parallel(n_jobs=1)]: Using backend SequentialBackend with 1 concurrent workers.\n",
      "[Parallel(n_jobs=1)]: Done  20 out of  20 | elapsed:    6.6s finished\n"
     ]
    },
    {
     "name": "stdout",
     "output_type": "stream",
     "text": [
      "Q3b_2\n",
      "\n",
      "ML\n",
      "\n",
      "[[125   0]\n",
      " [  3   0]]\n",
      "\n",
      "NH\n",
      "\n",
      "[[35  0]\n",
      " [ 2  1]]\n",
      "Fitting 5 folds for each of 4 candidates, totalling 20 fits\n"
     ]
    },
    {
     "name": "stderr",
     "output_type": "stream",
     "text": [
      "[Parallel(n_jobs=1)]: Using backend SequentialBackend with 1 concurrent workers.\n",
      "[Parallel(n_jobs=1)]: Done  20 out of  20 | elapsed:    6.6s finished\n"
     ]
    },
    {
     "name": "stdout",
     "output_type": "stream",
     "text": [
      "Q3b_6\n",
      "\n",
      "ML\n",
      "\n",
      "[[94  4]\n",
      " [14 16]]\n",
      "\n",
      "NH\n",
      "\n",
      "[[23  5]\n",
      " [ 1  9]]\n",
      "Fitting 5 folds for each of 4 candidates, totalling 20 fits\n"
     ]
    },
    {
     "name": "stderr",
     "output_type": "stream",
     "text": [
      "[Parallel(n_jobs=1)]: Using backend SequentialBackend with 1 concurrent workers.\n",
      "[Parallel(n_jobs=1)]: Done  20 out of  20 | elapsed:    6.6s finished\n"
     ]
    },
    {
     "name": "stdout",
     "output_type": "stream",
     "text": [
      "Q3b_9\n",
      "\n",
      "ML\n",
      "\n",
      "[[72  8]\n",
      " [18 30]]\n",
      "\n",
      "NH\n",
      "\n",
      "[[21  0]\n",
      " [ 1 16]]\n"
     ]
    },
    {
     "data": {
      "text/html": [
       "<div>\n",
       "<style scoped>\n",
       "    .dataframe tbody tr th:only-of-type {\n",
       "        vertical-align: middle;\n",
       "    }\n",
       "\n",
       "    .dataframe tbody tr th {\n",
       "        vertical-align: top;\n",
       "    }\n",
       "\n",
       "    .dataframe thead th {\n",
       "        text-align: right;\n",
       "    }\n",
       "</style>\n",
       "<table border=\"1\" class=\"dataframe\">\n",
       "  <thead>\n",
       "    <tr style=\"text-align: right;\">\n",
       "      <th></th>\n",
       "      <th>Q</th>\n",
       "      <th>Logit</th>\n",
       "      <th>NH</th>\n",
       "      <th>Count</th>\n",
       "      <th>Frac</th>\n",
       "      <th>SVM</th>\n",
       "      <th>Bayes</th>\n",
       "    </tr>\n",
       "  </thead>\n",
       "  <tbody>\n",
       "    <tr>\n",
       "      <th>0</th>\n",
       "      <td>Q3b_11</td>\n",
       "      <td>0.181818</td>\n",
       "      <td>0.400000</td>\n",
       "      <td>47.0</td>\n",
       "      <td>0.073552</td>\n",
       "      <td>0.187500</td>\n",
       "      <td>0.000000</td>\n",
       "    </tr>\n",
       "    <tr>\n",
       "      <th>1</th>\n",
       "      <td>Q3b_1</td>\n",
       "      <td>0.285714</td>\n",
       "      <td>0.666667</td>\n",
       "      <td>31.0</td>\n",
       "      <td>0.048513</td>\n",
       "      <td>0.222222</td>\n",
       "      <td>0.333333</td>\n",
       "    </tr>\n",
       "    <tr>\n",
       "      <th>2</th>\n",
       "      <td>Q3b_21</td>\n",
       "      <td>0.500000</td>\n",
       "      <td>0.000000</td>\n",
       "      <td>25.0</td>\n",
       "      <td>0.039124</td>\n",
       "      <td>0.400000</td>\n",
       "      <td>0.666667</td>\n",
       "    </tr>\n",
       "    <tr>\n",
       "      <th>3</th>\n",
       "      <td>Q3b_23</td>\n",
       "      <td>0.833333</td>\n",
       "      <td>0.848485</td>\n",
       "      <td>349.0</td>\n",
       "      <td>0.546166</td>\n",
       "      <td>0.833333</td>\n",
       "      <td>0.822785</td>\n",
       "    </tr>\n",
       "    <tr>\n",
       "      <th>4</th>\n",
       "      <td>Q3b_29</td>\n",
       "      <td>0.347826</td>\n",
       "      <td>0.666667</td>\n",
       "      <td>33.0</td>\n",
       "      <td>0.051643</td>\n",
       "      <td>0.400000</td>\n",
       "      <td>0.000000</td>\n",
       "    </tr>\n",
       "    <tr>\n",
       "      <th>5</th>\n",
       "      <td>Q3b_2</td>\n",
       "      <td>0.000000</td>\n",
       "      <td>0.500000</td>\n",
       "      <td>11.0</td>\n",
       "      <td>0.017214</td>\n",
       "      <td>0.000000</td>\n",
       "      <td>0.000000</td>\n",
       "    </tr>\n",
       "    <tr>\n",
       "      <th>6</th>\n",
       "      <td>Q3b_6</td>\n",
       "      <td>0.686567</td>\n",
       "      <td>0.750000</td>\n",
       "      <td>140.0</td>\n",
       "      <td>0.219092</td>\n",
       "      <td>0.625000</td>\n",
       "      <td>0.640000</td>\n",
       "    </tr>\n",
       "    <tr>\n",
       "      <th>7</th>\n",
       "      <td>Q3b_9</td>\n",
       "      <td>0.714286</td>\n",
       "      <td>0.969697</td>\n",
       "      <td>254.0</td>\n",
       "      <td>0.397496</td>\n",
       "      <td>0.804598</td>\n",
       "      <td>0.697674</td>\n",
       "    </tr>\n",
       "  </tbody>\n",
       "</table>\n",
       "</div>"
      ],
      "text/plain": [
       "        Q     Logit        NH  Count      Frac       SVM     Bayes\n",
       "0  Q3b_11  0.181818  0.400000   47.0  0.073552  0.187500  0.000000\n",
       "1   Q3b_1  0.285714  0.666667   31.0  0.048513  0.222222  0.333333\n",
       "2  Q3b_21  0.500000  0.000000   25.0  0.039124  0.400000  0.666667\n",
       "3  Q3b_23  0.833333  0.848485  349.0  0.546166  0.833333  0.822785\n",
       "4  Q3b_29  0.347826  0.666667   33.0  0.051643  0.400000  0.000000\n",
       "5   Q3b_2  0.000000  0.500000   11.0  0.017214  0.000000  0.000000\n",
       "6   Q3b_6  0.686567  0.750000  140.0  0.219092  0.625000  0.640000\n",
       "7   Q3b_9  0.714286  0.969697  254.0  0.397496  0.804598  0.697674"
      ]
     },
     "execution_count": 19,
     "metadata": {},
     "output_type": "execute_result"
    }
   ],
   "source": [
    "df_3b = GetAllData(df_beta, df_complete, 'Q3b')\n",
    "logitdf_3b = CodeFR(df_3b, 'Q3b', Scoring, CV, 'Logit').rename(columns = {'ML':'Logit'})\n",
    "svmdf_3b = CodeFR(df_3b, 'Q3b', Scoring, CV, 'SVM').rename(columns = {'ML':'SVM'})\n",
    "bayesdf_3b = CodeFR(df_3b, 'Q3b', Scoring, CV, 'NB').rename(columns = {'ML':'Bayes'})\n",
    "dfML_3b = pd.merge(logitdf_3b, svmdf_3b, on = ['Q', 'NH', 'Count', 'Frac']).merge(bayesdf_3b, on = ['Q', 'NH', 'Count', 'Frac'])\n",
    "dfML_3b"
   ]
  },
  {
   "cell_type": "markdown",
   "metadata": {},
   "source": [
    "# Figures"
   ]
  },
  {
   "cell_type": "markdown",
   "metadata": {},
   "source": [
    "## Overall difference in F-scores"
   ]
  },
  {
   "cell_type": "code",
   "execution_count": 67,
   "metadata": {},
   "outputs": [
    {
     "name": "stdout",
     "output_type": "stream",
     "text": [
      "66\n"
     ]
    },
    {
     "data": {
      "image/png": "[encoded data removed]",
      "text/plain": [
       "<Figure size 432x288 with 3 Axes>"
      ]
     },
     "metadata": {},
     "output_type": "display_data"
    }
   ],
   "source": [
    "df_ML = pd.concat([dfML_1b, dfML_1d, dfML_1e, dfML_2b, dfML_2d, dfML_2e, dfML_3b])\n",
    "df_ML['Logit-NH'] = df_ML['Logit'] - df_ML['NH']\n",
    "df_ML['SVM-NH'] = df_ML['SVM'] - df_ML['NH']\n",
    "df_ML['Bayes-NH'] = df_ML['Bayes'] - df_ML['NH']\n",
    "print(len(df_ML))\n",
    "\n",
    "fig, (ax1, ax2, ax3) = plt.subplots(3, 1, sharex = True)\n",
    "ax1.hist(df_ML['Logit-NH'], color = '#2271B2')\n",
    "ax1.set_title('Logistic Regression')\n",
    "\n",
    "ax2.hist(df_ML['SVM-NH'], color = '#D55E00')\n",
    "ax2.set_title('Support Vector Machine')\n",
    "ax2.set_ylabel('Count')\n",
    "\n",
    "ax3.hist(df_ML['Bayes-NH'], color = '#359B73')\n",
    "ax3.set_title('Multinomial Naive Bayes')\n",
    "\n",
    "plt.xlabel('Difference in F-scores between\\n human coders and ML model')\n",
    "matplotlib.rcParams.update({'font.size': 14})\n",
    "plt.subplots_adjust(hspace = 0.36)\n",
    "plt.show()"
   ]
  },
  {
   "cell_type": "markdown",
   "metadata": {},
   "source": [
    "## Difference in F-scores for subset"
   ]
  },
  {
   "cell_type": "code",
   "execution_count": 75,
   "metadata": {},
   "outputs": [
    {
     "name": "stdout",
     "output_type": "stream",
     "text": [
      "15\n",
      "0.8798309260366999\n",
      "0.033379428968129024\n",
      "0.7669249804839416\n",
      "0.016261658931668428\n",
      "0.7666240840889903\n",
      "0.017849765501615725\n",
      "0.7242661640444521\n",
      "0.01880927458997261\n"
     ]
    },
    {
     "data": {
      "image/png": "[encoded data removed]",
      "text/plain": [
       "<Figure size 432x288 with 3 Axes>"
      ]
     },
     "metadata": {},
     "output_type": "display_data"
    }
   ],
   "source": [
    "df_ML_sub = df_ML.loc[df_ML['Frac'] >= 0.2, :]\n",
    "print(len(df_ML_sub))\n",
    "\n",
    "print(df_ML_sub.NH.mean())\n",
    "print(df_ML_sub.NH.std()/np.sqrt(len(df_ML_sub)))\n",
    "\n",
    "print(df_ML_sub.Logit.mean())\n",
    "print(df_ML_sub.Logit.std()/np.sqrt(len(df_ML_sub)))\n",
    "\n",
    "print(df_ML_sub.SVM.mean())\n",
    "print(df_ML_sub.SVM.std()/np.sqrt(len(df_ML_sub)))\n",
    "\n",
    "print(df_ML_sub.Bayes.mean())\n",
    "print(df_ML_sub.Bayes.std()/np.sqrt(len(df_ML_sub)))\n",
    "\n",
    "fig, (ax1, ax2, ax3) = plt.subplots(3, 1, sharex = True)\n",
    "ax1.hist(df_ML_sub['Logit-NH'], color = '#2271B2')\n",
    "ax1.set_title('Logistic Regression')\n",
    "\n",
    "ax2.hist(df_ML_sub['SVM-NH'], color = '#D55E00')\n",
    "ax2.set_title('Support Vector Machine')\n",
    "ax2.set_ylabel('Count')\n",
    "\n",
    "ax3.hist(df_ML_sub['Bayes-NH'], color = '#359B73')\n",
    "ax3.set_title('Multinomial Naive Bayes')\n",
    "\n",
    "plt.xlabel('Difference in F-scores between\\n human coders and ML model')\n",
    "matplotlib.rcParams.update({'font.size': 14})\n",
    "plt.subplots_adjust(hspace = 0.36)\n",
    "plt.show()"
   ]
  }
 ],
 "metadata": {
  "kernelspec": {
   "display_name": "Python 3",
   "language": "python",
   "name": "python3"
  },
  "language_info": {
   "codemirror_mode": {
    "name": "ipython",
    "version": 3
   },
   "file_extension": ".py",
   "mimetype": "text/x-python",
   "name": "python",
   "nbconvert_exporter": "python",
   "pygments_lexer": "ipython3",
   "version": "3.6.10"
  }
 },
 "nbformat": 4,
 "nbformat_minor": 4
}
