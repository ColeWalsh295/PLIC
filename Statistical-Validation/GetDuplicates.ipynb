{
 "cells": [
  {
   "cell_type": "code",
   "execution_count": 1,
   "metadata": {},
   "outputs": [],
   "source": [
    "import os\n",
    "import sys\n",
    "import numpy as np\n",
    "import pandas as pd\n",
    "from glob import glob\n",
    "os.chdir('C:/Users/Cole/Documents/GitHub/PLIC/Automation-Files/')\n",
    "import Valid_Matched\n",
    "import Scoring"
   ]
  },
  {
   "cell_type": "code",
   "execution_count": 2,
   "metadata": {},
   "outputs": [],
   "source": [
    "os.chdir('C:/Users/Cole/Documents/PLIC_DATA/')\n",
    "Weights = pd.read_excel('Weights_May2019.xlsx').transpose()[0]\n",
    "Basedf = pd.read_csv('PLIC_May2019.csv', nrows = 1)\n",
    "MainSurveys_Folder = 'SurveysMay2019/'\n",
    "Questions = ['Q1b', 'Q1d', 'Q1e', 'Q2b', 'Q2d', 'Q2e', 'Q3b', 'Q3d', 'Q3e', 'Q4b']"
   ]
  },
  {
   "cell_type": "code",
   "execution_count": 3,
   "metadata": {},
   "outputs": [
    {
     "name": "stderr",
     "output_type": "stream",
     "text": [
      "C:\\Anaconda3\\lib\\site-packages\\ipykernel_launcher.py:18: FutureWarning: Sorting because non-concatenation axis is not aligned. A future version\n",
      "of pandas will change to not sort by default.\n",
      "\n",
      "To accept the future behavior, pass 'sort=False'.\n",
      "\n",
      "To retain the current behavior and silence the warning, pass 'sort=True'.\n",
      "\n"
     ]
    }
   ],
   "source": [
    "dfs = []\n",
    "files = glob('SurveysMay2019/**/*May2019.csv', recursive = True)\n",
    "for f in files:\n",
    "    df = pd.read_csv(f, skiprows = [1]).dropna(subset = ['Q5b', 'Q5c'])\n",
    "    df = Valid_Matched.Validate(df, 'PRE')\n",
    "    if 'Survey' in df.columns:\n",
    "        df = df.loc[df['Survey'] != 'F']\n",
    "    if df.empty:\n",
    "        continue\n",
    "    df['Q5b'] = df['Q5b'].apply(str).str.lower().str.replace('\\W', '')\n",
    "    df['Q5c'] = df['Q5c'].apply(str).str.lower().str.replace('\\W', '')\n",
    "    df = df.loc[df.duplicated(subset = ['Q5b', 'Q5c'], keep = False), :]\n",
    "    if not df.empty:\n",
    "        df['Time'] = f.split('_')[-4]\n",
    "        df['Class_ID'] = '_'.join(f.split('_')[-3:-1])\n",
    "        dfs.append(df)\n",
    "    \n",
    "df = pd.concat(dfs, axis = 0)"
   ]
  },
  {
   "cell_type": "code",
   "execution_count": 4,
   "metadata": {},
   "outputs": [],
   "source": [
    "df['anon_student_id'] = (df['Q5b'] + df['Q5c'] + df['Time']).astype(str).astype('category').cat.codes\n",
    "df = Scoring.CalcScore(df, Weights)\n",
    "df.to_csv('Collective_Surveys/DuplicatedSurveys.csv', index = False)"
   ]
  }
 ],
 "metadata": {
  "kernelspec": {
   "display_name": "Python 3",
   "language": "python",
   "name": "python3"
  },
  "language_info": {
   "codemirror_mode": {
    "name": "ipython",
    "version": 3
   },
   "file_extension": ".py",
   "mimetype": "text/x-python",
   "name": "python",
   "nbconvert_exporter": "python",
   "pygments_lexer": "ipython3",
   "version": "3.6.10"
  }
 },
 "nbformat": 4,
 "nbformat_minor": 4
}
